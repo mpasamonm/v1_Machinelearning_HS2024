{
 "cells": [
  {
   "cell_type": "markdown",
   "source": [
    "main"
   ],
   "metadata": {
    "collapsed": false
   },
   "id": "c74908bc8ba7d35b"
  },
  {
   "cell_type": "code",
   "outputs": [
    {
     "name": "stdout",
     "output_type": "stream",
     "text": [
      "Requirement already satisfied: pip in /Users/manu/Documents/PyCharmProjects/v1_Machinelearning_HS2024/.venv/lib/python3.12/site-packages (23.2.1)\r\n",
      "Collecting pip\r\n",
      "  Obtaining dependency information for pip from https://files.pythonhosted.org/packages/ef/7d/500c9ad20238fcfcb4cb9243eede163594d7020ce87bd9610c9e02771876/pip-24.3.1-py3-none-any.whl.metadata\r\n",
      "  Downloading pip-24.3.1-py3-none-any.whl.metadata (3.7 kB)\r\n",
      "Downloading pip-24.3.1-py3-none-any.whl (1.8 MB)\r\n",
      "\u001B[2K   \u001B[90m━━━━━━━━━━━━━━━━━━━━━━━━━━━━━━━━━━━━━━━━\u001B[0m \u001B[32m1.8/1.8 MB\u001B[0m \u001B[31m9.3 MB/s\u001B[0m eta \u001B[36m0:00:00\u001B[0ma \u001B[36m0:00:01\u001B[0m\r\n",
      "\u001B[?25hInstalling collected packages: pip\r\n",
      "  Attempting uninstall: pip\r\n",
      "    Found existing installation: pip 23.2.1\r\n",
      "    Uninstalling pip-23.2.1:\r\n",
      "      Successfully uninstalled pip-23.2.1\r\n",
      "Successfully installed pip-24.3.1\r\n",
      "Note: you may need to restart the kernel to use updated packages.\n"
     ]
    }
   ],
   "source": [
    "pip install --upgrade pip"
   ],
   "metadata": {
    "collapsed": false,
    "ExecuteTime": {
     "end_time": "2024-11-18T17:51:31.452667Z",
     "start_time": "2024-11-18T17:51:29.198951Z"
    }
   },
   "id": "d80dd93e31633295",
   "execution_count": 2
  },
  {
   "cell_type": "code",
   "execution_count": 3,
   "id": "initial_id",
   "metadata": {
    "collapsed": true,
    "ExecuteTime": {
     "end_time": "2024-11-18T17:51:42.497648Z",
     "start_time": "2024-11-18T17:51:42.409932Z"
    }
   },
   "outputs": [
    {
     "ename": "ImportError",
     "evalue": "cannot import name 'generate_racks' from 'layout' (/Users/manu/Documents/PyCharmProjects/v1_Machinelearning_HS2024/.venv/lib/python3.12/site-packages/layout/__init__.py)",
     "output_type": "error",
     "traceback": [
      "\u001B[0;31m---------------------------------------------------------------------------\u001B[0m",
      "\u001B[0;31mImportError\u001B[0m                               Traceback (most recent call last)",
      "Cell \u001B[0;32mIn[3], line 1\u001B[0m\n\u001B[0;32m----> 1\u001B[0m \u001B[38;5;28;01mfrom\u001B[39;00m \u001B[38;5;21;01mlayout\u001B[39;00m \u001B[38;5;28;01mimport\u001B[39;00m generate_racks, generate_obstacles\n\u001B[1;32m      2\u001B[0m \u001B[38;5;28;01mfrom\u001B[39;00m \u001B[38;5;21;01mconnections\u001B[39;00m \u001B[38;5;28;01mimport\u001B[39;00m validate_edges\n\u001B[1;32m      3\u001B[0m \u001B[38;5;28;01mfrom\u001B[39;00m \u001B[38;5;21;01mvisualization\u001B[39;00m \u001B[38;5;28;01mimport\u001B[39;00m visualize_graph\n",
      "\u001B[0;31mImportError\u001B[0m: cannot import name 'generate_racks' from 'layout' (/Users/manu/Documents/PyCharmProjects/v1_Machinelearning_HS2024/.venv/lib/python3.12/site-packages/layout/__init__.py)"
     ]
    }
   ],
   "source": [
    "from layout import generate_racks, generate_obstacles\n",
    "from connections import validate_edges\n",
    "from visualization import visualize_graph\n",
    "\n",
    "def main():\n",
    "    # Generate rack polygons and obstacles\n",
    "    rack_polygons, rack_labels = generate_racks(rows=4, cols=4, rack_size=1000, spacing=500)\n",
    "    obstacles = generate_obstacles()\n",
    "\n",
    "    # Validate connections between racks\n",
    "    valid_edges = validate_edges(rack_polygons, obstacles)\n",
    "\n",
    "    # Visualize the graph\n",
    "    visualize_graph(rack_polygons, rack_labels, valid_edges)\n",
    "\n",
    "if __name__ == \"__main__\":\n",
    "    main()\n"
   ]
  },
  {
   "cell_type": "markdown",
   "source": [],
   "metadata": {
    "collapsed": false
   },
   "id": "18fd6ec19e8b48bd"
  },
  {
   "cell_type": "markdown",
   "source": [
    "layout"
   ],
   "metadata": {
    "collapsed": false
   },
   "id": "23622da290751c90"
  },
  {
   "cell_type": "code",
   "outputs": [],
   "source": [
    "from shapely.geometry import Polygon\n",
    "\n",
    "def generate_racks(rows, cols, rack_size=1000, spacing=500):\n",
    "    \"\"\"\n",
    "    Generates rack polygons for a grid layout.\n",
    "    :param rows: Number of rows of racks\n",
    "    :param cols: Number of columns of racks\n",
    "    :param rack_size: Size of each rack in mm (default: 1000)\n",
    "    :param spacing: Spacing between racks in mm (default: 500)\n",
    "    :return: (list of rack polygons, list of rack labels)\n",
    "    \"\"\"\n",
    "    rack_polygons = []\n",
    "    rack_labels = []\n",
    "\n",
    "    for row in range(rows):\n",
    "        for col in range(cols):\n",
    "            # Bottom-left corner\n",
    "            x_start = col * (rack_size + spacing)\n",
    "            y_start = row * (rack_size + spacing)\n",
    "\n",
    "            # Create a polygon\n",
    "            rack_polygon = Polygon([\n",
    "                (x_start, y_start),  # Bottom-left\n",
    "                (x_start, y_start + rack_size),  # Top-left\n",
    "                (x_start + rack_size, y_start + rack_size),  # Top-right\n",
    "                (x_start + rack_size, y_start)  # Bottom-right\n",
    "            ])\n",
    "            rack_polygons.append(rack_polygon)\n",
    "            rack_labels.append(f\"Rack-{row+1}-{col+1}\")\n",
    "\n",
    "    return rack_polygons, rack_labels\n",
    "\n",
    "\n",
    "def generate_obstacles():\n",
    "    \"\"\"\n",
    "    Generate obstacle polygons (e.g., machinery or walls).\n",
    "    :return: List of obstacle polygons\n",
    "    \"\"\"\n",
    "    obstacles = [\n",
    "        Polygon([(2000, 2000), (2000, 2500), (2500, 2500), (2500, 2000)])  # Example obstacle\n",
    "    ]\n",
    "    return obstacles\n"
   ],
   "metadata": {
    "collapsed": false
   },
   "id": "552dea9b7e7165df"
  },
  {
   "cell_type": "markdown",
   "source": [
    "connections"
   ],
   "metadata": {
    "collapsed": false
   },
   "id": "5c3f8f29dd3e3a90"
  },
  {
   "cell_type": "code",
   "outputs": [],
   "source": [
    "from shapely.geometry import LineString\n",
    "\n",
    "def validate_edges(rack_polygons, obstacles):\n",
    "    \"\"\"\n",
    "    Validate edges between rack polygons, avoiding obstacles.\n",
    "    :param rack_polygons: List of rack polygons\n",
    "    :param obstacles: List of obstacle polygons\n",
    "    :return: List of valid edges (tuples of polygon indices)\n",
    "    \"\"\"\n",
    "    valid_edges = []\n",
    "    for i in range(len(rack_polygons)):\n",
    "        for j in range(i + 1, len(rack_polygons)):\n",
    "            # Create a line between centroids of the polygons\n",
    "            line = LineString([rack_polygons[i].centroid, rack_polygons[j].centroid])\n",
    "\n",
    "            # Check if the line intersects any obstacle\n",
    "            if not any(line.intersects(obstacle) for obstacle in obstacles):\n",
    "                valid_edges.append((i, j))\n",
    "\n",
    "    return valid_edges\n"
   ],
   "metadata": {
    "collapsed": false
   },
   "id": "e5d7633329b8602f"
  },
  {
   "cell_type": "markdown",
   "source": [
    "visualization"
   ],
   "metadata": {
    "collapsed": false
   },
   "id": "90140c845a8d0f25"
  },
  {
   "cell_type": "code",
   "outputs": [],
   "source": [
    "import networkx as nx\n",
    "import matplotlib.pyplot as plt\n",
    "\n",
    "def visualize_graph(rack_polygons, rack_labels, valid_edges):\n",
    "    \"\"\"\n",
    "    Visualizes the graph of racks and connections.\n",
    "    :param rack_polygons: List of rack polygons\n",
    "    :param rack_labels: List of rack labels\n",
    "    :param valid_edges: List of valid edges\n",
    "    \"\"\"\n",
    "    # Initialize graph\n",
    "    G = nx.Graph()\n",
    "\n",
    "    # Add nodes (rack labels)\n",
    "    for i, label in enumerate(rack_labels):\n",
    "        G.add_node(i, label=label)\n",
    "\n",
    "    # Add edges\n",
    "    G.add_edges_from(valid_edges)\n",
    "\n",
    "    # Define node positions based on polygon centroids\n",
    "    pos = {i: (rack_polygons[i].centroid.x, rack_polygons[i].centroid.y) for i in range(len(rack_polygons))}\n",
    "\n",
    "    # Draw the graph\n",
    "    nx.draw(G, pos, with_labels=True, node_color='lightblue', node_size=500)\n",
    "    plt.title(\"Warehouse Rack Layout Graph\")\n",
    "    plt.show()\n"
   ],
   "metadata": {
    "collapsed": false
   },
   "id": "fa9f0f2e55d41fd8"
  }
 ],
 "metadata": {
  "kernelspec": {
   "display_name": "Python 3",
   "language": "python",
   "name": "python3"
  },
  "language_info": {
   "codemirror_mode": {
    "name": "ipython",
    "version": 2
   },
   "file_extension": ".py",
   "mimetype": "text/x-python",
   "name": "python",
   "nbconvert_exporter": "python",
   "pygments_lexer": "ipython2",
   "version": "2.7.6"
  }
 },
 "nbformat": 4,
 "nbformat_minor": 5
}
