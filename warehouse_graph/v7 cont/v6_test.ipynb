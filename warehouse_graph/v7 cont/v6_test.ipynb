{
 "cells": [
  {
   "cell_type": "code",
   "execution_count": null,
   "id": "initial_id",
   "metadata": {
    "collapsed": true
   },
   "outputs": [],
   "source": []
  },
  {
   "cell_type": "code",
   "outputs": [],
   "source": [
    "import numpy as np\n",
    "from shapely.geometry import Polygon, LineString\n",
    "import matplotlib.pyplot as plt\n",
    "import networkx as nx\n"
   ],
   "metadata": {
    "collapsed": false
   },
   "id": "cd2e16d3afd5324"
  },
  {
   "cell_type": "code",
   "outputs": [],
   "source": [
    "def generate_storage_locations(rows, cols, rack_width=1000, rack_height=4000, walkway_width=2000):\n",
    "    \"\"\"\n",
    "    Generates rack polygons and storage location vertices.\n",
    "    Each rack has 8 shelves and 10 storage locations per shelf.\n",
    "    :param rows: Number of rows of racks\n",
    "    :param cols: Number of columns of racks\n",
    "    :param rack_width: Width of each rack in mm\n",
    "    :param rack_height: Height of each rack in mm\n",
    "    :param walkway_width: Width of walkways between racks in mm\n",
    "    :return: (list of rack polygons, list of storage locations with labels)\n",
    "    \"\"\"\n",
    "    rack_polygons = []\n",
    "    storage_locations = []  # List of (coordinates, label) tuples\n",
    "\n",
    "    for row in range(rows):\n",
    "        for col in range(cols):\n",
    "            # Bottom-left corner of the rack\n",
    "            x_start = col * (rack_width + walkway_width)\n",
    "            y_start = row * (rack_height + walkway_width)\n",
    "\n",
    "            # Create a polygon for the rack\n",
    "            rack_polygon = Polygon([\n",
    "                (x_start, y_start),  # Bottom-left\n",
    "                (x_start, y_start + rack_height),  # Top-left\n",
    "                (x_start + rack_width, y_start + rack_height),  # Top-right\n",
    "                (x_start + rack_width, y_start)  # Bottom-right\n",
    "            ])\n",
    "            rack_polygons.append(rack_polygon)\n",
    "\n",
    "            # Generate storage locations for this rack\n",
    "            rack_id = f\"{row + 1:02}{col + 1:02}\"  # Rack identifier\n",
    "            shelf_height = rack_height / 8  # Divide rack height into 8 shelves\n",
    "            location_width = rack_width / 10  # Divide rack width into 10 locations\n",
    "\n",
    "            for shelf_idx, shelf_letter in enumerate(\"ABCDEFGH\"):  # 8 shelves\n",
    "                for loc_idx in range(10):  # 10 locations per shelf\n",
    "                    x_loc = x_start + loc_idx * location_width + location_width / 2\n",
    "                    y_loc = y_start + shelf_idx * shelf_height + shelf_height / 2\n",
    "                    label = f\"{rack_id}{shelf_letter}{loc_idx + 1:02}\"\n",
    "                    storage_locations.append(((x_loc, y_loc), label))\n",
    "\n",
    "    return rack_polygons, storage_locations\n",
    "\n",
    "\n",
    "def add_picker_depot(storage_locations, depot_x=0, depot_y=-2000):\n",
    "    \"\"\"\n",
    "    Adds the picker depot as a storage location.\n",
    "    :param storage_locations: List of (coordinates, label) tuples for storage locations\n",
    "    :param depot_x: X-coordinate of the depot\n",
    "    :param depot_y: Y-coordinate of the depot\n",
    "    :return: Updated storage locations, depot label\n",
    "    \"\"\"\n",
    "    depot_label = \"Depot\"\n",
    "    storage_locations.append(((depot_x, depot_y), depot_label))\n",
    "    return storage_locations, depot_label\n"
   ],
   "metadata": {
    "collapsed": false
   },
   "id": "ec942a913ae3b933"
  },
  {
   "cell_type": "code",
   "outputs": [],
   "source": [
    "def generate_weighted_adjacency_matrix_with_labels(storage_locations):\n",
    "    \"\"\"\n",
    "    Generates the weighted adjacency matrix for all storage locations.\n",
    "    :param storage_locations: List of (coordinates, label) tuples\n",
    "    :return: Weighted adjacency matrix, mapping of labels to indices\n",
    "    \"\"\"\n",
    "    N = len(storage_locations)\n",
    "    weightedAdjMat = np.zeros((N, N))  # Initialize matrix\n",
    "    label_to_index = {label: idx for idx, (_, label) in enumerate(storage_locations)}\n",
    "\n",
    "    for i in range(N):\n",
    "        for j in range(i + 1, N):  # Upper triangular matrix\n",
    "            coord_i, _ = storage_locations[i]\n",
    "            coord_j, _ = storage_locations[j]\n",
    "\n",
    "            # Compute Euclidean distance\n",
    "            distance = np.sqrt((coord_i[0] - coord_j[0])**2 + (coord_i[1] - coord_j[1])**2)\n",
    "            weightedAdjMat[i, j] = distance\n",
    "            weightedAdjMat[j, i] = distance  # Symmetric\n",
    "\n",
    "    return weightedAdjMat, label_to_index\n"
   ],
   "metadata": {
    "collapsed": false
   },
   "id": "a053c9901afbbef1"
  },
  {
   "cell_type": "code",
   "outputs": [],
   "source": [],
   "metadata": {
    "collapsed": false
   },
   "id": "8a3eb5b96eb119aa"
  }
 ],
 "metadata": {
  "kernelspec": {
   "display_name": "Python 3",
   "language": "python",
   "name": "python3"
  },
  "language_info": {
   "codemirror_mode": {
    "name": "ipython",
    "version": 2
   },
   "file_extension": ".py",
   "mimetype": "text/x-python",
   "name": "python",
   "nbconvert_exporter": "python",
   "pygments_lexer": "ipython2",
   "version": "2.7.6"
  }
 },
 "nbformat": 4,
 "nbformat_minor": 5
}
