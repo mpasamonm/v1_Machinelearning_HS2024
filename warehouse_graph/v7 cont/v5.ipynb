{
 "cells": [
  {
   "cell_type": "code",
   "execution_count": 1,
   "id": "initial_id",
   "metadata": {
    "collapsed": true,
    "ExecuteTime": {
     "end_time": "2024-11-20T10:57:59.234627Z",
     "start_time": "2024-11-20T10:57:59.212911Z"
    }
   },
   "outputs": [],
   "source": [
    "#with labeling but each label with weight basically\n"
   ]
  },
  {
   "cell_type": "code",
   "outputs": [],
   "source": [
    "import numpy as np\n",
    "from shapely.geometry import Polygon, LineString\n",
    "import matplotlib.pyplot as plt\n",
    "import networkx as nx\n"
   ],
   "metadata": {
    "collapsed": false,
    "ExecuteTime": {
     "end_time": "2024-11-20T10:57:59.585338Z",
     "start_time": "2024-11-20T10:57:59.236361Z"
    }
   },
   "id": "ea2e17c7efcf29c9",
   "execution_count": 2
  },
  {
   "cell_type": "code",
   "outputs": [],
   "source": [
    "def generate_storage_locations(rows, cols, rack_width=1000, rack_height=4000, walkway_width=2000):\n",
    "    \"\"\"\n",
    "    Generates rack polygons and storage location vertices.\n",
    "    Each rack has 8 shelves and 10 storage locations per shelf.\n",
    "    :param rows: Number of rows of racks\n",
    "    :param cols: Number of columns of racks\n",
    "    :param rack_width: Width of each rack in mm\n",
    "    :param rack_height: Height of each rack in mm\n",
    "    :param walkway_width: Width of walkways between racks in mm\n",
    "    :return: (list of rack polygons, list of storage locations with labels)\n",
    "    \"\"\"\n",
    "    rack_polygons = []\n",
    "    storage_locations = []  # List of (coordinates, label) tuples\n",
    "\n",
    "    for row in range(rows):\n",
    "        for col in range(cols):\n",
    "            # Bottom-left corner of the rack\n",
    "            x_start = col * (rack_width + walkway_width)\n",
    "            y_start = row * (rack_height + walkway_width)\n",
    "\n",
    "            # Create a polygon for the rack\n",
    "            rack_polygon = Polygon([\n",
    "                (x_start, y_start),  # Bottom-left\n",
    "                (x_start, y_start + rack_height),  # Top-left\n",
    "                (x_start + rack_width, y_start + rack_height),  # Top-right\n",
    "                (x_start + rack_width, y_start)  # Bottom-right\n",
    "            ])\n",
    "            rack_polygons.append(rack_polygon)\n",
    "\n",
    "            # Generate storage locations for this rack\n",
    "            rack_id = f\"{row + 1:02}{col + 1:02}\"  # Rack identifier\n",
    "            shelf_height = rack_height / 8  # Divide rack height into 8 shelves\n",
    "            location_width = rack_width / 10  # Divide rack width into 10 locations\n",
    "\n",
    "            for shelf_idx, shelf_letter in enumerate(\"ABCDEFGH\"):  # 8 shelves\n",
    "                for loc_idx in range(10):  # 10 locations per shelf\n",
    "                    x_loc = x_start + loc_idx * location_width + location_width / 2\n",
    "                    y_loc = y_start + shelf_idx * shelf_height + shelf_height / 2\n",
    "                    label = f\"{rack_id}{shelf_letter}{loc_idx + 1:02}\"\n",
    "                    storage_locations.append(((x_loc, y_loc), label))\n",
    "\n",
    "    return rack_polygons, storage_locations\n"
   ],
   "metadata": {
    "collapsed": false,
    "ExecuteTime": {
     "end_time": "2024-11-20T10:57:59.592692Z",
     "start_time": "2024-11-20T10:57:59.588247Z"
    }
   },
   "id": "c071d9df96c6f0c1",
   "execution_count": 3
  },
  {
   "cell_type": "code",
   "outputs": [],
   "source": [
    "def add_picker_depot(storage_locations, depot_x=0, depot_y=-2000):\n",
    "    \"\"\"\n",
    "    Adds the picker depot as a storage location.\n",
    "    :param storage_locations: List of (coordinates, label) tuples for storage locations\n",
    "    :param depot_x: X-coordinate of the depot\n",
    "    :param depot_y: Y-coordinate of the depot\n",
    "    :return: Updated storage locations, depot label\n",
    "    \"\"\"\n",
    "    depot_label = \"Depot\"\n",
    "    storage_locations.append(((depot_x, depot_y), depot_label))\n",
    "    return storage_locations, depot_label\n"
   ],
   "metadata": {
    "collapsed": false,
    "ExecuteTime": {
     "end_time": "2024-11-20T10:57:59.593029Z",
     "start_time": "2024-11-20T10:57:59.591139Z"
    }
   },
   "id": "baa64377bb185f6d",
   "execution_count": 4
  },
  {
   "cell_type": "code",
   "outputs": [],
   "source": [
    "def generate_weighted_adjacency_matrix_with_labels(storage_locations):\n",
    "    \"\"\"\n",
    "    Generates the weighted adjacency matrix for all storage locations.\n",
    "    :param storage_locations: List of (coordinates, label) tuples\n",
    "    :return: Weighted adjacency matrix, mapping of labels to indices\n",
    "    \"\"\"\n",
    "    N = len(storage_locations)\n",
    "    weightedAdjMat = np.zeros((N, N))  # Initialize matrix\n",
    "    label_to_index = {label: idx for idx, (_, label) in enumerate(storage_locations)}\n",
    "\n",
    "    for i in range(N):\n",
    "        for j in range(i + 1, N):  # Upper triangular matrix\n",
    "            coord_i, _ = storage_locations[i]\n",
    "            coord_j, _ = storage_locations[j]\n",
    "\n",
    "            # Compute Euclidean distance\n",
    "            distance = np.sqrt((coord_i[0] - coord_j[0])**2 + (coord_i[1] - coord_j[1])**2)\n",
    "            weightedAdjMat[i, j] = distance\n",
    "            weightedAdjMat[j, i] = distance  # Symmetric\n",
    "\n",
    "    return weightedAdjMat, label_to_index\n"
   ],
   "metadata": {
    "collapsed": false,
    "ExecuteTime": {
     "end_time": "2024-11-20T10:57:59.597189Z",
     "start_time": "2024-11-20T10:57:59.594061Z"
    }
   },
   "id": "b5fb61d81f9a35e9",
   "execution_count": 5
  },
  {
   "cell_type": "code",
   "outputs": [],
   "source": [
    "def construct_weighted_graph_with_labels(storage_locations, weightedAdjMat):\n",
    "    \"\"\"\n",
    "    Constructs a weighted graph using NetworkX.\n",
    "    :param storage_locations: List of (coordinates, label) tuples\n",
    "    :param weightedAdjMat: Weighted adjacency matrix\n",
    "    :return: NetworkX graph\n",
    "    \"\"\"\n",
    "    G = nx.Graph()\n",
    "\n",
    "    # Add nodes\n",
    "    for idx, (coord, label) in enumerate(storage_locations):\n",
    "        G.add_node(idx, pos=coord, label=label)\n",
    "\n",
    "    # Add edges with weights\n",
    "    N = len(storage_locations)\n",
    "    for i in range(N):\n",
    "        for j in range(i + 1, N):\n",
    "            if weightedAdjMat[i, j] > 0:  # Add edges only for valid distances\n",
    "                G.add_edge(i, j, weight=weightedAdjMat[i, j])\n",
    "\n",
    "    return G\n",
    "\n",
    "\n",
    "def visualize_weighted_graph_with_labels(G):\n",
    "    \"\"\"\n",
    "    Visualizes the weighted graph with labels for nodes and edges.\n",
    "    :param G: NetworkX graph\n",
    "    \"\"\"\n",
    "    pos = nx.get_node_attributes(G, 'pos')\n",
    "    labels = nx.get_node_attributes(G, 'label')\n",
    "    edge_labels = nx.get_edge_attributes(G, 'weight')\n",
    "\n",
    "    # Draw graph\n",
    "    plt.figure(figsize=(15, 12))\n",
    "    nx.draw(G, pos, with_labels=True, labels=labels, node_color='lightblue', node_size=500, font_size=8)\n",
    "    nx.draw_networkx_edge_labels(\n",
    "        G, pos, edge_labels={(u, v): f\"{d['weight']:.2f}\" for u, v, d in G.edges(data=True)}\n",
    "    )\n",
    "    plt.title(\"Storage Location Graph with Weighted Edges\")\n",
    "    plt.show()\n"
   ],
   "metadata": {
    "collapsed": false,
    "ExecuteTime": {
     "end_time": "2024-11-20T10:57:59.600446Z",
     "start_time": "2024-11-20T10:57:59.598518Z"
    }
   },
   "id": "3bf7d4d418814967",
   "execution_count": 6
  },
  {
   "cell_type": "code",
   "outputs": [],
   "source": [],
   "metadata": {
    "collapsed": false,
    "ExecuteTime": {
     "end_time": "2024-11-20T10:57:59.603590Z",
     "start_time": "2024-11-20T10:57:59.600419Z"
    }
   },
   "id": "f136167bd5dee7ef",
   "execution_count": 6
  },
  {
   "cell_type": "code",
   "outputs": [],
   "source": [
    "# Define warehouse layout parameters\n",
    "rows = 4\n",
    "cols = 5\n",
    "rack_width = 1000\n",
    "rack_height = 4000\n",
    "walkway_width = 2000\n",
    "\n",
    "# Generate racks and storage locations\n",
    "rack_polygons, storage_locations = generate_storage_locations(rows, cols, rack_width, rack_height, walkway_width)\n",
    "\n",
    "# Add picker depot\n",
    "storage_locations, depot_label = add_picker_depot(storage_locations)\n",
    "\n",
    "# Generate weighted adjacency matrix\n",
    "weightedAdjMat, label_to_index = generate_weighted_adjacency_matrix_with_labels(storage_locations)\n",
    "\n",
    "# Construct the weighted graph\n",
    "G = construct_weighted_graph_with_labels(storage_locations, weightedAdjMat)\n",
    "\n",
    "# Visualize the weighted graph\n",
    "visualize_weighted_graph_with_labels(G)\n"
   ],
   "metadata": {
    "collapsed": false,
    "is_executing": true,
    "ExecuteTime": {
     "start_time": "2024-11-20T10:57:59.633229Z"
    }
   },
   "id": "233583259091627e"
  },
  {
   "cell_type": "markdown",
   "source": [
    "perfect, now I would like to integrate ranking logic for each pick position for use in an Warehouse management system, based on the distance to the depot. use the code you have just provided to iterate"
   ],
   "metadata": {
    "collapsed": false
   },
   "id": "c23e6b1f61b27dc1"
  },
  {
   "cell_type": "code",
   "outputs": [],
   "source": [
    "\n",
    "def rank_storage_locations_by_distance(storage_locations, depot_label, weightedAdjMat, label_to_index):\n",
    "    \"\"\"\n",
    "    Ranks storage locations based on the shortest distance to the depot.\n",
    "    :param storage_locations: List of (coordinates, label) tuples\n",
    "    :param depot_label: Label of the picker depot\n",
    "    :param weightedAdjMat: Weighted adjacency matrix\n",
    "    :param label_to_index: Mapping of labels to indices\n",
    "    :return: List of ranked locations [(label, distance, rank)]\n",
    "    \"\"\"\n",
    "    depot_index = label_to_index[depot_label]  # Index of the depot in the adjacency matrix\n",
    "\n",
    "    # Retrieve all distances from the depot\n",
    "    distances = [\n",
    "        (storage_locations[i][1], weightedAdjMat[depot_index][i])  # (label, distance)\n",
    "        for i in range(len(storage_locations))\n",
    "    ]\n",
    "\n",
    "    # Sort by distance (ascending)\n",
    "    distances.sort(key=lambda x: x[1])\n",
    "\n",
    "    # Assign rank based on sorted order\n",
    "    ranked_locations = [(label, dist, rank + 1) for rank, (label, dist) in enumerate(distances)]\n",
    "\n",
    "    return ranked_locations\n",
    "\n",
    "def visualize_ranked_storage_locations(ranked_locations):\n",
    "    \"\"\"\n",
    "    Displays the ranked storage locations and distances.\n",
    "    :param ranked_locations: List of ranked locations [(label, distance, rank)]\n",
    "    \"\"\"\n",
    "    print(f\"{'Rank':<5} {'Location':<10} {'Distance (mm)':<15}\")\n",
    "    print(\"-\" * 30)\n",
    "    for rank, (label, distance, _) in enumerate(ranked_locations):\n",
    "        print(f\"{rank + 1:<5} {label:<10} {distance:.2f}\")\n",
    "\n",
    "# Define warehouse layout parameters\n",
    "rows = 4\n",
    "cols = 5\n",
    "rack_width = 1000\n",
    "rack_height = 4000\n",
    "walkway_width = 2000\n",
    "\n",
    "# Generate racks and storage locations\n",
    "rack_polygons, storage_locations = generate_storage_locations(rows, cols, rack_width, rack_height, walkway_width)\n",
    "\n",
    "# Add picker depot\n",
    "storage_locations, depot_label = add_picker_depot(storage_locations)\n",
    "\n",
    "# Generate weighted adjacency matrix\n",
    "weightedAdjMat, label_to_index = generate_weighted_adjacency_matrix_with_labels(storage_locations)\n",
    "\n",
    "# Construct the weighted graph\n",
    "G = construct_weighted_graph_with_labels(storage_locations, weightedAdjMat)\n",
    "\n",
    "# Rank storage locations by shortest distance to the depot\n",
    "ranked_locations = rank_storage_locations_by_distance(storage_locations, depot_label, weightedAdjMat, label_to_index)\n",
    "\n",
    "# Visualize the ranked storage locations\n",
    "visualize_ranked_storage_locations(ranked_locations)\n",
    "\n",
    "# Visualize the weighted graph (optional)\n",
    "visualize_weighted_graph_with_labels(G)\n"
   ],
   "metadata": {
    "collapsed": false,
    "is_executing": true
   },
   "id": "abb7641ba4c3ad32"
  },
  {
   "cell_type": "code",
   "outputs": [],
   "source": [],
   "metadata": {
    "collapsed": false,
    "is_executing": true
   },
   "id": "56fb26566996c998"
  }
 ],
 "metadata": {
  "kernelspec": {
   "display_name": "Python 3",
   "language": "python",
   "name": "python3"
  },
  "language_info": {
   "codemirror_mode": {
    "name": "ipython",
    "version": 2
   },
   "file_extension": ".py",
   "mimetype": "text/x-python",
   "name": "python",
   "nbconvert_exporter": "python",
   "pygments_lexer": "ipython2",
   "version": "2.7.6"
  }
 },
 "nbformat": 4,
 "nbformat_minor": 5
}
