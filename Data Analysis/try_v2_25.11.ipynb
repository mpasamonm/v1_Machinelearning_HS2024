{
 "cells": [
  {
   "cell_type": "code",
   "id": "initial_id",
   "metadata": {
    "collapsed": true,
    "ExecuteTime": {
     "end_time": "2024-11-25T19:57:51.458874Z",
     "start_time": "2024-11-25T19:56:13.835026Z"
    }
   },
   "source": [
    "import pandas as pd\n",
    "# Define columns to load and optimize data types for memory efficiency\n",
    "#columns_to_use = ['SRC_Z']  # Adjust as needed\n",
    "#dtypes = {'SRC_Z': 'string'}  # Specify data types for memory efficiency\n",
    "\n",
    "# List of columns to keep (ran into memory issues...)\n",
    "columns_to_keep = [\n",
    "    \"WORNUM\", \"STATUS\", \"SRC_ITEM\", \"SRC_LOT\", \"SRC_QACODE\", \"DST_LOT\",\n",
    "    \"DST_QACODE\", \"SRC_WA\", \"SRC_X\", \"SRC_Y\", \"SRC_Z\", \"DST_WA\",\n",
    "    \"LISNUM\", \"SUMLIS\", \"TRNNUM\", \"CRTDAT\", \"TRNDAT\", \"USERID\", \"LOADDAT\"\n",
    "]\n",
    "\n",
    "dtypes = {\n",
    "    \"WORNUM\": \"int32\",\n",
    "    \"STATUS\": \"int32\",\n",
    "    \"MOVTYP\": \"category\",\n",
    "    \"MOVKEY\": \"category\",\n",
    "    \"SRC_ITEM\": \"category\",\n",
    "    \"SRC_LOT\": \"string\",\n",
    "    \"SRC_QACODE\": \"category\",\n",
    "    \"DST_LOT\": \"string\",\n",
    "    \"DST_QACODE\": \"category\",\n",
    "    \"SRC_WA\": \"category\",\n",
    "    \"SRC_X\": \"category\",\n",
    "    \"SRC_Y\": \"category\",\n",
    "    \"SRC_Z\": \"category\",\n",
    "    \"DST_WA\": \"category\",\n",
    "    \"CONQTY\": \"int32\",\n",
    "    \"OUTNUM\": \"int32\",\n",
    "    \"RELNUM\": \"int32\",\n",
    "    \"LISNUM\": \"int32\",\n",
    "    \"SUMLIS\": \"int32\",\n",
    "    \"TRNNUM\": \"int32\",\n",
    "    \"USERID\": \"category\",\n",
    "}\n",
    "\n",
    "# Load the CSV with optimized settings, and only load necessary cols\n",
    "df = pd.read_csv(\n",
    "    '../Data/bewegungen.csv',\n",
    "    usecols=columns_to_keep,  # Only load the specified columns\n",
    "    dtype=dtypes,\n",
    "    #usecols=columns_to_use,  # Only load required columns\n",
    "    #dtype=dtypes,            # Use optimized data types\n",
    "    parse_dates=[\"CRTDAT\", \"TRNDAT\", \"LOADDAT\"],\n",
    "    low_memory=False\n",
    ")\n",
    "\n",
    "print(df.info(memory_usage=\"deep\"))\n",
    "# Clean SRC_LOT column\n",
    "#df['SRC_LOT'] = df['SRC_LOT'].fillna('').astype(str)  # Handle NaNs and convert to string\n",
    "#df['SRC_LOT'] = df['SRC_LOT'].apply(lambda x: '0' if x == '000' else x.lstrip('0'))  # Remove leading zeros\n",
    "#df['SRC_LOT'] = df['SRC_LOT'].apply(lambda x: x if x.isdigit() and len(x) <= 3 else None)  # Validate format\n",
    "\n",
    "# Clean DST_LOT column\n",
    "#df['DST_LOT'] = df['DST_LOT'].fillna('').astype(str)  # Handle NaNs and convert to string\n",
    "#df['DST_LOT'] = df['DST_LOT'].apply(lambda x: '0' if x == '000' else x.lstrip('0'))  # Remove leading zeros\n",
    "#df['DST_LOT'] = df['DST_LOT'].apply(lambda x: x if x.isdigit() and len(x) <= 3 else None)  # Validate format\n",
    "\n",
    "# Clean \n",
    "\n",
    "# Columns to drop\n",
    "#columns_to_drop = [\"DST_X\", \"DST_Y\", \"DST_Z\", \"REQQTY\"] #RequiredQuant not used as per now\n",
    "\n",
    "# Drop the columns from the DataFrame\n",
    "#df = df.drop(columns=columns_to_drop)\n",
    "\n",
    "# Confirm the columns are dropped\n",
    "#for chunk in df:\n",
    "    #print(chunk.info())\n",
    "\n",
    "# set dtype after all corrections \n",
    "# Assuming `df` is the cleaned DataFrame\n",
    "\n",
    "\n",
    "# Drop rows with invalid SRC_LOT values\n",
    "#df = df[df['SRC_LOT'].notna()]\n",
    "\n",
    "# Save the cleaned DataFrame\n",
    "#df.to_csv('../Data/cleaned_bewegungen.csv', index=False)\n",
    "\n",
    "#print(f\"Cleaned data saved to '../Data/cleaned_bewegungen.csv'\")\n"
   ],
   "outputs": [
    {
     "name": "stdout",
     "output_type": "stream",
     "text": [
      "<class 'pandas.core.frame.DataFrame'>\n",
      "RangeIndex: 20094145 entries, 0 to 20094144\n",
      "Data columns (total 19 columns):\n",
      " #   Column      Dtype         \n",
      "---  ------      -----         \n",
      " 0   WORNUM      int32         \n",
      " 1   STATUS      int32         \n",
      " 2   SRC_ITEM    category      \n",
      " 3   SRC_LOT     string        \n",
      " 4   SRC_QACODE  category      \n",
      " 5   DST_LOT     string        \n",
      " 6   DST_QACODE  category      \n",
      " 7   SRC_WA      category      \n",
      " 8   SRC_X       category      \n",
      " 9   SRC_Y       category      \n",
      " 10  SRC_Z       category      \n",
      " 11  DST_WA      category      \n",
      " 12  LISNUM      int32         \n",
      " 13  SUMLIS      int32         \n",
      " 14  TRNNUM      int32         \n",
      " 15  CRTDAT      datetime64[ns]\n",
      " 16  TRNDAT      datetime64[ns]\n",
      " 17  USERID      category      \n",
      " 18  LOADDAT     datetime64[ns]\n",
      "dtypes: category(9), datetime64[ns](3), int32(5), string(2)\n",
      "memory usage: 3.4 GB\n",
      "None\n"
     ]
    }
   ],
   "execution_count": 20
  },
  {
   "metadata": {
    "ExecuteTime": {
     "end_time": "2024-11-25T20:00:09.347702Z",
     "start_time": "2024-11-25T20:00:09.334878Z"
    }
   },
   "cell_type": "code",
   "source": [
    "# Get the number of rows in the DataFrame\n",
    "num_rows = len(df)\n",
    "print(f\"Number of rows: {num_rows}\")\n"
   ],
   "id": "ff75be06fa0ec432",
   "outputs": [
    {
     "name": "stdout",
     "output_type": "stream",
     "text": [
      "Number of rows: 20094145\n"
     ]
    }
   ],
   "execution_count": 21
  },
  {
   "metadata": {},
   "cell_type": "markdown",
   "source": "# clean columns dst_lot and src_lot",
   "id": "f022cc90f1d2a038"
  },
  {
   "cell_type": "code",
   "source": [
    "# Clean SRC_LOT column\n",
    "df['SRC_LOT'] = df['SRC_LOT'].fillna('').astype(str)  # Handle NaNs and convert to string\n",
    "df['SRC_LOT'] = df['SRC_LOT'].apply(lambda x: '0' if x == '000' else x.lstrip('0'))  # Remove leading zeros\n",
    "df['SRC_LOT'] = df['SRC_LOT'].apply(lambda x: x if x.isdigit() and len(x) <= 3 else None)  # Validate format\n",
    "\n",
    "# Clean DST_LOT column\n",
    "df['DST_LOT'] = df['DST_LOT'].fillna('').astype(str)  # Handle NaNs and convert to string\n",
    "df['DST_LOT'] = df['DST_LOT'].apply(lambda x: '0' if x == '000' else x.lstrip('0'))  # Remove leading zeros\n",
    "df['DST_LOT'] = df['DST_LOT'].apply(lambda x: x if x.isdigit() and len(x) <= 3 else None)  # Validate format\n",
    "\n",
    "# Clean STATUS column (10= Offen, 50= Bestätigt, 95= Storniert -- for my purposes I'm only interested in \"Bestätigt\" rows.\n",
    "# Filter the DataFrame to keep only rows with status == 50\n",
    "df = df[df['STATUS'] == 50]\n",
    "\n",
    "# Remove rows where USER == 'LXONE'\n",
    "df = df[df['USER'] != 'LXONE']\n"
   ],
   "metadata": {
    "collapsed": false,
    "ExecuteTime": {
     "end_time": "2024-11-25T20:00:39.698148Z",
     "start_time": "2024-11-25T20:00:11.700460Z"
    }
   },
   "id": "96331f2be73a67c9",
   "outputs": [],
   "execution_count": 22
  },
  {
   "metadata": {
    "ExecuteTime": {
     "end_time": "2024-11-25T20:12:43.463149Z",
     "start_time": "2024-11-25T20:12:43.418038Z"
    }
   },
   "cell_type": "code",
   "source": "",
   "id": "fd65b67630fabf2c",
   "outputs": [
    {
     "ename": "AttributeError",
     "evalue": "'DataFrame' object has no attribute 'len'",
     "output_type": "error",
     "traceback": [
      "\u001B[1;31m---------------------------------------------------------------------------\u001B[0m",
      "\u001B[1;31mAttributeError\u001B[0m                            Traceback (most recent call last)",
      "\u001B[1;32m~\\AppData\\Local\\Temp\\ipykernel_14808\\2813958285.py\u001B[0m in \u001B[0;36m<module>\u001B[1;34m\u001B[0m\n\u001B[1;32m----> 1\u001B[1;33m \u001B[0mdf\u001B[0m\u001B[1;33m.\u001B[0m\u001B[0mlen\u001B[0m\u001B[1;33m(\u001B[0m\u001B[1;33m)\u001B[0m\u001B[1;33m\u001B[0m\u001B[1;33m\u001B[0m\u001B[0m\n\u001B[0m",
      "\u001B[1;32m~\\AppData\\Local\\Packages\\PythonSoftwareFoundation.Python.3.7_qbz5n2kfra8p0\\LocalCache\\local-packages\\Python37\\site-packages\\pandas\\core\\generic.py\u001B[0m in \u001B[0;36m__getattr__\u001B[1;34m(self, name)\u001B[0m\n\u001B[0;32m   5485\u001B[0m         ):\n\u001B[0;32m   5486\u001B[0m             \u001B[1;32mreturn\u001B[0m \u001B[0mself\u001B[0m\u001B[1;33m[\u001B[0m\u001B[0mname\u001B[0m\u001B[1;33m]\u001B[0m\u001B[1;33m\u001B[0m\u001B[1;33m\u001B[0m\u001B[0m\n\u001B[1;32m-> 5487\u001B[1;33m         \u001B[1;32mreturn\u001B[0m \u001B[0mobject\u001B[0m\u001B[1;33m.\u001B[0m\u001B[0m__getattribute__\u001B[0m\u001B[1;33m(\u001B[0m\u001B[0mself\u001B[0m\u001B[1;33m,\u001B[0m \u001B[0mname\u001B[0m\u001B[1;33m)\u001B[0m\u001B[1;33m\u001B[0m\u001B[1;33m\u001B[0m\u001B[0m\n\u001B[0m\u001B[0;32m   5488\u001B[0m \u001B[1;33m\u001B[0m\u001B[0m\n\u001B[0;32m   5489\u001B[0m     \u001B[1;32mdef\u001B[0m \u001B[0m__setattr__\u001B[0m\u001B[1;33m(\u001B[0m\u001B[0mself\u001B[0m\u001B[1;33m,\u001B[0m \u001B[0mname\u001B[0m\u001B[1;33m:\u001B[0m \u001B[0mstr\u001B[0m\u001B[1;33m,\u001B[0m \u001B[0mvalue\u001B[0m\u001B[1;33m)\u001B[0m \u001B[1;33m->\u001B[0m \u001B[1;32mNone\u001B[0m\u001B[1;33m:\u001B[0m\u001B[1;33m\u001B[0m\u001B[1;33m\u001B[0m\u001B[0m\n",
      "\u001B[1;31mAttributeError\u001B[0m: 'DataFrame' object has no attribute 'len'"
     ]
    }
   ],
   "execution_count": 33
  },
  {
   "metadata": {
    "ExecuteTime": {
     "end_time": "2024-11-25T20:05:17.192204Z",
     "start_time": "2024-11-25T20:05:17.181099Z"
    }
   },
   "cell_type": "code",
   "source": "df.info()",
   "id": "e94866cb1f0ad486",
   "outputs": [
    {
     "name": "stdout",
     "output_type": "stream",
     "text": [
      "<class 'pandas.core.frame.DataFrame'>\n",
      "Int64Index: 20063155 entries, 0 to 20094144\n",
      "Data columns (total 19 columns):\n",
      " #   Column      Dtype         \n",
      "---  ------      -----         \n",
      " 0   WORNUM      int32         \n",
      " 1   STATUS      int32         \n",
      " 2   SRC_ITEM    category      \n",
      " 3   SRC_LOT     object        \n",
      " 4   SRC_QACODE  category      \n",
      " 5   DST_LOT     object        \n",
      " 6   DST_QACODE  category      \n",
      " 7   SRC_WA      category      \n",
      " 8   SRC_X       category      \n",
      " 9   SRC_Y       category      \n",
      " 10  SRC_Z       category      \n",
      " 11  DST_WA      category      \n",
      " 12  LISNUM      int32         \n",
      " 13  SUMLIS      int32         \n",
      " 14  TRNNUM      int32         \n",
      " 15  CRTDAT      datetime64[ns]\n",
      " 16  TRNDAT      datetime64[ns]\n",
      " 17  USERID      category      \n",
      " 18  LOADDAT     datetime64[ns]\n",
      "dtypes: category(9), datetime64[ns](3), int32(5), object(2)\n",
      "memory usage: 1.6+ GB\n"
     ]
    }
   ],
   "execution_count": 27
  },
  {
   "metadata": {
    "ExecuteTime": {
     "end_time": "2024-11-25T20:12:59.572658Z",
     "start_time": "2024-11-25T20:12:59.560822Z"
    }
   },
   "cell_type": "code",
   "source": [
    "# Get the number of rows in the DataFrame\n",
    "num_rows = len(df)\n",
    "print(f\"Number of rows: {num_rows}\")\n"
   ],
   "id": "66f2cca33df65fdf",
   "outputs": [
    {
     "name": "stdout",
     "output_type": "stream",
     "text": [
      "Number of rows: 19677442\n"
     ]
    }
   ],
   "execution_count": 34
  },
  {
   "metadata": {},
   "cell_type": "markdown",
   "source": "# [ignore] drop not needed columns // #already did this part by only importing specified colums",
   "id": "30f967e6d6fa2269"
  },
  {
   "metadata": {
    "ExecuteTime": {
     "end_time": "2024-11-25T17:07:23.022928Z",
     "start_time": "2024-11-25T17:07:20.765672Z"
    }
   },
   "cell_type": "code",
   "source": [
    "# Columns to drop\n",
    "columns_to_drop = [\"MOVNUM\", \"DST_X\", \"DST_Y\", \"DST_Z\", \"REQQTY\", \"VOLREQ\", \"VOLPIC\", \"MOVTYP\", \"MOVKEY\", \"INCNUM\", \"INCLIN\"] #RequiredQuant not used as per now\n",
    "\n",
    "# Drop the columns from the DataFrame\n",
    "df = df.drop(columns=columns_to_drop)\n",
    "\n",
    "# Confirm the columns are dropped\n",
    "print(df.info())"
   ],
   "id": "7c8091bff8b896d4",
   "outputs": [
    {
     "name": "stdout",
     "output_type": "stream",
     "text": [
      "<class 'pandas.core.frame.DataFrame'>\n",
      "RangeIndex: 20094145 entries, 0 to 20094144\n",
      "Data columns (total 27 columns):\n",
      " #   Column      Dtype         \n",
      "---  ------      -----         \n",
      " 0   MOVNUM      int64         \n",
      " 1   WORNUM      int64         \n",
      " 2   STATUS      int64         \n",
      " 3   MOVTYP      object        \n",
      " 4   MOVKEY      object        \n",
      " 5   SRC_ITEM    int64         \n",
      " 6   SRC_LOT     object        \n",
      " 7   SRC_QACODE  object        \n",
      " 8   DST_LOT     object        \n",
      " 9   DST_QACODE  object        \n",
      " 10  SRC_WA      object        \n",
      " 11  SRC_X       object        \n",
      " 12  SRC_Y       object        \n",
      " 13  SRC_Z       object        \n",
      " 14  DST_WA      object        \n",
      " 15  CONQTY      int64         \n",
      " 16  INCNUM      int64         \n",
      " 17  INCLIN      int64         \n",
      " 18  OUTNUM      int64         \n",
      " 19  RELNUM      int64         \n",
      " 20  LISNUM      int64         \n",
      " 21  SUMLIS      int64         \n",
      " 22  TRNNUM      int64         \n",
      " 23  CRTDAT      datetime64[ns]\n",
      " 24  TRNDAT      datetime64[ns]\n",
      " 25  USERID      object        \n",
      " 26  LOADDAT     object        \n",
      "dtypes: datetime64[ns](2), int64(12), object(13)\n",
      "memory usage: 4.0+ GB\n",
      "None\n"
     ]
    }
   ],
   "execution_count": 5
  },
  {
   "metadata": {},
   "cell_type": "code",
   "outputs": [],
   "execution_count": null,
   "source": "",
   "id": "c9db067e56165846"
  },
  {
   "cell_type": "markdown",
   "source": "# then add final correct astype after all cleaning operations",
   "metadata": {
    "collapsed": false
   },
   "id": "22261603f0098e86"
  },
  {
   "cell_type": "code",
   "source": [
    "#following list is not complete\n",
    "\n",
    "df = df.astype({\n",
    "    \"SRC_LOT\": \"category\",\n",
    "    \"DST_LOT\": \"category\",\n",
    "})"
   ],
   "metadata": {
    "collapsed": false,
    "ExecuteTime": {
     "end_time": "2024-11-25T20:06:10.517686Z",
     "start_time": "2024-11-25T20:06:08.655113Z"
    }
   },
   "id": "e11d00dd270de9e8",
   "outputs": [],
   "execution_count": 28
  },
  {
   "metadata": {
    "ExecuteTime": {
     "end_time": "2024-11-25T20:06:12.164277Z",
     "start_time": "2024-11-25T20:06:12.147438Z"
    }
   },
   "cell_type": "code",
   "source": [
    "# final control if all types are set\n",
    "df.info()"
   ],
   "id": "99b2fd0db39ddee2",
   "outputs": [
    {
     "name": "stdout",
     "output_type": "stream",
     "text": [
      "<class 'pandas.core.frame.DataFrame'>\n",
      "Int64Index: 20063155 entries, 0 to 20094144\n",
      "Data columns (total 19 columns):\n",
      " #   Column      Dtype         \n",
      "---  ------      -----         \n",
      " 0   WORNUM      int32         \n",
      " 1   STATUS      int32         \n",
      " 2   SRC_ITEM    category      \n",
      " 3   SRC_LOT     category      \n",
      " 4   SRC_QACODE  category      \n",
      " 5   DST_LOT     category      \n",
      " 6   DST_QACODE  category      \n",
      " 7   SRC_WA      category      \n",
      " 8   SRC_X       category      \n",
      " 9   SRC_Y       category      \n",
      " 10  SRC_Z       category      \n",
      " 11  DST_WA      category      \n",
      " 12  LISNUM      int32         \n",
      " 13  SUMLIS      int32         \n",
      " 14  TRNNUM      int32         \n",
      " 15  CRTDAT      datetime64[ns]\n",
      " 16  TRNDAT      datetime64[ns]\n",
      " 17  USERID      category      \n",
      " 18  LOADDAT     datetime64[ns]\n",
      "dtypes: category(11), datetime64[ns](3), int32(5)\n",
      "memory usage: 1.3 GB\n",
      "None\n"
     ]
    }
   ],
   "execution_count": 29
  },
  {
   "metadata": {},
   "cell_type": "markdown",
   "source": "",
   "id": "d7cc404b19d9622b"
  },
  {
   "cell_type": "markdown",
   "source": [
    "view df\n"
   ],
   "metadata": {
    "collapsed": false
   },
   "id": "84e45979b92a0043"
  },
  {
   "metadata": {},
   "cell_type": "markdown",
   "source": [
    "# Data Analysis: check unique values and distributions (maybe move somewhere else)\n",
    "found out that UserID LXONE had the highest distribition - this is a SystemUser and therefor should be excluded"
   ],
   "id": "b9a6bbd3a5f2bd5b"
  },
  {
   "cell_type": "code",
   "source": [
    "# VIEW UNIQUE VALUES for specific column\n",
    "unique_values_count = df['SRC_X'].nunique()\n",
    "print(f\"Number of unique values in cleaned DST_LOT: {unique_values_count}\")\n",
    "unique_values = df['SRC_X'].unique()\n",
    "print(f\"Cleaned unique values in DST_LOT: {unique_values}\")"
   ],
   "metadata": {
    "collapsed": false,
    "ExecuteTime": {
     "end_time": "2024-11-25T19:30:00.754564Z",
     "start_time": "2024-11-25T19:30:00.739449Z"
    }
   },
   "id": "37c9e4f9a724ce90",
   "outputs": [
    {
     "ename": "TypeError",
     "evalue": "'TextFileReader' object is not subscriptable",
     "output_type": "error",
     "traceback": [
      "\u001B[1;31m---------------------------------------------------------------------------\u001B[0m",
      "\u001B[1;31mTypeError\u001B[0m                                 Traceback (most recent call last)",
      "\u001B[1;32m~\\AppData\\Local\\Temp\\ipykernel_14808\\2462416441.py\u001B[0m in \u001B[0;36m<module>\u001B[1;34m\u001B[0m\n\u001B[0;32m      1\u001B[0m \u001B[1;31m# VIEW UNIQUE VALUES\u001B[0m\u001B[1;33m\u001B[0m\u001B[1;33m\u001B[0m\u001B[1;33m\u001B[0m\u001B[0m\n\u001B[1;32m----> 2\u001B[1;33m \u001B[0munique_values_count\u001B[0m \u001B[1;33m=\u001B[0m \u001B[0mdf\u001B[0m\u001B[1;33m[\u001B[0m\u001B[1;34m'SRC_X'\u001B[0m\u001B[1;33m]\u001B[0m\u001B[1;33m.\u001B[0m\u001B[0mnunique\u001B[0m\u001B[1;33m(\u001B[0m\u001B[1;33m)\u001B[0m\u001B[1;33m\u001B[0m\u001B[1;33m\u001B[0m\u001B[0m\n\u001B[0m\u001B[0;32m      3\u001B[0m \u001B[0mprint\u001B[0m\u001B[1;33m(\u001B[0m\u001B[1;34mf\"Number of unique values in cleaned DST_LOT: {unique_values_count}\"\u001B[0m\u001B[1;33m)\u001B[0m\u001B[1;33m\u001B[0m\u001B[1;33m\u001B[0m\u001B[0m\n\u001B[0;32m      4\u001B[0m \u001B[0munique_values\u001B[0m \u001B[1;33m=\u001B[0m \u001B[0mdf\u001B[0m\u001B[1;33m[\u001B[0m\u001B[1;34m'SRC_X'\u001B[0m\u001B[1;33m]\u001B[0m\u001B[1;33m.\u001B[0m\u001B[0munique\u001B[0m\u001B[1;33m(\u001B[0m\u001B[1;33m)\u001B[0m\u001B[1;33m\u001B[0m\u001B[1;33m\u001B[0m\u001B[0m\n\u001B[0;32m      5\u001B[0m \u001B[0mprint\u001B[0m\u001B[1;33m(\u001B[0m\u001B[1;34mf\"Cleaned unique values in DST_LOT: {unique_values}\"\u001B[0m\u001B[1;33m)\u001B[0m\u001B[1;33m\u001B[0m\u001B[1;33m\u001B[0m\u001B[0m\n",
      "\u001B[1;31mTypeError\u001B[0m: 'TextFileReader' object is not subscriptable"
     ]
    }
   ],
   "execution_count": 7
  },
  {
   "cell_type": "code",
   "source": [
    "import pandas as pd\n",
    "\n",
    "# Assuming `df` is your DataFrame\n",
    "for column in df.columns:\n",
    "    print(f\"Distribution of unique values in column: {column}\")\n",
    "    print(df[column].value_counts())  # Count occurrences of each unique value\n",
    "    print(\"-\" * 50)  # Separator for readability\n",
    "\n"
   ],
   "metadata": {
    "collapsed": false,
    "ExecuteTime": {
     "end_time": "2024-11-25T20:13:18.825990Z",
     "start_time": "2024-11-25T20:13:06.137915Z"
    }
   },
   "id": "1c463ea0098bc8bf",
   "outputs": [
    {
     "name": "stdout",
     "output_type": "stream",
     "text": [
      "Distribution of unique values in column: WORNUM\n",
      "289678987    1\n",
      "251742346    1\n",
      "251644736    1\n",
      "251650856    1\n",
      "251633841    1\n",
      "            ..\n",
      "190249200    1\n",
      "190249198    1\n",
      "190249196    1\n",
      "190249194    1\n",
      "326807027    1\n",
      "Name: WORNUM, Length: 19677442, dtype: int64\n",
      "--------------------------------------------------\n",
      "Distribution of unique values in column: STATUS\n",
      "50    19677442\n",
      "Name: STATUS, dtype: int64\n",
      "--------------------------------------------------\n",
      "Distribution of unique values in column: SRC_ITEM\n",
      "12119574    22583\n",
      "45683121     8688\n",
      "42875222     8212\n",
      "37671777     8149\n",
      "18089785     7629\n",
      "            ...  \n",
      "15373685        0\n",
      "32897063        0\n",
      "34836104        0\n",
      "34835958        0\n",
      "30167214        0\n",
      "Name: SRC_ITEM, Length: 914671, dtype: int64\n",
      "--------------------------------------------------\n",
      "Distribution of unique values in column: SRC_LOT\n",
      "1      15984175\n",
      "0       1762460\n",
      "2        749870\n",
      "3        362855\n",
      "4        226203\n",
      "         ...   \n",
      "45           57\n",
      "77           50\n",
      "35           38\n",
      "51           13\n",
      "223           1\n",
      "Name: SRC_LOT, Length: 72, dtype: int64\n",
      "--------------------------------------------------\n",
      "Distribution of unique values in column: SRC_QACODE\n",
      "H    19677423\n",
      "Q          18\n",
      "R           1\n",
      "S           0\n",
      "Name: SRC_QACODE, dtype: int64\n",
      "--------------------------------------------------\n",
      "Distribution of unique values in column: DST_LOT\n",
      "1      15984180\n",
      "0       1762460\n",
      "2        749870\n",
      "3        362855\n",
      "4        226203\n",
      "         ...   \n",
      "45           57\n",
      "77           45\n",
      "35           38\n",
      "51           13\n",
      "223           1\n",
      "Name: DST_LOT, Length: 72, dtype: int64\n",
      "--------------------------------------------------\n",
      "Distribution of unique values in column: DST_QACODE\n",
      "H    19677423\n",
      "Q          18\n",
      "R           1\n",
      "S           0\n",
      "Name: DST_QACODE, dtype: int64\n",
      "--------------------------------------------------\n",
      "Distribution of unique values in column: SRC_WA\n",
      "EG    19491880\n",
      "WE      167139\n",
      "WA       18378\n",
      "AU          45\n",
      "QK           0\n",
      "UM           0\n",
      "Name: SRC_WA, dtype: int64\n",
      "--------------------------------------------------\n",
      "Distribution of unique values in column: SRC_X\n",
      "2402    233713\n",
      "2403    221013\n",
      "2410    211031\n",
      "1780    194190\n",
      "0001    185517\n",
      "         ...  \n",
      "3004         0\n",
      "2530         0\n",
      "2702         0\n",
      "R            0\n",
      "S            0\n",
      "Name: SRC_X, Length: 707, dtype: int64\n",
      "--------------------------------------------------\n",
      "Distribution of unique values in column: SRC_Y\n",
      "03      2463365\n",
      "02      2402429\n",
      "04      2174272\n",
      "06      1917039\n",
      "05      1823764\n",
      "         ...   \n",
      "54          101\n",
      "86           65\n",
      "68           27\n",
      "LM            7\n",
      "0002          0\n",
      "Name: SRC_Y, Length: 96, dtype: int64\n",
      "--------------------------------------------------\n",
      "Distribution of unique values in column: SRC_Z\n",
      "A01    1698562\n",
      "D01     492165\n",
      "D02     479828\n",
      "C01     478982\n",
      "C02     475894\n",
      "        ...   \n",
      "M13          1\n",
      "M12          1\n",
      "M11          1\n",
      "M10          1\n",
      "O04          1\n",
      "Name: SRC_Z, Length: 295, dtype: int64\n",
      "--------------------------------------------------\n",
      "Distribution of unique values in column: DST_WA\n",
      "WA    19677442\n",
      "Name: DST_WA, dtype: int64\n",
      "--------------------------------------------------\n",
      "Distribution of unique values in column: LISNUM\n",
      "146935130    1842\n",
      "154217339     852\n",
      "131192391     503\n",
      "147620163     464\n",
      "145763621     418\n",
      "             ... \n",
      "206643002       1\n",
      "206642934       1\n",
      "206642955       1\n",
      "206643016       1\n",
      "326807901       1\n",
      "Name: LISNUM, Length: 10316639, dtype: int64\n",
      "--------------------------------------------------\n",
      "Distribution of unique values in column: SUMLIS\n",
      "146935129    1842\n",
      "154217343     852\n",
      "285241798     676\n",
      "282762526     595\n",
      "284134532     569\n",
      "             ... \n",
      "283928372       1\n",
      "262329909       1\n",
      "283908742       1\n",
      "262498465       1\n",
      "326744041       1\n",
      "Name: SUMLIS, Length: 2709804, dtype: int64\n",
      "--------------------------------------------------\n",
      "Distribution of unique values in column: TRNNUM\n",
      "160000112    423\n",
      "847566722    259\n",
      "127034680    200\n",
      "219387435    198\n",
      "374636558    186\n",
      "            ... \n",
      "871944041      1\n",
      "872062593      1\n",
      "872063859      1\n",
      "872049848      1\n",
      "990730927      1\n",
      "Name: TRNNUM, Length: 19438261, dtype: int64\n",
      "--------------------------------------------------\n",
      "Distribution of unique values in column: CRTDAT\n",
      "2024-05-03 01:04:56    84\n",
      "2024-05-03 01:05:00    84\n",
      "2024-05-03 01:04:59    83\n",
      "2024-05-07 07:08:18    83\n",
      "2024-06-04 08:45:12    83\n",
      "                       ..\n",
      "2023-02-01 07:00:54     1\n",
      "2023-02-01 07:01:06     1\n",
      "2023-02-01 07:01:29     1\n",
      "2023-02-01 07:05:32     1\n",
      "2024-11-15 14:05:20     1\n",
      "Name: CRTDAT, Length: 2058192, dtype: int64\n",
      "--------------------------------------------------\n",
      "Distribution of unique values in column: TRNDAT\n",
      "2024-03-01 13:53:37    26\n",
      "2024-02-27 13:41:48    24\n",
      "2024-06-18 15:55:56    23\n",
      "2024-08-09 16:28:57    23\n",
      "2024-07-03 15:56:54    23\n",
      "                       ..\n",
      "2023-05-17 17:38:37     1\n",
      "2023-05-17 10:33:22     1\n",
      "2023-05-17 08:00:00     1\n",
      "2023-05-17 09:08:03     1\n",
      "2024-11-15 13:38:19     1\n",
      "Name: TRNDAT, Length: 13903910, dtype: int64\n",
      "--------------------------------------------------\n",
      "Distribution of unique values in column: USERID\n",
      "CANZIANI      293224\n",
      "158426        278360\n",
      "168390        269740\n",
      "158267        251486\n",
      "165480        246176\n",
      "               ...  \n",
      "158300             1\n",
      "PASAMONTES         1\n",
      "MUQAJADM           1\n",
      "AQCON              0\n",
      "LXONE              0\n",
      "Name: USERID, Length: 426, dtype: int64\n",
      "--------------------------------------------------\n",
      "Distribution of unique values in column: LOADDAT\n",
      "2023-01-12 15:32:45.312000    1860154\n",
      "2023-04-13 10:04:16.898000    1664660\n",
      "2023-01-12 15:15:55.097000    1653413\n",
      "2023-01-12 15:24:34.160000    1646439\n",
      "2023-01-23 10:19:20.088000     844674\n",
      "                               ...   \n",
      "2024-05-20 00:52:27.970478         10\n",
      "2024-01-29 09:55:35.932000         10\n",
      "2024-05-31 00:52:23.341005         10\n",
      "2024-11-04 01:53:49.200059          8\n",
      "2023-10-30 01:52:23.966000          2\n",
      "Name: LOADDAT, Length: 409, dtype: int64\n",
      "--------------------------------------------------\n"
     ]
    }
   ],
   "execution_count": 35
  },
  {
   "cell_type": "code",
   "outputs": [],
   "source": [],
   "metadata": {
    "collapsed": false
   },
   "id": "eda2f9bebf0be5ad",
   "execution_count": null
  }
 ],
 "metadata": {
  "kernelspec": {
   "display_name": "Python 3",
   "language": "python",
   "name": "python3"
  },
  "language_info": {
   "codemirror_mode": {
    "name": "ipython",
    "version": 2
   },
   "file_extension": ".py",
   "mimetype": "text/x-python",
   "name": "python",
   "nbconvert_exporter": "python",
   "pygments_lexer": "ipython2",
   "version": "2.7.6"
  }
 },
 "nbformat": 4,
 "nbformat_minor": 5
}
