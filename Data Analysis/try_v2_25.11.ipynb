{
 "cells": [
  {
   "cell_type": "code",
   "execution_count": 25,
   "id": "initial_id",
   "metadata": {
    "collapsed": true,
    "ExecuteTime": {
     "end_time": "2024-11-25T16:12:33.745531Z",
     "start_time": "2024-11-25T15:10:57.849434Z"
    }
   },
   "outputs": [
    {
     "name": "stdout",
     "output_type": "stream",
     "text": [
      "<class 'pandas.core.frame.DataFrame'>\n",
      "RangeIndex: 20094145 entries, 0 to 20094144\n",
      "Data columns (total 29 columns):\n",
      " #   Column      Dtype         \n",
      "---  ------      -----         \n",
      " 0   MOVNUM      int64         \n",
      " 1   WORNUM      int64         \n",
      " 2   STATUS      int64         \n",
      " 3   MOVTYP      object        \n",
      " 4   MOVKEY      object        \n",
      " 5   SRC_ITEM    int64         \n",
      " 6   SRC_LOT     object        \n",
      " 7   SRC_QACODE  object        \n",
      " 8   DST_LOT     object        \n",
      " 9   DST_QACODE  object        \n",
      " 10  SRC_WA      object        \n",
      " 11  SRC_X       object        \n",
      " 12  SRC_Y       object        \n",
      " 13  SRC_Z       object        \n",
      " 14  DST_WA      object        \n",
      " 15  CONQTY      int64         \n",
      " 16  INCNUM      int64         \n",
      " 17  INCLIN      int64         \n",
      " 18  OUTNUM      int64         \n",
      " 19  RELNUM      int64         \n",
      " 20  LISNUM      int64         \n",
      " 21  SUMLIS      int64         \n",
      " 22  TRNNUM      int64         \n",
      " 23  CRTDAT      datetime64[ns]\n",
      " 24  TRNDAT      datetime64[ns]\n",
      " 25  USERID      object        \n",
      " 26  VOLREQ      int64         \n",
      " 27  VOLPIC      float64       \n",
      " 28  LOADDAT     object        \n",
      "dtypes: datetime64[ns](2), float64(1), int64(13), object(13)\n",
      "memory usage: 4.3+ GB\n",
      "None\n"
     ]
    }
   ],
   "source": [
    "import pandas as pd\n",
    "#6,8,11,12 -> src lot_ dst lot same_ \n",
    "# Define columns to load and optimize data types for memory efficiency\n",
    "#columns_to_use = ['SRC_Z']  # Adjust as needed\n",
    "#dtypes = {'SRC_Z': 'string'}  # Specify data types for memory efficiency\n",
    "\n",
    "# Load the CSV with optimized settings\n",
    "df = pd.read_csv(\n",
    "    '../Data/bewegungen.csv',\n",
    "    #usecols=columns_to_use,  # Only load required columns\n",
    "    #dtype=dtypes,            # Use optimized data types\n",
    "    low_memory=False,         # Prevent memory fragmentation\n",
    "    parse_dates=[\"CRTDAT\", \"TRNDAT\"]\n",
    ")\n",
    "\n",
    "# Clean SRC_LOT column\n",
    "#df['SRC_LOT'] = df['SRC_LOT'].fillna('').astype(str)  # Handle NaNs and convert to string\n",
    "#df['SRC_LOT'] = df['SRC_LOT'].apply(lambda x: '0' if x == '000' else x.lstrip('0'))  # Remove leading zeros\n",
    "#df['SRC_LOT'] = df['SRC_LOT'].apply(lambda x: x if x.isdigit() and len(x) <= 3 else None)  # Validate format\n",
    "\n",
    "# Clean DST_LOT column\n",
    "#df['DST_LOT'] = df['DST_LOT'].fillna('').astype(str)  # Handle NaNs and convert to string\n",
    "#df['DST_LOT'] = df['DST_LOT'].apply(lambda x: '0' if x == '000' else x.lstrip('0'))  # Remove leading zeros\n",
    "#df['DST_LOT'] = df['DST_LOT'].apply(lambda x: x if x.isdigit() and len(x) <= 3 else None)  # Validate format\n",
    "\n",
    "# Clean \n",
    "\n",
    "# Columns to drop\n",
    "columns_to_drop = [\"DST_X\", \"DST_Y\", \"DST_Z\", \"REQQTY\"] #RequiredQuant not used as per now\n",
    "\n",
    "# Drop the columns from the DataFrame\n",
    "df = df.drop(columns=columns_to_drop)\n",
    "\n",
    "# Confirm the columns are dropped\n",
    "print(df.info())\n",
    "\n",
    "# set dtype after all corrections \n",
    "# Assuming `df` is the cleaned DataFrame\n",
    "\n",
    "\n",
    "# Drop rows with invalid SRC_LOT values\n",
    "#df = df[df['SRC_LOT'].notna()]\n",
    "\n",
    "# Save the cleaned DataFrame\n",
    "#df.to_csv('../Data/cleaned_bewegungen.csv', index=False)\n",
    "\n",
    "#print(f\"Cleaned data saved to '../Data/cleaned_bewegungen.csv'\")\n"
   ]
  },
  {
   "cell_type": "code",
   "outputs": [],
   "source": [
    "# Clean SRC_Z\n",
    "df['DST_LOT'] = df['DST_LOT'].fillna('').astype(str)  # Handle NaNs and convert to string\n",
    "df['DST_LOT'] = df['DST_LOT'].apply(lambda x: '0' if x == '000' else x.lstrip('0'))  # Remove leading zeros\n",
    "df['DST_LOT'] = df['DST_LOT'].apply(lambda x: x if x.isdigit() and len(x) <= 3 else None)  # Validate format"
   ],
   "metadata": {
    "collapsed": false,
    "ExecuteTime": {
     "end_time": "2024-11-25T14:42:46.024642Z",
     "start_time": "2024-11-25T14:42:41.652030Z"
    }
   },
   "id": "96331f2be73a67c9",
   "execution_count": 9
  },
  {
   "cell_type": "markdown",
   "source": [
    "then add final correct astype after all cleaning operations"
   ],
   "metadata": {
    "collapsed": false
   },
   "id": "22261603f0098e86"
  },
  {
   "cell_type": "code",
   "outputs": [],
   "source": [
    "df = df.astype({\n",
    "    \"MOVNUM\": \"int64\",\n",
    "    \"WORNUM\": \"int64\",\n",
    "    \"STATUS\": \"category\",\n",
    "    \"MOVTYP\": \"category\",\n",
    "    \"MOVKEY\": \"category\",\n",
    "    \"SRC_ITEM\": \"category\",\n",
    "    \"SRC_LOT\": \"category\",\n",
    "    \"SRC_QACODE\": \"category\",\n",
    "    \"DST_LOT\": \"category\",\n",
    "    \"DST_QACODE\": \"category\",\n",
    "    \"SRC_WA\": \"category\",\n",
    "    \"DST_WA\": \"category\",\n",
    "    \"SRC_X\": \"object\",\n",
    "    \"SRC_Y\": \"object\",\n",
    "    \"SRC_Z\": \"category\",\n",
    "    \"DST_X\": \"object\", # not needed, als destinations are the same for picks\n",
    "    \"DST_Y\": \"object\",\n",
    "    \"DST_Z\": \"category\",\n",
    "    \"REQQTY\": \"int64\",\n",
    "    \"CONQTY\": \"int64\",\n",
    "    \"INCNUM\": \"int64\",\n",
    "    \"LISNUM\": \"int64\",\n",
    "    \"USERID\": \"category\",\n",
    "})"
   ],
   "metadata": {
    "collapsed": false
   },
   "id": "e11d00dd270de9e8"
  },
  {
   "cell_type": "markdown",
   "source": [
    "view df\n"
   ],
   "metadata": {
    "collapsed": false
   },
   "id": "84e45979b92a0043"
  },
  {
   "cell_type": "code",
   "outputs": [
    {
     "data": {
      "text/plain": "  SRC_Z\n0   D15\n1   E03\n2   F13\n3   C03\n4   G05",
      "text/html": "<div>\n<style scoped>\n    .dataframe tbody tr th:only-of-type {\n        vertical-align: middle;\n    }\n\n    .dataframe tbody tr th {\n        vertical-align: top;\n    }\n\n    .dataframe thead th {\n        text-align: right;\n    }\n</style>\n<table border=\"1\" class=\"dataframe\">\n  <thead>\n    <tr style=\"text-align: right;\">\n      <th></th>\n      <th>SRC_Z</th>\n    </tr>\n  </thead>\n  <tbody>\n    <tr>\n      <th>0</th>\n      <td>D15</td>\n    </tr>\n    <tr>\n      <th>1</th>\n      <td>E03</td>\n    </tr>\n    <tr>\n      <th>2</th>\n      <td>F13</td>\n    </tr>\n    <tr>\n      <th>3</th>\n      <td>C03</td>\n    </tr>\n    <tr>\n      <th>4</th>\n      <td>G05</td>\n    </tr>\n  </tbody>\n</table>\n</div>"
     },
     "execution_count": 23,
     "metadata": {},
     "output_type": "execute_result"
    }
   ],
   "source": [
    "df.head()"
   ],
   "metadata": {
    "collapsed": false,
    "ExecuteTime": {
     "end_time": "2024-11-25T15:02:37.646198Z",
     "start_time": "2024-11-25T15:02:37.329665Z"
    }
   },
   "id": "abe6fab6ac86f5bb",
   "execution_count": 23
  },
  {
   "cell_type": "code",
   "outputs": [
    {
     "name": "stdout",
     "output_type": "stream",
     "text": [
      "<class 'pandas.core.frame.DataFrame'>\n",
      "RangeIndex: 20094145 entries, 0 to 20094144\n",
      "Data columns (total 1 columns):\n",
      " #   Column  Dtype \n",
      "---  ------  ----- \n",
      " 0   SRC_Z   string\n",
      "dtypes: string(1)\n",
      "memory usage: 153.3 MB\n"
     ]
    }
   ],
   "source": [
    "df.info()"
   ],
   "metadata": {
    "collapsed": false,
    "ExecuteTime": {
     "end_time": "2024-11-25T14:49:13.594676Z",
     "start_time": "2024-11-25T14:49:13.441291Z"
    }
   },
   "id": "399e3abdec08686d",
   "execution_count": 19
  },
  {
   "cell_type": "code",
   "outputs": [
    {
     "name": "stdout",
     "output_type": "stream",
     "text": [
      "Number of unique values in cleaned DST_LOT: 295\n",
      "Cleaned unique values in DST_LOT: <StringArray>\n",
      "[ 'D15',  'E03',  'F13',  'C03',  'G05', 'BA05',  'C07',  'F03',  'B04',\n",
      "  'A05',\n",
      " ...\n",
      "  'O03', 'AA08', 'AA04',  'O01',  'A30',  'A21',  'A19',  'A22',  'A20',\n",
      "  'O04']\n",
      "Length: 295, dtype: string\n"
     ]
    }
   ],
   "source": [
    "# VIEW UNIQUE VALUES\n",
    "unique_values_count = df['SRC_Z'].nunique()\n",
    "print(f\"Number of unique values in cleaned DST_LOT: {unique_values_count}\")\n",
    "unique_values = df['SRC_Z'].unique()\n",
    "print(f\"Cleaned unique values in DST_LOT: {unique_values}\")"
   ],
   "metadata": {
    "collapsed": false,
    "ExecuteTime": {
     "end_time": "2024-11-25T14:49:28.127059Z",
     "start_time": "2024-11-25T14:49:27.120898Z"
    }
   },
   "id": "37c9e4f9a724ce90",
   "execution_count": 21
  },
  {
   "cell_type": "code",
   "outputs": [
    {
     "name": "stdout",
     "output_type": "stream",
     "text": [
      "Distribution of unique values in column: SRC_Z\n",
      "SRC_Z\n",
      "A01     1704018\n",
      "001      571090\n",
      "D01      492729\n",
      "D02      480394\n",
      "C01      479614\n",
      "         ...   \n",
      "M11           1\n",
      "M10           1\n",
      "M13           1\n",
      "MA08          1\n",
      "O04           1\n",
      "Name: count, Length: 295, dtype: Int64\n",
      "--------------------------------------------------\n"
     ]
    }
   ],
   "source": [
    "import pandas as pd\n",
    "\n",
    "# Assuming `df` is your DataFrame\n",
    "for column in df.columns:\n",
    "    print(f\"Distribution of unique values in column: {column}\")\n",
    "    print(df[column].value_counts())  # Count occurrences of each unique value\n",
    "    print(\"-\" * 50)  # Separator for readability\n",
    "\n"
   ],
   "metadata": {
    "collapsed": false,
    "ExecuteTime": {
     "end_time": "2024-11-25T14:49:46.783795Z",
     "start_time": "2024-11-25T14:49:46.163856Z"
    }
   },
   "id": "1c463ea0098bc8bf",
   "execution_count": 22
  },
  {
   "cell_type": "code",
   "outputs": [],
   "source": [],
   "metadata": {
    "collapsed": false
   },
   "id": "eda2f9bebf0be5ad"
  }
 ],
 "metadata": {
  "kernelspec": {
   "display_name": "Python 3",
   "language": "python",
   "name": "python3"
  },
  "language_info": {
   "codemirror_mode": {
    "name": "ipython",
    "version": 2
   },
   "file_extension": ".py",
   "mimetype": "text/x-python",
   "name": "python",
   "nbconvert_exporter": "python",
   "pygments_lexer": "ipython2",
   "version": "2.7.6"
  }
 },
 "nbformat": 4,
 "nbformat_minor": 5
}
