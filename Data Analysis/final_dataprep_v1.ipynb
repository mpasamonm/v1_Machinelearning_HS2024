{
 "cells": [
  {
   "metadata": {},
   "cell_type": "code",
   "outputs": [],
   "execution_count": null,
   "source": [
    "# consolidated :::\n",
    "import pandas as pd\n",
    "# List of columns to keep (ran into memory issues...)\n",
    "columns_to_keep = [\n",
    "    \"WORNUM\", \"STATUS\", \"SRC_ITEM\", \"SRC_LOT\", \"SRC_QACODE\", \"DST_LOT\",\n",
    "    \"DST_QACODE\", \"SRC_WA\", \"SRC_X\", \"SRC_Y\", \"SRC_Z\", \"DST_WA\",\n",
    "    \"LISNUM\", \"SUMLIS\", \"TRNNUM\", \"CRTDAT\", \"TRNDAT\", \"USERID\", \"LOADDAT\"\n",
    "]\n",
    "\n",
    "dtypes = {\n",
    "    \"WORNUM\": \"int32\",\n",
    "    \"STATUS\": \"int32\",\n",
    "    \"MOVTYP\": \"category\",\n",
    "    \"MOVKEY\": \"category\",\n",
    "    \"SRC_ITEM\": \"category\",\n",
    "    \"SRC_LOT\": \"string\",\n",
    "    \"SRC_QACODE\": \"category\",\n",
    "    \"DST_LOT\": \"string\",\n",
    "    \"DST_QACODE\": \"category\",\n",
    "    \"SRC_WA\": \"category\",\n",
    "    \"SRC_X\": \"category\",\n",
    "    \"SRC_Y\": \"category\",\n",
    "    \"SRC_Z\": \"category\",\n",
    "    \"DST_WA\": \"category\",\n",
    "    \"CONQTY\": \"int32\",\n",
    "    \"OUTNUM\": \"int32\",\n",
    "    \"RELNUM\": \"int32\",\n",
    "    \"LISNUM\": \"int32\",\n",
    "    \"SUMLIS\": \"int32\",\n",
    "    \"TRNNUM\": \"int32\",\n",
    "    \"USERID\": \"category\",\n",
    "}\n",
    "\n",
    "# Load the CSV with optimized settings, and only load necessary cols\n",
    "df_bewegungen = pd.read_csv(\n",
    "    '../Data/bewegungen.csv',\n",
    "    usecols=columns_to_keep,  # Only load the specified columns\n",
    "    dtype=dtypes,\n",
    "    #usecols=columns_to_use,  # Only load required columns\n",
    "    #dtype=dtypes,            # Use optimized data types\n",
    "    parse_dates=[\"CRTDAT\", \"TRNDAT\", \"LOADDAT\"],\n",
    "    low_memory=False\n",
    ")\n",
    "\n",
    "# Clean SRC_LOT column (Column \"Artikelcharge\", this LOT usually is a 3 digit int. An Article can have multiple LOTs. I simplify by removing leading zeros and clean up the column from wrong manual usererrors.\n",
    "df_bewegungen['SRC_LOT'] = df_bewegungen['SRC_LOT'].fillna('').astype(str)  # Handle NaNs and convert to string\n",
    "df_bewegungen['SRC_LOT'] = df_bewegungen['SRC_LOT'].apply(lambda x: '0' if x == '000' else x.lstrip('0'))  # Remove leading zeros\n",
    "df_bewegungen['SRC_LOT'] = df_bewegungen['SRC_LOT'].apply(lambda x: x if x.isdigit() and len(x) <= 3 else None)  # Validate format\n",
    "\n",
    "# Clean DST_LOT column\n",
    "df_bewegungen['DST_LOT'] = df_bewegungen['DST_LOT'].fillna('').astype(str)  # Handle NaNs and convert to string\n",
    "df_bewegungen['DST_LOT'] = df_bewegungen['DST_LOT'].apply(lambda x: '0' if x == '000' else x.lstrip('0'))  # Remove leading zeros\n",
    "df_bewegungen['DST_LOT'] = df_bewegungen['DST_LOT'].apply(lambda x: x if x.isdigit() and len(x) <= 3 else None)  # Validate format\n",
    "\n",
    "# Clean STATUS column (10= Offen, 50= Bestätigt, 95= Storniert -- for my purposes I'm only interested in \"Bestätigt\" rows.\n",
    "# Filter the DataFrame to keep only rows with status == 50 (abgeschlossen)\n",
    "df = df_bewegungen[df_bewegungen['STATUS'] == 50]\n",
    "\n",
    "# Remove rows where USER == 'LXONE'\n",
    "df = df[df['USERID'] != 'LXONE']\n",
    "\n",
    "df_bewegungen = df_bewegungen.astype({\n",
    "    \"SRC_LOT\": \"category\",\n",
    "    \"DST_LOT\": \"category\",\n",
    "})\n",
    "# :::"
   ],
   "id": "d2baab37446da966"
  },
  {
   "cell_type": "code",
   "id": "initial_id",
   "metadata": {
    "collapsed": true,
    "ExecuteTime": {
     "end_time": "2024-11-27T07:50:56.185297Z",
     "start_time": "2024-11-27T07:48:51.695645Z"
    }
   },
   "source": [
    "import pandas as pd\n",
    "# Define columns to load and optimize data types for memory efficiency\n",
    "#columns_to_use = ['SRC_Z']  # Adjust as needed\n",
    "#dtypes = {'SRC_Z': 'string'}  # Specify data types for memory efficiency\n",
    "\n",
    "# List of columns to keep (ran into memory issues...)\n",
    "columns_to_keep = [\n",
    "    \"WORNUM\", \"STATUS\", \"SRC_ITEM\", \"SRC_LOT\", \"SRC_QACODE\", \"DST_LOT\",\n",
    "    \"DST_QACODE\", \"SRC_WA\", \"SRC_X\", \"SRC_Y\", \"SRC_Z\", \"DST_WA\",\n",
    "    \"LISNUM\", \"SUMLIS\", \"TRNNUM\", \"CRTDAT\", \"TRNDAT\", \"USERID\", \"LOADDAT\"\n",
    "]\n",
    "\n",
    "dtypes = {\n",
    "    \"WORNUM\": \"int32\",\n",
    "    \"STATUS\": \"int32\",\n",
    "    \"MOVTYP\": \"category\",\n",
    "    \"MOVKEY\": \"category\",\n",
    "    \"SRC_ITEM\": \"category\",\n",
    "    \"SRC_LOT\": \"string\",\n",
    "    \"SRC_QACODE\": \"category\",\n",
    "    \"DST_LOT\": \"string\",\n",
    "    \"DST_QACODE\": \"category\",\n",
    "    \"SRC_WA\": \"category\",\n",
    "    \"SRC_X\": \"category\",\n",
    "    \"SRC_Y\": \"category\",\n",
    "    \"SRC_Z\": \"category\",\n",
    "    \"DST_WA\": \"category\",\n",
    "    \"CONQTY\": \"int32\",\n",
    "    \"OUTNUM\": \"int32\",\n",
    "    \"RELNUM\": \"int32\",\n",
    "    \"LISNUM\": \"int32\",\n",
    "    \"SUMLIS\": \"int32\",\n",
    "    \"TRNNUM\": \"int32\",\n",
    "    \"USERID\": \"category\",\n",
    "}\n",
    "\n",
    "# Load the CSV with optimized settings, and only load necessary cols\n",
    "df_bewegungen = pd.read_csv(\n",
    "    '../Data/bewegungen.csv',\n",
    "    usecols=columns_to_keep,  # Only load the specified columns\n",
    "    dtype=dtypes,\n",
    "    #usecols=columns_to_use,  # Only load required columns\n",
    "    #dtype=dtypes,            # Use optimized data types\n",
    "    parse_dates=[\"CRTDAT\", \"TRNDAT\", \"LOADDAT\"],\n",
    "    low_memory=False\n",
    ")\n",
    "\n",
    "print(df_bewegungen.info(memory_usage=\"deep\"))\n",
    "# Clean SRC_LOT column\n",
    "#df['SRC_LOT'] = df['SRC_LOT'].fillna('').astype(str)  # Handle NaNs and convert to string\n",
    "#df['SRC_LOT'] = df['SRC_LOT'].apply(lambda x: '0' if x == '000' else x.lstrip('0'))  # Remove leading zeros\n",
    "#df['SRC_LOT'] = df['SRC_LOT'].apply(lambda x: x if x.isdigit() and len(x) <= 3 else None)  # Validate format\n",
    "\n",
    "# Clean DST_LOT column\n",
    "#df['DST_LOT'] = df['DST_LOT'].fillna('').astype(str)  # Handle NaNs and convert to string\n",
    "#df['DST_LOT'] = df['DST_LOT'].apply(lambda x: '0' if x == '000' else x.lstrip('0'))  # Remove leading zeros\n",
    "#df['DST_LOT'] = df['DST_LOT'].apply(lambda x: x if x.isdigit() and len(x) <= 3 else None)  # Validate format\n",
    "\n",
    "# Clean \n",
    "\n",
    "# Columns to drop\n",
    "#columns_to_drop = [\"DST_X\", \"DST_Y\", \"DST_Z\", \"REQQTY\"] #RequiredQuant not used as per now\n",
    "\n",
    "# Drop the columns from the DataFrame\n",
    "#df = df.drop(columns=columns_to_drop)\n",
    "\n",
    "# Confirm the columns are dropped\n",
    "#for chunk in df:\n",
    "    #print(chunk.info())\n",
    "\n",
    "# set dtype after all corrections \n",
    "# Assuming `df` is the cleaned DataFrame\n",
    "\n",
    "\n",
    "# Drop rows with invalid SRC_LOT values\n",
    "#df = df[df['SRC_LOT'].notna()]\n",
    "\n",
    "# Save the cleaned DataFrame\n",
    "#df.to_csv('../Data/cleaned_bewegungen.csv', index=False)\n",
    "\n",
    "#print(f\"Cleaned data saved to '../Data/cleaned_bewegungen.csv'\")\n"
   ],
   "outputs": [
    {
     "name": "stdout",
     "output_type": "stream",
     "text": [
      "<class 'pandas.core.frame.DataFrame'>\n",
      "RangeIndex: 20094145 entries, 0 to 20094144\n",
      "Data columns (total 19 columns):\n",
      " #   Column      Dtype         \n",
      "---  ------      -----         \n",
      " 0   WORNUM      int32         \n",
      " 1   STATUS      int32         \n",
      " 2   SRC_ITEM    category      \n",
      " 3   SRC_LOT     string        \n",
      " 4   SRC_QACODE  category      \n",
      " 5   DST_LOT     string        \n",
      " 6   DST_QACODE  category      \n",
      " 7   SRC_WA      category      \n",
      " 8   SRC_X       category      \n",
      " 9   SRC_Y       category      \n",
      " 10  SRC_Z       category      \n",
      " 11  DST_WA      category      \n",
      " 12  LISNUM      int32         \n",
      " 13  SUMLIS      int32         \n",
      " 14  TRNNUM      int32         \n",
      " 15  CRTDAT      datetime64[ns]\n",
      " 16  TRNDAT      datetime64[ns]\n",
      " 17  USERID      category      \n",
      " 18  LOADDAT     datetime64[ns]\n",
      "dtypes: category(9), datetime64[ns](3), int32(5), string(2)\n",
      "memory usage: 3.4 GB\n",
      "None\n"
     ]
    }
   ],
   "execution_count": 1
  },
  {
   "metadata": {
    "ExecuteTime": {
     "end_time": "2024-11-27T07:51:03.622145Z",
     "start_time": "2024-11-27T07:51:03.603129Z"
    }
   },
   "cell_type": "code",
   "source": [
    "# Get the number of rows in the DataFrame\n",
    "num_rows = len(df_bewegungen)\n",
    "print(f\"Number of rows: {num_rows}\")\n"
   ],
   "id": "ff75be06fa0ec432",
   "outputs": [
    {
     "name": "stdout",
     "output_type": "stream",
     "text": [
      "Number of rows: 20094145\n"
     ]
    }
   ],
   "execution_count": 2
  },
  {
   "metadata": {},
   "cell_type": "markdown",
   "source": "# clean columns dst_lot and src_lot",
   "id": "f022cc90f1d2a038"
  },
  {
   "cell_type": "code",
   "source": [
    "# Clean SRC_LOT column (Column \"Artikelcharge\", this LOT usually is a 3 digit int. An Article can have multiple LOTs. I simplify by removing leading zeros and clean up the column from wrong manual usererrors.\n",
    "df_bewegungen['SRC_LOT'] = df_bewegungen['SRC_LOT'].fillna('').astype(str)  # Handle NaNs and convert to string\n",
    "df_bewegungen['SRC_LOT'] = df_bewegungen['SRC_LOT'].apply(lambda x: '0' if x == '000' else x.lstrip('0'))  # Remove leading zeros\n",
    "df_bewegungen['SRC_LOT'] = df_bewegungen['SRC_LOT'].apply(lambda x: x if x.isdigit() and len(x) <= 3 else None)  # Validate format\n",
    "\n",
    "# Clean DST_LOT column\n",
    "df_bewegungen['DST_LOT'] = df_bewegungen['DST_LOT'].fillna('').astype(str)  # Handle NaNs and convert to string\n",
    "df_bewegungen['DST_LOT'] = df_bewegungen['DST_LOT'].apply(lambda x: '0' if x == '000' else x.lstrip('0'))  # Remove leading zeros\n",
    "df_bewegungen['DST_LOT'] = df_bewegungen['DST_LOT'].apply(lambda x: x if x.isdigit() and len(x) <= 3 else None)  # Validate format\n",
    "\n",
    "# Clean STATUS column (10= Offen, 50= Bestätigt, 95= Storniert -- for my purposes I'm only interested in \"Bestätigt\" rows.\n",
    "# Filter the DataFrame to keep only rows with status == 50 (abgeschlossen)\n",
    "df = df_bewegungen[df_bewegungen['STATUS'] == 50]\n",
    "\n",
    "# Remove rows where USER == 'LXONE'\n",
    "df = df[df['USERID'] != 'LXONE']\n"
   ],
   "metadata": {
    "collapsed": false,
    "ExecuteTime": {
     "end_time": "2024-11-27T07:53:59.166274Z",
     "start_time": "2024-11-27T07:53:40.405484Z"
    }
   },
   "id": "96331f2be73a67c9",
   "outputs": [],
   "execution_count": 5
  },
  {
   "metadata": {
    "ExecuteTime": {
     "end_time": "2024-11-27T07:54:09.669351Z",
     "start_time": "2024-11-27T07:54:09.649333Z"
    }
   },
   "cell_type": "code",
   "source": [
    "num_rows = len(df)\n",
    "print(f\"Number of rows: {num_rows}\")"
   ],
   "id": "fd65b67630fabf2c",
   "outputs": [
    {
     "name": "stdout",
     "output_type": "stream",
     "text": [
      "Number of rows: 19677442\n"
     ]
    }
   ],
   "execution_count": 6
  },
  {
   "metadata": {
    "ExecuteTime": {
     "end_time": "2024-11-27T07:54:16.911899Z",
     "start_time": "2024-11-27T07:54:16.902891Z"
    }
   },
   "cell_type": "code",
   "source": "df.info()",
   "id": "e94866cb1f0ad486",
   "outputs": [
    {
     "name": "stdout",
     "output_type": "stream",
     "text": [
      "<class 'pandas.core.frame.DataFrame'>\n",
      "Int64Index: 19677442 entries, 0 to 20094144\n",
      "Data columns (total 19 columns):\n",
      " #   Column      Dtype         \n",
      "---  ------      -----         \n",
      " 0   WORNUM      int32         \n",
      " 1   STATUS      int32         \n",
      " 2   SRC_ITEM    category      \n",
      " 3   SRC_LOT     object        \n",
      " 4   SRC_QACODE  category      \n",
      " 5   DST_LOT     object        \n",
      " 6   DST_QACODE  category      \n",
      " 7   SRC_WA      category      \n",
      " 8   SRC_X       category      \n",
      " 9   SRC_Y       category      \n",
      " 10  SRC_Z       category      \n",
      " 11  DST_WA      category      \n",
      " 12  LISNUM      int32         \n",
      " 13  SUMLIS      int32         \n",
      " 14  TRNNUM      int32         \n",
      " 15  CRTDAT      datetime64[ns]\n",
      " 16  TRNDAT      datetime64[ns]\n",
      " 17  USERID      category      \n",
      " 18  LOADDAT     datetime64[ns]\n",
      "dtypes: category(9), datetime64[ns](3), int32(5), object(2)\n",
      "memory usage: 1.6+ GB\n"
     ]
    }
   ],
   "execution_count": 7
  },
  {
   "metadata": {
    "ExecuteTime": {
     "end_time": "2024-11-25T20:12:59.572658Z",
     "start_time": "2024-11-25T20:12:59.560822Z"
    }
   },
   "cell_type": "code",
   "source": [
    "# Get the number of rows in the DataFrame\n",
    "num_rows = len(df_bewegungen)\n",
    "print(f\"Number of rows: {num_rows}\")\n"
   ],
   "id": "66f2cca33df65fdf",
   "outputs": [
    {
     "name": "stdout",
     "output_type": "stream",
     "text": [
      "Number of rows: 19677442\n"
     ]
    }
   ],
   "execution_count": 34
  },
  {
   "metadata": {},
   "cell_type": "markdown",
   "source": "# [ignore] drop not needed columns // #already did this part by only importing specified colums",
   "id": "30f967e6d6fa2269"
  },
  {
   "metadata": {
    "ExecuteTime": {
     "end_time": "2024-11-25T17:07:23.022928Z",
     "start_time": "2024-11-25T17:07:20.765672Z"
    }
   },
   "cell_type": "code",
   "source": [
    "# Columns to drop\n",
    "columns_to_drop = [\"MOVNUM\", \"DST_X\", \"DST_Y\", \"DST_Z\", \"REQQTY\", \"VOLREQ\", \"VOLPIC\", \"MOVTYP\", \"MOVKEY\", \"INCNUM\", \"INCLIN\"] #RequiredQuant not used as per now\n",
    "\n",
    "# Drop the columns from the DataFrame\n",
    "df_bewegungen = df_bewegungen.drop(columns=columns_to_drop)\n",
    "\n",
    "# Confirm the columns are dropped\n",
    "print(df_bewegungen.info())"
   ],
   "id": "7c8091bff8b896d4",
   "outputs": [
    {
     "name": "stdout",
     "output_type": "stream",
     "text": [
      "<class 'pandas.core.frame.DataFrame'>\n",
      "RangeIndex: 20094145 entries, 0 to 20094144\n",
      "Data columns (total 27 columns):\n",
      " #   Column      Dtype         \n",
      "---  ------      -----         \n",
      " 0   MOVNUM      int64         \n",
      " 1   WORNUM      int64         \n",
      " 2   STATUS      int64         \n",
      " 3   MOVTYP      object        \n",
      " 4   MOVKEY      object        \n",
      " 5   SRC_ITEM    int64         \n",
      " 6   SRC_LOT     object        \n",
      " 7   SRC_QACODE  object        \n",
      " 8   DST_LOT     object        \n",
      " 9   DST_QACODE  object        \n",
      " 10  SRC_WA      object        \n",
      " 11  SRC_X       object        \n",
      " 12  SRC_Y       object        \n",
      " 13  SRC_Z       object        \n",
      " 14  DST_WA      object        \n",
      " 15  CONQTY      int64         \n",
      " 16  INCNUM      int64         \n",
      " 17  INCLIN      int64         \n",
      " 18  OUTNUM      int64         \n",
      " 19  RELNUM      int64         \n",
      " 20  LISNUM      int64         \n",
      " 21  SUMLIS      int64         \n",
      " 22  TRNNUM      int64         \n",
      " 23  CRTDAT      datetime64[ns]\n",
      " 24  TRNDAT      datetime64[ns]\n",
      " 25  USERID      object        \n",
      " 26  LOADDAT     object        \n",
      "dtypes: datetime64[ns](2), int64(12), object(13)\n",
      "memory usage: 4.0+ GB\n",
      "None\n"
     ]
    }
   ],
   "execution_count": 5
  },
  {
   "metadata": {},
   "cell_type": "code",
   "outputs": [],
   "execution_count": null,
   "source": "",
   "id": "c9db067e56165846"
  },
  {
   "cell_type": "markdown",
   "source": "# then add final correct astype after all cleaning operations",
   "metadata": {
    "collapsed": false
   },
   "id": "22261603f0098e86"
  },
  {
   "cell_type": "code",
   "source": [
    "#following list is not complete\n",
    "\n",
    "df_bewegungen = df_bewegungen.astype({\n",
    "    \"SRC_LOT\": \"category\",\n",
    "    \"DST_LOT\": \"category\",\n",
    "})"
   ],
   "metadata": {
    "collapsed": false,
    "ExecuteTime": {
     "end_time": "2024-11-27T07:54:35.545749Z",
     "start_time": "2024-11-27T07:54:33.519436Z"
    }
   },
   "id": "e11d00dd270de9e8",
   "outputs": [],
   "execution_count": 8
  },
  {
   "metadata": {
    "ExecuteTime": {
     "end_time": "2024-11-27T07:54:37.499912Z",
     "start_time": "2024-11-27T07:54:37.486897Z"
    }
   },
   "cell_type": "code",
   "source": [
    "# final control if all types are set\n",
    "df.info()"
   ],
   "id": "99b2fd0db39ddee2",
   "outputs": [
    {
     "name": "stdout",
     "output_type": "stream",
     "text": [
      "<class 'pandas.core.frame.DataFrame'>\n",
      "Int64Index: 19677442 entries, 0 to 20094144\n",
      "Data columns (total 19 columns):\n",
      " #   Column      Dtype         \n",
      "---  ------      -----         \n",
      " 0   WORNUM      int32         \n",
      " 1   STATUS      int32         \n",
      " 2   SRC_ITEM    category      \n",
      " 3   SRC_LOT     category      \n",
      " 4   SRC_QACODE  category      \n",
      " 5   DST_LOT     category      \n",
      " 6   DST_QACODE  category      \n",
      " 7   SRC_WA      category      \n",
      " 8   SRC_X       category      \n",
      " 9   SRC_Y       category      \n",
      " 10  SRC_Z       category      \n",
      " 11  DST_WA      category      \n",
      " 12  LISNUM      int32         \n",
      " 13  SUMLIS      int32         \n",
      " 14  TRNNUM      int32         \n",
      " 15  CRTDAT      datetime64[ns]\n",
      " 16  TRNDAT      datetime64[ns]\n",
      " 17  USERID      category      \n",
      " 18  LOADDAT     datetime64[ns]\n",
      "dtypes: category(11), datetime64[ns](3), int32(5)\n",
      "memory usage: 1.3 GB\n"
     ]
    }
   ],
   "execution_count": 9
  },
  {
   "metadata": {},
   "cell_type": "markdown",
   "source": "",
   "id": "d7cc404b19d9622b"
  },
  {
   "cell_type": "markdown",
   "source": [
    "view df\n"
   ],
   "metadata": {
    "collapsed": false
   },
   "id": "84e45979b92a0043"
  },
  {
   "metadata": {},
   "cell_type": "markdown",
   "source": [
    "# Data Analysis: check unique values and distributions (maybe move somewhere else)\n",
    "found out that UserID LXONE had the highest distribition - this is a SystemUser and therefor should be excluded"
   ],
   "id": "b9a6bbd3a5f2bd5b"
  },
  {
   "cell_type": "code",
   "source": [
    "# VIEW UNIQUE VALUES for specific column\n",
    "unique_values_count = df_bewegungen['SRC_X'].nunique()\n",
    "print(f\"Number of unique values in cleaned DST_LOT: {unique_values_count}\")\n",
    "unique_values = df_bewegungen['SRC_X'].unique()\n",
    "print(f\"Cleaned unique values in DST_LOT: {unique_values}\")"
   ],
   "metadata": {
    "collapsed": false,
    "ExecuteTime": {
     "end_time": "2024-11-27T07:54:52.727558Z",
     "start_time": "2024-11-27T07:54:52.529377Z"
    }
   },
   "id": "37c9e4f9a724ce90",
   "outputs": [
    {
     "name": "stdout",
     "output_type": "stream",
     "text": [
      "Number of unique values in cleaned DST_LOT: 701\n",
      "Cleaned unique values in DST_LOT: ['1601', '1780', '2215', '2401', '2004', ..., '2246', '2237', '2240', '2238', '2239']\n",
      "Length: 701\n",
      "Categories (707, object): ['0001', '0100', '0101', '0102', ..., '7012', '7040', 'R', 'S']\n"
     ]
    }
   ],
   "execution_count": 10
  },
  {
   "metadata": {},
   "cell_type": "markdown",
   "source": "Values 0001 (Aussenlager) and Q R S are allowed",
   "id": "75ec54fc23a8a40"
  },
  {
   "cell_type": "code",
   "source": [
    "import pandas as pd\n",
    "\n",
    "# Assuming `df` is your DataFrame\n",
    "for column in df_bewegungen.columns:\n",
    "    print(f\"Distribution of unique values in column: {column}\")\n",
    "    print(df_bewegungen[column].value_counts())  # Count occurrences of each unique value\n",
    "    print(\"-\" * 50)  # Separator for readability\n",
    "\n"
   ],
   "metadata": {
    "collapsed": false,
    "ExecuteTime": {
     "end_time": "2024-11-27T07:56:09.349849Z",
     "start_time": "2024-11-27T07:55:55.036997Z"
    }
   },
   "id": "1c463ea0098bc8bf",
   "outputs": [
    {
     "name": "stdout",
     "output_type": "stream",
     "text": [
      "Distribution of unique values in column: WORNUM\n",
      "289678987    1\n",
      "251742346    1\n",
      "251644736    1\n",
      "251650856    1\n",
      "251633841    1\n",
      "            ..\n",
      "190249200    1\n",
      "190249198    1\n",
      "190249196    1\n",
      "190249194    1\n",
      "326807027    1\n",
      "Name: WORNUM, Length: 19677442, dtype: int64\n",
      "--------------------------------------------------\n",
      "Distribution of unique values in column: STATUS\n",
      "50    19677442\n",
      "Name: STATUS, dtype: int64\n",
      "--------------------------------------------------\n",
      "Distribution of unique values in column: SRC_ITEM\n",
      "12119574    22583\n",
      "45683121     8688\n",
      "42875222     8212\n",
      "37671777     8149\n",
      "18089785     7629\n",
      "            ...  \n",
      "15373685        0\n",
      "32897063        0\n",
      "34836104        0\n",
      "34835958        0\n",
      "30167214        0\n",
      "Name: SRC_ITEM, Length: 914671, dtype: int64\n",
      "--------------------------------------------------\n",
      "Distribution of unique values in column: SRC_LOT\n",
      "1      15984175\n",
      "2        749870\n",
      "3        362855\n",
      "4        226203\n",
      "5        138548\n",
      "         ...   \n",
      "45           57\n",
      "77           50\n",
      "35           38\n",
      "51           13\n",
      "223           1\n",
      "Name: SRC_LOT, Length: 71, dtype: int64\n",
      "--------------------------------------------------\n",
      "Distribution of unique values in column: SRC_QACODE\n",
      "H    19677423\n",
      "Q          18\n",
      "R           1\n",
      "S           0\n",
      "Name: SRC_QACODE, dtype: int64\n",
      "--------------------------------------------------\n",
      "Distribution of unique values in column: DST_LOT\n",
      "1      15984180\n",
      "2        749870\n",
      "3        362855\n",
      "4        226203\n",
      "5        138548\n",
      "         ...   \n",
      "45           57\n",
      "77           45\n",
      "35           38\n",
      "51           13\n",
      "223           1\n",
      "Name: DST_LOT, Length: 71, dtype: int64\n",
      "--------------------------------------------------\n",
      "Distribution of unique values in column: DST_QACODE\n",
      "H    19677423\n",
      "Q          18\n",
      "R           1\n",
      "S           0\n",
      "Name: DST_QACODE, dtype: int64\n",
      "--------------------------------------------------\n",
      "Distribution of unique values in column: SRC_WA\n",
      "EG    19491880\n",
      "WE      167139\n",
      "WA       18378\n",
      "AU          45\n",
      "QK           0\n",
      "UM           0\n",
      "Name: SRC_WA, dtype: int64\n",
      "--------------------------------------------------\n",
      "Distribution of unique values in column: SRC_X\n",
      "2402    233713\n",
      "2403    221013\n",
      "2410    211031\n",
      "1780    194190\n",
      "0001    185517\n",
      "         ...  \n",
      "3004         0\n",
      "2530         0\n",
      "2702         0\n",
      "R            0\n",
      "S            0\n",
      "Name: SRC_X, Length: 707, dtype: int64\n",
      "--------------------------------------------------\n",
      "Distribution of unique values in column: SRC_Y\n",
      "03      2463365\n",
      "02      2402429\n",
      "04      2174272\n",
      "06      1917039\n",
      "05      1823764\n",
      "         ...   \n",
      "54          101\n",
      "86           65\n",
      "68           27\n",
      "LM            7\n",
      "0002          0\n",
      "Name: SRC_Y, Length: 96, dtype: int64\n",
      "--------------------------------------------------\n",
      "Distribution of unique values in column: SRC_Z\n",
      "A01    1698562\n",
      "D01     492165\n",
      "D02     479828\n",
      "C01     478982\n",
      "C02     475894\n",
      "        ...   \n",
      "M13          1\n",
      "M12          1\n",
      "M11          1\n",
      "M10          1\n",
      "O04          1\n",
      "Name: SRC_Z, Length: 295, dtype: int64\n",
      "--------------------------------------------------\n",
      "Distribution of unique values in column: DST_WA\n",
      "WA    19677442\n",
      "Name: DST_WA, dtype: int64\n",
      "--------------------------------------------------\n",
      "Distribution of unique values in column: LISNUM\n",
      "146935130    1842\n",
      "154217339     852\n",
      "131192391     503\n",
      "147620163     464\n",
      "145763621     418\n",
      "             ... \n",
      "206643002       1\n",
      "206642934       1\n",
      "206642955       1\n",
      "206643016       1\n",
      "326807901       1\n",
      "Name: LISNUM, Length: 10316639, dtype: int64\n",
      "--------------------------------------------------\n",
      "Distribution of unique values in column: SUMLIS\n",
      "146935129    1842\n",
      "154217343     852\n",
      "285241798     676\n",
      "282762526     595\n",
      "284134532     569\n",
      "             ... \n",
      "283928372       1\n",
      "262329909       1\n",
      "283908742       1\n",
      "262498465       1\n",
      "326744041       1\n",
      "Name: SUMLIS, Length: 2709804, dtype: int64\n",
      "--------------------------------------------------\n",
      "Distribution of unique values in column: TRNNUM\n",
      "160000112    423\n",
      "847566722    259\n",
      "127034680    200\n",
      "219387435    198\n",
      "374636558    186\n",
      "            ... \n",
      "871944041      1\n",
      "872062593      1\n",
      "872063859      1\n",
      "872049848      1\n",
      "990730927      1\n",
      "Name: TRNNUM, Length: 19438261, dtype: int64\n",
      "--------------------------------------------------\n",
      "Distribution of unique values in column: CRTDAT\n",
      "2024-05-03 01:04:56    84\n",
      "2024-05-03 01:05:00    84\n",
      "2024-05-03 01:04:59    83\n",
      "2024-05-07 07:08:18    83\n",
      "2024-06-04 08:45:12    83\n",
      "                       ..\n",
      "2023-02-01 07:00:54     1\n",
      "2023-02-01 07:01:06     1\n",
      "2023-02-01 07:01:29     1\n",
      "2023-02-01 07:05:32     1\n",
      "2024-11-15 14:05:20     1\n",
      "Name: CRTDAT, Length: 2058192, dtype: int64\n",
      "--------------------------------------------------\n",
      "Distribution of unique values in column: TRNDAT\n",
      "2024-03-01 13:53:37    26\n",
      "2024-02-27 13:41:48    24\n",
      "2024-06-18 15:55:56    23\n",
      "2024-08-09 16:28:57    23\n",
      "2024-07-03 15:56:54    23\n",
      "                       ..\n",
      "2023-05-17 17:38:37     1\n",
      "2023-05-17 10:33:22     1\n",
      "2023-05-17 08:00:00     1\n",
      "2023-05-17 09:08:03     1\n",
      "2024-11-15 13:38:19     1\n",
      "Name: TRNDAT, Length: 13903910, dtype: int64\n",
      "--------------------------------------------------\n",
      "Distribution of unique values in column: USERID\n",
      "CANZIANI      293224\n",
      "158426        278360\n",
      "168390        269740\n",
      "158267        251486\n",
      "165480        246176\n",
      "               ...  \n",
      "158300             1\n",
      "PASAMONTES         1\n",
      "MUQAJADM           1\n",
      "AQCON              0\n",
      "LXONE              0\n",
      "Name: USERID, Length: 426, dtype: int64\n",
      "--------------------------------------------------\n",
      "Distribution of unique values in column: LOADDAT\n",
      "2023-01-12 15:32:45.312000    1860154\n",
      "2023-04-13 10:04:16.898000    1664660\n",
      "2023-01-12 15:15:55.097000    1653413\n",
      "2023-01-12 15:24:34.160000    1646439\n",
      "2023-01-23 10:19:20.088000     844674\n",
      "                               ...   \n",
      "2024-05-20 00:52:27.970478         10\n",
      "2024-01-29 09:55:35.932000         10\n",
      "2024-05-31 00:52:23.341005         10\n",
      "2024-11-04 01:53:49.200059          8\n",
      "2023-10-30 01:52:23.966000          2\n",
      "Name: LOADDAT, Length: 409, dtype: int64\n",
      "--------------------------------------------------\n"
     ]
    }
   ],
   "execution_count": 11
  },
  {
   "metadata": {},
   "cell_type": "markdown",
   "source": "Make sure no rows are duped",
   "id": "ecc0451a4f96b3b6"
  },
  {
   "metadata": {
    "ExecuteTime": {
     "end_time": "2024-11-27T07:58:43.823317Z",
     "start_time": "2024-11-27T07:57:57.129851Z"
    }
   },
   "cell_type": "code",
   "source": "df_bewegungen.duplicated()",
   "id": "5f9fb979e003cf89",
   "outputs": [
    {
     "data": {
      "text/plain": [
       "0           False\n",
       "1           False\n",
       "2           False\n",
       "3           False\n",
       "4           False\n",
       "            ...  \n",
       "20094140    False\n",
       "20094141    False\n",
       "20094142    False\n",
       "20094143    False\n",
       "20094144    False\n",
       "Length: 19677442, dtype: bool"
      ]
     },
     "execution_count": 12,
     "metadata": {},
     "output_type": "execute_result"
    }
   ],
   "execution_count": 12
  },
  {
   "cell_type": "code",
   "outputs": [],
   "source": "check date distribution?",
   "metadata": {
    "collapsed": false
   },
   "id": "eda2f9bebf0be5ad",
   "execution_count": null
  },
  {
   "metadata": {},
   "cell_type": "markdown",
   "source": "## 2. File integration: WA KOPF",
   "id": "639d4d60e72327f0"
  },
  {
   "metadata": {},
   "cell_type": "code",
   "outputs": [],
   "execution_count": null,
   "source": [
    "#Consolidated:::\n",
    "df_wa_kopf = pd.read_csv(\n",
    "    '../Data/wa_kopf.csv',\n",
    "    dtype={\n",
    "        \"OUTNUM\": \"int32\",\n",
    "        \"DOCNUM\": \"category\",\n",
    "        \"ORDNUM\": \"category\",\n",
    "        \"STATUS\": \"int32\",\n",
    "        \"CUSNUM\": \"category\",\n",
    "        \"SHPTYP\": \"category\",\n",
    "        \"TOUR\": \"category\",\n",
    "    },\n",
    "    low_memory=False,\n",
    "    parse_dates=[\"ORDDAT\", \"DLVDAT\", \"CRTDAT\", \"TRNDAT\"]\n",
    ")\n",
    "# Filter the DataFrame to keep only rows with status == 90 (abgeschlossene)\n",
    "df_wa_kopf = df_wa_kopf[df_wa_kopf['STATUS'] == 90]\n",
    "\n",
    "# Step 1: Merge main DataFrame with customers\n",
    "# df_orders = pd.merge(df_bewegungen, df_wa_kopf, on='OUTNUM', how='inner')\n",
    "\n",
    "#:::"
   ],
   "id": "414c887740de3bc5"
  },
  {
   "metadata": {
    "ExecuteTime": {
     "end_time": "2024-11-27T08:41:08.658141Z",
     "start_time": "2024-11-27T08:38:04.924489Z"
    }
   },
   "cell_type": "code",
   "source": [
    "df_wa_kopf = pd.read_csv(\n",
    "    '../Data/wa_kopf.csv',\n",
    "    dtype={\n",
    "        \"OUTNUM\": \"int32\",\n",
    "        \"DOCNUM\": \"category\",\n",
    "        \"ORDNUM\": \"category\",\n",
    "        \"STATUS\": \"int32\",\n",
    "        \"CUSNUM\": \"category\",\n",
    "        \"SHPTYP\": \"category\",\n",
    "        \"TOUR\": \"category\",\n",
    "    },\n",
    "    low_memory=False,\n",
    "    parse_dates=[\"ORDDAT\", \"DLVDAT\", \"CRTDAT\", \"TRNDAT\"]\n",
    ")\n",
    "print(df_wa_kopf.info(memory_usage=\"deep\"))\n",
    "\n",
    "\n",
    "\n"
   ],
   "id": "13a6e37bc454260e",
   "outputs": [
    {
     "name": "stdout",
     "output_type": "stream",
     "text": [
      "<class 'pandas.core.frame.DataFrame'>\n",
      "RangeIndex: 19377913 entries, 0 to 19377912\n",
      "Data columns (total 15 columns):\n",
      " #   Column   Dtype         \n",
      "---  ------   -----         \n",
      " 0   OUTNUM   int32         \n",
      " 1   DOCNUM   category      \n",
      " 2   ORDNUM   category      \n",
      " 3   STATUS   int32         \n",
      " 4   PICCOD   object        \n",
      " 5   CUSNUM   category      \n",
      " 6   ORDDAT   datetime64[ns]\n",
      " 7   DLVDAT   datetime64[ns]\n",
      " 8   SHPTYP   category      \n",
      " 9   TOUR     category      \n",
      " 10  CRTDAT   datetime64[ns]\n",
      " 11  TRNDAT   datetime64[ns]\n",
      " 12  USERID   object        \n",
      " 13  TRNNUM   int64         \n",
      " 14  LOADDAT  object        \n",
      "dtypes: category(5), datetime64[ns](4), int32(2), int64(1), object(3)\n",
      "memory usage: 7.1 GB\n",
      "None\n"
     ]
    }
   ],
   "execution_count": 22
  },
  {
   "metadata": {},
   "cell_type": "markdown",
   "source": "check distribution of values to assess if dtype are correctly set",
   "id": "66bc6ab8c9b000b9"
  },
  {
   "metadata": {
    "ExecuteTime": {
     "end_time": "2024-11-27T08:17:12.919066Z",
     "start_time": "2024-11-27T08:17:02.730313Z"
    }
   },
   "cell_type": "code",
   "source": "df_wa_kopf.info()",
   "id": "6006db6a16023d87",
   "outputs": [
    {
     "name": "stdout",
     "output_type": "stream",
     "text": [
      "<class 'pandas.core.frame.DataFrame'>\n",
      "RangeIndex: 19377913 entries, 0 to 19377912\n",
      "Data columns (total 15 columns):\n",
      " #   Column   Dtype         \n",
      "---  ------   -----         \n",
      " 0   OUTNUM   int32         \n",
      " 1   DOCNUM   category      \n",
      " 2   ORDNUM   category      \n",
      " 3   STATUS   category      \n",
      " 4   PICCOD   object        \n",
      " 5   CUSNUM   category      \n",
      " 6   ORDDAT   datetime64[ns]\n",
      " 7   DLVDAT   datetime64[ns]\n",
      " 8   SHPTYP   category      \n",
      " 9   TOUR     category      \n",
      " 10  CRTDAT   datetime64[ns]\n",
      " 11  TRNDAT   datetime64[ns]\n",
      " 12  USERID   object        \n",
      " 13  TRNNUM   int64         \n",
      " 14  LOADDAT  object        \n",
      "dtypes: category(6), datetime64[ns](4), int32(1), int64(1), object(3)\n",
      "memory usage: 2.3+ GB\n"
     ]
    }
   ],
   "execution_count": 19
  },
  {
   "metadata": {
    "ExecuteTime": {
     "end_time": "2024-11-27T08:42:17.828242Z",
     "start_time": "2024-11-27T08:42:17.822237Z"
    }
   },
   "cell_type": "code",
   "source": [
    "num_rows = len(df_wa_kopf)\n",
    "print(f\"Number of rows: {num_rows}\")"
   ],
   "id": "7f4135248937044f",
   "outputs": [
    {
     "name": "stdout",
     "output_type": "stream",
     "text": [
      "Number of rows: 19314965\n"
     ]
    }
   ],
   "execution_count": 26
  },
  {
   "metadata": {
    "ExecuteTime": {
     "end_time": "2024-11-27T08:11:43.200810Z",
     "start_time": "2024-11-27T08:11:43.171784Z"
    }
   },
   "cell_type": "code",
   "source": "df_wa_kopf.head()",
   "id": "c3ded553f083cc5",
   "outputs": [
    {
     "data": {
      "text/plain": [
       "     OUTNUM    DOCNUM        ORDNUM STATUS  PICCOD  CUSNUM  \\\n",
       "0  30723507  33054472  llo229691223     90    BS17  100986   \n",
       "1  30711706  33052260  llo229681872     90    BS17   94536   \n",
       "2  30730649  33056533  llo229700285     90    BS17   90715   \n",
       "3  30712103  33052611  llo229682417     90  BS15-S  165269   \n",
       "4  30733401  33057203  llo229704047     90    BS17    2542   \n",
       "\n",
       "               ORDDAT     DLVDAT SHPTYP TOUR              CRTDAT  \\\n",
       "0 2024-03-20 11:38:02 2024-03-20     02   85 2024-03-20 11:39:08   \n",
       "1 2024-03-20 05:53:37 2024-03-20     02   85 2024-03-20 05:54:13   \n",
       "2 2024-03-20 15:22:37 2024-03-20     02   83 2024-03-20 15:22:47   \n",
       "3 2024-03-20 05:55:07 2024-03-20    124   00 2024-03-20 05:56:00   \n",
       "4 2024-03-20 16:52:31 2024-03-20     02   94 2024-03-20 16:52:38   \n",
       "\n",
       "               TRNDAT  USERID     TRNNUM                     LOADDAT  \n",
       "0 2024-03-20 18:13:18   LXONE  546327413  2024-03-21 01:54:14.176700  \n",
       "1 2024-03-20 19:58:26   LXONE  546357022  2024-03-21 01:54:14.176700  \n",
       "2 2024-03-20 17:32:19   LXONE  546301836  2024-03-21 01:54:14.176700  \n",
       "3 2024-03-20 11:13:51  176551  546066479  2024-03-21 01:54:14.176700  \n",
       "4 2024-03-20 21:05:25   LXONE  546369019  2024-03-21 01:54:14.176700  "
      ],
      "text/html": [
       "<div>\n",
       "<style scoped>\n",
       "    .dataframe tbody tr th:only-of-type {\n",
       "        vertical-align: middle;\n",
       "    }\n",
       "\n",
       "    .dataframe tbody tr th {\n",
       "        vertical-align: top;\n",
       "    }\n",
       "\n",
       "    .dataframe thead th {\n",
       "        text-align: right;\n",
       "    }\n",
       "</style>\n",
       "<table border=\"1\" class=\"dataframe\">\n",
       "  <thead>\n",
       "    <tr style=\"text-align: right;\">\n",
       "      <th></th>\n",
       "      <th>OUTNUM</th>\n",
       "      <th>DOCNUM</th>\n",
       "      <th>ORDNUM</th>\n",
       "      <th>STATUS</th>\n",
       "      <th>PICCOD</th>\n",
       "      <th>CUSNUM</th>\n",
       "      <th>ORDDAT</th>\n",
       "      <th>DLVDAT</th>\n",
       "      <th>SHPTYP</th>\n",
       "      <th>TOUR</th>\n",
       "      <th>CRTDAT</th>\n",
       "      <th>TRNDAT</th>\n",
       "      <th>USERID</th>\n",
       "      <th>TRNNUM</th>\n",
       "      <th>LOADDAT</th>\n",
       "    </tr>\n",
       "  </thead>\n",
       "  <tbody>\n",
       "    <tr>\n",
       "      <th>0</th>\n",
       "      <td>30723507</td>\n",
       "      <td>33054472</td>\n",
       "      <td>llo229691223</td>\n",
       "      <td>90</td>\n",
       "      <td>BS17</td>\n",
       "      <td>100986</td>\n",
       "      <td>2024-03-20 11:38:02</td>\n",
       "      <td>2024-03-20</td>\n",
       "      <td>02</td>\n",
       "      <td>85</td>\n",
       "      <td>2024-03-20 11:39:08</td>\n",
       "      <td>2024-03-20 18:13:18</td>\n",
       "      <td>LXONE</td>\n",
       "      <td>546327413</td>\n",
       "      <td>2024-03-21 01:54:14.176700</td>\n",
       "    </tr>\n",
       "    <tr>\n",
       "      <th>1</th>\n",
       "      <td>30711706</td>\n",
       "      <td>33052260</td>\n",
       "      <td>llo229681872</td>\n",
       "      <td>90</td>\n",
       "      <td>BS17</td>\n",
       "      <td>94536</td>\n",
       "      <td>2024-03-20 05:53:37</td>\n",
       "      <td>2024-03-20</td>\n",
       "      <td>02</td>\n",
       "      <td>85</td>\n",
       "      <td>2024-03-20 05:54:13</td>\n",
       "      <td>2024-03-20 19:58:26</td>\n",
       "      <td>LXONE</td>\n",
       "      <td>546357022</td>\n",
       "      <td>2024-03-21 01:54:14.176700</td>\n",
       "    </tr>\n",
       "    <tr>\n",
       "      <th>2</th>\n",
       "      <td>30730649</td>\n",
       "      <td>33056533</td>\n",
       "      <td>llo229700285</td>\n",
       "      <td>90</td>\n",
       "      <td>BS17</td>\n",
       "      <td>90715</td>\n",
       "      <td>2024-03-20 15:22:37</td>\n",
       "      <td>2024-03-20</td>\n",
       "      <td>02</td>\n",
       "      <td>83</td>\n",
       "      <td>2024-03-20 15:22:47</td>\n",
       "      <td>2024-03-20 17:32:19</td>\n",
       "      <td>LXONE</td>\n",
       "      <td>546301836</td>\n",
       "      <td>2024-03-21 01:54:14.176700</td>\n",
       "    </tr>\n",
       "    <tr>\n",
       "      <th>3</th>\n",
       "      <td>30712103</td>\n",
       "      <td>33052611</td>\n",
       "      <td>llo229682417</td>\n",
       "      <td>90</td>\n",
       "      <td>BS15-S</td>\n",
       "      <td>165269</td>\n",
       "      <td>2024-03-20 05:55:07</td>\n",
       "      <td>2024-03-20</td>\n",
       "      <td>124</td>\n",
       "      <td>00</td>\n",
       "      <td>2024-03-20 05:56:00</td>\n",
       "      <td>2024-03-20 11:13:51</td>\n",
       "      <td>176551</td>\n",
       "      <td>546066479</td>\n",
       "      <td>2024-03-21 01:54:14.176700</td>\n",
       "    </tr>\n",
       "    <tr>\n",
       "      <th>4</th>\n",
       "      <td>30733401</td>\n",
       "      <td>33057203</td>\n",
       "      <td>llo229704047</td>\n",
       "      <td>90</td>\n",
       "      <td>BS17</td>\n",
       "      <td>2542</td>\n",
       "      <td>2024-03-20 16:52:31</td>\n",
       "      <td>2024-03-20</td>\n",
       "      <td>02</td>\n",
       "      <td>94</td>\n",
       "      <td>2024-03-20 16:52:38</td>\n",
       "      <td>2024-03-20 21:05:25</td>\n",
       "      <td>LXONE</td>\n",
       "      <td>546369019</td>\n",
       "      <td>2024-03-21 01:54:14.176700</td>\n",
       "    </tr>\n",
       "  </tbody>\n",
       "</table>\n",
       "</div>"
      ]
     },
     "execution_count": 15,
     "metadata": {},
     "output_type": "execute_result"
    }
   ],
   "execution_count": 15
  },
  {
   "metadata": {
    "ExecuteTime": {
     "end_time": "2024-11-27T08:15:21.615195Z",
     "start_time": "2024-11-27T08:14:46.783730Z"
    }
   },
   "cell_type": "code",
   "source": [
    "import pandas as pd\n",
    "\n",
    "# Assuming `df` is your DataFrame\n",
    "for column in df_wa_kopf.columns:\n",
    "    print(f\"Distribution of unique values in column: {column}\")\n",
    "    print(df_wa_kopf[column].value_counts())  # Count occurrences of each unique value\n",
    "    print(\"-\" * 50)  # Separator for readability"
   ],
   "id": "3f25819a0f961136",
   "outputs": [
    {
     "name": "stdout",
     "output_type": "stream",
     "text": [
      "Distribution of unique values in column: OUTNUM\n",
      "30723507    1\n",
      "31464006    1\n",
      "31463357    1\n",
      "31463848    1\n",
      "31469393    1\n",
      "           ..\n",
      "22156164    1\n",
      "22156163    1\n",
      "22156162    1\n",
      "22156161    1\n",
      "35224902    1\n",
      "Name: OUTNUM, Length: 19377913, dtype: int64\n",
      "--------------------------------------------------\n",
      "Distribution of unique values in column: DOCNUM\n",
      "28377289    5002\n",
      "28109999    3890\n",
      "28055543    3847\n",
      "28168002    3829\n",
      "28062966    3718\n",
      "            ... \n",
      "30642764       1\n",
      "30642765       1\n",
      "30642766       1\n",
      "30642767       1\n",
      "9998647        1\n",
      "Name: DOCNUM, Length: 5970945, dtype: int64\n",
      "--------------------------------------------------\n",
      "Distribution of unique values in column: ORDNUM\n",
      "llo231603066    20\n",
      "llo231602055    20\n",
      "llo231602278    20\n",
      "llo231601659    20\n",
      "llo231602085    20\n",
      "                ..\n",
      "llo216880728     1\n",
      "llo216880727     1\n",
      "llo216880726     1\n",
      "llo216880725     1\n",
      "llo95169276      1\n",
      "Name: ORDNUM, Length: 19315767, dtype: int64\n",
      "--------------------------------------------------\n",
      "Distribution of unique values in column: STATUS\n",
      "90    19314965\n",
      "10       60218\n",
      "20         932\n",
      "95         718\n",
      "98         425\n",
      "17         290\n",
      "70         208\n",
      "30          70\n",
      "80          52\n",
      "99          35\n",
      "Name: STATUS, dtype: int64\n",
      "--------------------------------------------------\n",
      "Distribution of unique values in column: PICCOD\n",
      "BS17          13677036\n",
      "BS15-S         2960208\n",
      "BS08            540633\n",
      "VREM_RS         371553\n",
      "BS08-Di         266133\n",
      "                ...   \n",
      "BS15ohneDI          29\n",
      "LvS Test            27\n",
      "lvS Test            10\n",
      "lvs Test             4\n",
      "BS08ohneDo           1\n",
      "Name: PICCOD, Length: 64, dtype: int64\n",
      "--------------------------------------------------\n",
      "Distribution of unique values in column: CUSNUM\n",
      "165269    1617749\n",
      "94536      987178\n",
      "90715      911968\n",
      "17075      474184\n",
      "1100       453204\n",
      "           ...   \n",
      "174254          1\n",
      "174258          1\n",
      "174259          1\n",
      "174260          1\n",
      "149215          1\n",
      "Name: CUSNUM, Length: 21403, dtype: int64\n",
      "--------------------------------------------------\n",
      "Distribution of unique values in column: ORDDAT\n",
      "2024-08-19 14:28:04    635\n",
      "2022-03-10 16:37:26    596\n",
      "2022-03-15 16:08:50    544\n",
      "2022-03-02 14:02:09    533\n",
      "2022-04-11 14:51:24    507\n",
      "                      ... \n",
      "2022-03-29 11:26:21      1\n",
      "2022-03-29 11:26:22      1\n",
      "2022-03-29 11:26:24      1\n",
      "2022-03-29 11:26:56      1\n",
      "2024-11-22 07:03:27      1\n",
      "Name: ORDDAT, Length: 4210999, dtype: int64\n",
      "--------------------------------------------------\n",
      "Distribution of unique values in column: DLVDAT\n",
      "2023-12-22    55756\n",
      "2024-08-02    53433\n",
      "2024-11-04    52863\n",
      "2022-12-12    52323\n",
      "2024-04-02    49578\n",
      "              ...  \n",
      "2022-12-24        1\n",
      "2021-12-07        1\n",
      "2022-12-11        1\n",
      "2021-12-06        1\n",
      "2024-12-27        1\n",
      "Name: DLVDAT, Length: 1009, dtype: int64\n",
      "--------------------------------------------------\n",
      "Distribution of unique values in column: SHPTYP\n",
      "02     11712522\n",
      "07      2318224\n",
      "24      1279655\n",
      "04      1069470\n",
      "16       735218\n",
      "27       438685\n",
      "124      339549\n",
      "05       218069\n",
      "001      214092\n",
      "06       197948\n",
      "18       135749\n",
      "011      135402\n",
      "08       100649\n",
      "39        76121\n",
      "004       72317\n",
      "17        62166\n",
      "29        60194\n",
      "006       46629\n",
      "005       38889\n",
      "26        28565\n",
      "32        25544\n",
      "31        18868\n",
      "009       10375\n",
      "25         8998\n",
      "003        5950\n",
      "13         5453\n",
      "61         5388\n",
      "15         4169\n",
      "12         3263\n",
      "010        2924\n",
      "002        2837\n",
      "10         2214\n",
      "30         1110\n",
      "62          391\n",
      "60          179\n",
      "012          90\n",
      "23           10\n",
      "Name: SHPTYP, dtype: int64\n",
      "--------------------------------------------------\n",
      "Distribution of unique values in column: TOUR\n",
      "00        4401121\n",
      "83        1314593\n",
      "85        1254883\n",
      "93        1104522\n",
      "84         968256\n",
      "           ...   \n",
      "251040          1\n",
      "251045          1\n",
      "263321          1\n",
      "251046          1\n",
      "264285          1\n",
      "Name: TOUR, Length: 19698, dtype: int64\n",
      "--------------------------------------------------\n",
      "Distribution of unique values in column: CRTDAT\n",
      "2022-12-29 19:49:53    27\n",
      "2022-12-29 19:08:18    27\n",
      "2022-12-29 19:02:34    26\n",
      "2022-12-29 19:49:52    25\n",
      "2024-04-24 06:57:04    25\n",
      "                       ..\n",
      "2022-10-25 15:38:19     1\n",
      "2022-10-25 15:37:47     1\n",
      "2022-10-25 15:37:09     1\n",
      "2022-10-25 15:36:35     1\n",
      "2024-11-22 16:15:36     1\n",
      "Name: CRTDAT, Length: 4232726, dtype: int64\n",
      "--------------------------------------------------\n",
      "Distribution of unique values in column: TRNDAT\n",
      "2022-05-11 12:49:04    609\n",
      "2022-05-11 12:49:03    601\n",
      "2022-05-11 12:49:05    344\n",
      "2022-05-11 12:49:02    281\n",
      "2024-03-08 14:53:37    226\n",
      "                      ... \n",
      "2023-10-02 13:40:49      1\n",
      "2023-10-02 10:36:58      1\n",
      "2023-10-02 17:47:23      1\n",
      "2023-10-02 13:49:15      1\n",
      "2024-11-22 12:26:26      1\n",
      "Name: TRNDAT, Length: 3959706, dtype: int64\n",
      "--------------------------------------------------\n",
      "Distribution of unique values in column: USERID\n",
      "LXONE     14179729\n",
      "167020      264915\n",
      "165549      215632\n",
      "170719      214452\n",
      "168388      190725\n",
      "            ...   \n",
      "BIELI            1\n",
      "INGOLD           1\n",
      "LUETHI           1\n",
      "176403           1\n",
      "176712           1\n",
      "Name: USERID, Length: 330, dtype: int64\n",
      "--------------------------------------------------\n",
      "Distribution of unique values in column: TRNNUM\n",
      "1            59734\n",
      "779338436    21135\n",
      "501859526    20892\n",
      "663965376    14342\n",
      "665379448    14046\n",
      "             ...  \n",
      "19293047         1\n",
      "19490005         1\n",
      "19481790         1\n",
      "19487109         1\n",
      "103346894        1\n",
      "Name: TRNNUM, Length: 7234731, dtype: int64\n",
      "--------------------------------------------------\n",
      "Distribution of unique values in column: LOADDAT\n",
      "2023-01-12 12:52:47.965000    1830335\n",
      "2023-04-13 10:19:47.004000    1704235\n",
      "2023-01-12 12:11:39.779000    1628814\n",
      "2023-01-12 12:33:07.307000    1622870\n",
      "2023-01-12 13:08:19.142000     701382\n",
      "                               ...   \n",
      "2024-08-26 00:54:10.245274          1\n",
      "2023-11-13 01:53:51.220000          1\n",
      "2024-01-08 01:54:22.864000          1\n",
      "2024-05-21 00:54:16.067026          1\n",
      "2023-10-22 00:53:51.757000          1\n",
      "Name: LOADDAT, Length: 511, dtype: int64\n",
      "--------------------------------------------------\n"
     ]
    }
   ],
   "execution_count": 18
  },
  {
   "metadata": {
    "ExecuteTime": {
     "end_time": "2024-11-27T08:42:05.444183Z",
     "start_time": "2024-11-27T08:42:03.896737Z"
    }
   },
   "cell_type": "code",
   "source": [
    "# Filter the DataFrame to keep only rows with status == 90 (abgeschlossene)\n",
    "df_wa_kopf = df_wa_kopf[df_wa_kopf['STATUS'] == 90]"
   ],
   "id": "78929593bd49b03e",
   "outputs": [],
   "execution_count": 25
  },
  {
   "metadata": {},
   "cell_type": "markdown",
   "source": "Merge Dataframes",
   "id": "d7700ed61caa791f"
  },
  {
   "metadata": {},
   "cell_type": "code",
   "outputs": [],
   "execution_count": null,
   "source": [
    "# Step 1: Merge main DataFrame with customers\n",
    "df_orders = pd.merge(df_bewegungen, df_wa_kopf, on='OUTNUM', how='inner')"
   ],
   "id": "5be459a97e20453c"
  },
  {
   "metadata": {},
   "cell_type": "markdown",
   "source": "## 3. File Integration/Prep WA POS",
   "id": "26a79814ec60dd58"
  },
  {
   "metadata": {},
   "cell_type": "code",
   "outputs": [],
   "execution_count": null,
   "source": [
    "### Consolidated\n",
    "df_wa_positionen = pd.read_csv(\n",
    "    '../Data/wa_positionen.csv',\n",
    "    dtype={\n",
    "        \"OUTNUM\": \"int32\",\n",
    "        \"OUTLIN\": \"int32\",\n",
    "        \"STATUS\": \"category\",\n",
    "        \"ITEM\": \"category\",\n",
    "        \"LOT\": \"category\",\n",
    "        \"QACODE\": \"category\",\n",
    "        \"ORDQTY\": \"int32\",\n",
    "        \"RELQTY\": \"int32\",\n",
    "        \"FNDQTY\": \"int32\",\n",
    "        \"CONQTY\": \"float32\", # somehow it thinks these values are float data\n",
    "        \"SHPQTY\": \"int32\",\n",
    "        \"USERID\": \"category\",\n",
    "        \"TRNNUM\": \"int32\",\n",
    "    },\n",
    "    low_memory=False,\n",
    "    parse_dates=[\"CRTDAT\", \"TRNDAT\"]\n",
    ")\n",
    "\n",
    "df_wa_positionen['CONQTY'] = df_wa_positionen['CONQTY'].astype(int)\n",
    "## WRITE TO CSV todo\n",
    "\n",
    "# :::"
   ],
   "id": "3e3faef0369714d2"
  },
  {
   "metadata": {
    "ExecuteTime": {
     "end_time": "2024-11-27T09:55:57.689324Z",
     "start_time": "2024-11-27T09:54:45.599962Z"
    }
   },
   "cell_type": "code",
   "source": [
    "df_wa_positionen = pd.read_csv(\n",
    "    '../Data/wa_positionen.csv',\n",
    "    dtype={\n",
    "        \"OUTNUM\": \"int32\",\n",
    "        \"OUTLIN\": \"int32\",\n",
    "        \"STATUS\": \"category\",\n",
    "        \"ITEM\": \"category\",\n",
    "        \"LOT\": \"category\",\n",
    "        \"QACODE\": \"category\",\n",
    "        \"ORDQTY\": \"int32\",\n",
    "        \"RELQTY\": \"int32\",\n",
    "        \"FNDQTY\": \"int32\",\n",
    "        \"CONQTY\": \"float32\", # somehow it thinks these values are float data\n",
    "        \"SHPQTY\": \"int32\",\n",
    "        \"USERID\": \"category\",\n",
    "        \"TRNNUM\": \"int32\",\n",
    "    },\n",
    "    low_memory=False,\n",
    "    parse_dates=[\"CRTDAT\", \"TRNDAT\"]\n",
    ")\n",
    "\n",
    "#change float inferred column to int\n",
    "#df_wa_positionen['CONQTY'] = df_wa_positionen['CONQTY'].astype(int)\n",
    "\n"
   ],
   "id": "ff86d34966200a2e",
   "outputs": [
    {
     "name": "stdout",
     "output_type": "stream",
     "text": [
      "<class 'pandas.core.frame.DataFrame'>\n",
      "RangeIndex: 19375224 entries, 0 to 19375223\n",
      "Data columns (total 17 columns):\n",
      " #   Column   Dtype         \n",
      "---  ------   -----         \n",
      " 0   OUTNUM   int32         \n",
      " 1   OUTLIN   int32         \n",
      " 2   ORDNUM   object        \n",
      " 3   STATUS   category      \n",
      " 4   ITEM     category      \n",
      " 5   LOT      category      \n",
      " 6   QACODE   category      \n",
      " 7   ORDQTY   int32         \n",
      " 8   RELQTY   int32         \n",
      " 9   FNDQTY   int32         \n",
      " 10  CONQTY   float32       \n",
      " 11  SHPQTY   int32         \n",
      " 12  CRTDAT   datetime64[ns]\n",
      " 13  TRNDAT   datetime64[ns]\n",
      " 14  USERID   category      \n",
      " 15  TRNNUM   int64         \n",
      " 16  LOADDAT  object        \n",
      "dtypes: category(5), datetime64[ns](2), float32(1), int32(6), int64(1), object(2)\n",
      "memory usage: 3.9 GB\n",
      "None\n"
     ]
    }
   ],
   "execution_count": 43
  },
  {
   "metadata": {},
   "cell_type": "code",
   "outputs": [],
   "execution_count": null,
   "source": [
    "#change float inferred column to int\n",
    "df_wa_positionen['CONQTY'] = df_wa_positionen['CONQTY'].astype(int)"
   ],
   "id": "85e169621bc4ec16"
  },
  {
   "metadata": {
    "ExecuteTime": {
     "end_time": "2024-11-27T09:56:36.456792Z",
     "start_time": "2024-11-27T09:56:36.444783Z"
    }
   },
   "cell_type": "code",
   "source": [
    "df_wa_positionen.info()\n",
    "num_rows = len(df_wa_kopf)\n",
    "print(f\"Number of rows: {num_rows}\")"
   ],
   "id": "ccabe16742bc9eec",
   "outputs": [
    {
     "name": "stdout",
     "output_type": "stream",
     "text": [
      "<class 'pandas.core.frame.DataFrame'>\n",
      "RangeIndex: 19375224 entries, 0 to 19375223\n",
      "Data columns (total 17 columns):\n",
      " #   Column   Dtype         \n",
      "---  ------   -----         \n",
      " 0   OUTNUM   int32         \n",
      " 1   OUTLIN   int32         \n",
      " 2   ORDNUM   object        \n",
      " 3   STATUS   category      \n",
      " 4   ITEM     category      \n",
      " 5   LOT      category      \n",
      " 6   QACODE   category      \n",
      " 7   ORDQTY   int32         \n",
      " 8   RELQTY   int32         \n",
      " 9   FNDQTY   int32         \n",
      " 10  CONQTY   float32       \n",
      " 11  SHPQTY   int32         \n",
      " 12  CRTDAT   datetime64[ns]\n",
      " 13  TRNDAT   datetime64[ns]\n",
      " 14  USERID   category      \n",
      " 15  TRNNUM   int64         \n",
      " 16  LOADDAT  object        \n",
      "dtypes: category(5), datetime64[ns](2), float32(1), int32(6), int64(1), object(2)\n",
      "memory usage: 1.4+ GB\n",
      "Number of rows: 19314965\n"
     ]
    }
   ],
   "execution_count": 44
  },
  {
   "metadata": {},
   "cell_type": "markdown",
   "source": "## Not needed in the end - analysis of data in wa pos",
   "id": "ce8d5c90128a2d84"
  },
  {
   "metadata": {
    "ExecuteTime": {
     "end_time": "2024-11-27T09:23:42.363835Z",
     "start_time": "2024-11-27T09:23:42.000531Z"
    }
   },
   "cell_type": "code",
   "source": [
    "unique_values_count = df_wa_positionen['CONQTY'].nunique()\n",
    "print(f\"Number of unique values in cleaned DST_LOT: {unique_values_count}\")\n",
    "unique_values = df_wa_positionen['CONQTY'].unique()\n",
    "print(f\"Cleaned unique values in DST_LOT: {unique_values}\")"
   ],
   "id": "a4cd5144f4f8e25e",
   "outputs": [
    {
     "name": "stdout",
     "output_type": "stream",
     "text": [
      "Number of unique values in cleaned DST_LOT: 1207\n",
      "Cleaned unique values in DST_LOT: [   7.   83.   40. ...  647. 1474. 1404.]\n"
     ]
    }
   ],
   "execution_count": 32
  },
  {
   "metadata": {
    "ExecuteTime": {
     "end_time": "2024-11-27T10:06:47.561872Z",
     "start_time": "2024-11-27T10:06:47.501817Z"
    }
   },
   "cell_type": "code",
   "source": [
    "#compare column confirmed / shipped qty to check if there is a difference\n",
    "non_matching_count = (df_wa_positionen['RELQTY'] != df_wa_positionen['CONQTY']).sum()\n",
    "print(f\"Number of non-matching rows: {non_matching_count}\")\n"
   ],
   "id": "70723b3a3f65c1ed",
   "outputs": [
    {
     "name": "stdout",
     "output_type": "stream",
     "text": [
      "Number of non-matching rows: 1923259\n"
     ]
    }
   ],
   "execution_count": 49
  },
  {
   "metadata": {
    "ExecuteTime": {
     "end_time": "2024-11-27T09:25:46.016621Z",
     "start_time": "2024-11-27T09:25:22.568810Z"
    }
   },
   "cell_type": "code",
   "source": [
    "# Assuming `df` is your DataFrame\n",
    "for column in df_wa_positionen.columns:\n",
    "    print(f\"Distribution of unique values in column: {column}\")\n",
    "    print(df_wa_positionen[column].value_counts())  # Count occurrences of each unique value\n",
    "    print(\"-\" * 50)  # Separator for readability\n"
   ],
   "id": "b9fd142cfad60ba3",
   "outputs": [
    {
     "name": "stdout",
     "output_type": "stream",
     "text": [
      "Distribution of unique values in column: OUTNUM\n",
      "19772684    3\n",
      "29880438    3\n",
      "26748586    3\n",
      "22482811    3\n",
      "22482812    3\n",
      "           ..\n",
      "22274019    1\n",
      "22274018    1\n",
      "22274017    1\n",
      "22274016    1\n",
      "35235763    1\n",
      "Name: OUTNUM, Length: 19373891, dtype: int64\n",
      "--------------------------------------------------\n",
      "Distribution of unique values in column: OUTLIN\n",
      "1    19373862\n",
      "2        1356\n",
      "3           6\n",
      "Name: OUTLIN, dtype: int64\n",
      "--------------------------------------------------\n",
      "Distribution of unique values in column: ORDNUM\n",
      "llo232378131    25\n",
      "llo231602020    21\n",
      "llo231601773    20\n",
      "llo231602073    20\n",
      "llo231601659    20\n",
      "                ..\n",
      "llo217040598     1\n",
      "llo217040596     1\n",
      "llo217040592     1\n",
      "llo217040591     1\n",
      "llo236192316     1\n",
      "Name: ORDNUM, Length: 19311781, dtype: int64\n",
      "--------------------------------------------------\n",
      "Distribution of unique values in column: STATUS\n",
      "90    19312730\n",
      "10       60216\n",
      "20        1392\n",
      "17         291\n",
      "95         278\n",
      "70         208\n",
      "30          69\n",
      "80          40\n",
      "Name: STATUS, dtype: int64\n",
      "--------------------------------------------------\n",
      "Distribution of unique values in column: ITEM\n",
      "12119574    21779\n",
      "45683121     8269\n",
      "37671777     8073\n",
      "42875222     8041\n",
      "18089785     7350\n",
      "            ...  \n",
      "35895232        1\n",
      "35895235        1\n",
      "39867336        1\n",
      "20595944        1\n",
      "33823318        1\n",
      "Name: ITEM, Length: 903073, dtype: int64\n",
      "--------------------------------------------------\n",
      "Distribution of unique values in column: LOT\n",
      "001      15432417\n",
      "000       2097906\n",
      "002        717644\n",
      "003        346643\n",
      "004        215649\n",
      "           ...   \n",
      "0016            5\n",
      "1001            2\n",
      "223             1\n",
      "de001           1\n",
      ".001            1\n",
      "Name: LOT, Length: 80, dtype: int64\n",
      "--------------------------------------------------\n",
      "Distribution of unique values in column: QACODE\n",
      "H    19003531\n",
      "R      277174\n",
      "S       94519\n",
      "Name: QACODE, dtype: int64\n",
      "--------------------------------------------------\n",
      "Distribution of unique values in column: ORDQTY\n",
      "1       15534682\n",
      "2        1370064\n",
      "3         891675\n",
      "5         348316\n",
      "6         259455\n",
      "          ...   \n",
      "604            1\n",
      "884            1\n",
      "916            1\n",
      "1511           1\n",
      "1404           1\n",
      "Name: ORDQTY, Length: 1208, dtype: int64\n",
      "--------------------------------------------------\n",
      "Distribution of unique values in column: RELQTY\n",
      "1       14261077\n",
      "0        1832423\n",
      "2        1164831\n",
      "3         766181\n",
      "5         293762\n",
      "          ...   \n",
      "582            1\n",
      "897            1\n",
      "567            1\n",
      "666            1\n",
      "1404           1\n",
      "Name: RELQTY, Length: 1183, dtype: int64\n",
      "--------------------------------------------------\n",
      "Distribution of unique values in column: FNDQTY\n",
      "1       15063145\n",
      "2        1311444\n",
      "3         859607\n",
      "0         650749\n",
      "5         325250\n",
      "          ...   \n",
      "723            1\n",
      "710            1\n",
      "677            1\n",
      "1375           1\n",
      "1404           1\n",
      "Name: FNDQTY, Length: 1200, dtype: int64\n",
      "--------------------------------------------------\n",
      "Distribution of unique values in column: CONQTY\n",
      "1.0       15409780\n",
      "2.0        1431405\n",
      "3.0         884968\n",
      "5.0         334504\n",
      "6.0         260981\n",
      "            ...   \n",
      "624.0            1\n",
      "604.0            1\n",
      "884.0            1\n",
      "916.0            1\n",
      "1404.0           1\n",
      "Name: CONQTY, Length: 1207, dtype: int64\n",
      "--------------------------------------------------\n",
      "Distribution of unique values in column: SHPQTY\n",
      "1       15522057\n",
      "2        1365502\n",
      "3         883335\n",
      "5         332895\n",
      "6         254477\n",
      "          ...   \n",
      "932            1\n",
      "937            1\n",
      "689            1\n",
      "2256           1\n",
      "1322           1\n",
      "Name: SHPQTY, Length: 1171, dtype: int64\n",
      "--------------------------------------------------\n",
      "Distribution of unique values in column: CRTDAT\n",
      "2024-04-26 10:24:22    25\n",
      "2024-04-05 08:12:20    25\n",
      "2024-04-10 06:57:15    25\n",
      "2024-04-09 07:48:08    24\n",
      "2024-04-10 07:13:37    24\n",
      "                       ..\n",
      "2023-08-31 09:44:12     1\n",
      "2023-08-31 07:37:46     1\n",
      "2023-08-31 11:37:28     1\n",
      "2023-08-31 15:34:54     1\n",
      "2024-11-22 14:17:28     1\n",
      "Name: CRTDAT, Length: 4226882, dtype: int64\n",
      "--------------------------------------------------\n",
      "Distribution of unique values in column: TRNDAT\n",
      "2024-04-29 16:03:32    3218\n",
      "2024-04-18 12:51:21    2668\n",
      "2023-10-09 13:33:12    2649\n",
      "2024-02-22 16:30:57    2358\n",
      "2024-06-28 10:00:20    2136\n",
      "                       ... \n",
      "2023-05-22 12:25:15       1\n",
      "2023-05-23 19:38:30       1\n",
      "2023-05-22 18:42:15       1\n",
      "2023-05-22 15:13:04       1\n",
      "2024-11-22 12:26:26       1\n",
      "Name: TRNDAT, Length: 3699285, dtype: int64\n",
      "--------------------------------------------------\n",
      "Distribution of unique values in column: USERID\n",
      "LXONE      14171140\n",
      "167020       265193\n",
      "165549       215801\n",
      "170719       214569\n",
      "168388       192003\n",
      "             ...   \n",
      "INGOLD            1\n",
      "SCHMIDT           1\n",
      "178095            1\n",
      "151037            1\n",
      "158300            1\n",
      "Name: USERID, Length: 321, dtype: int64\n",
      "--------------------------------------------------\n",
      "Distribution of unique values in column: TRNNUM\n",
      "1            59815\n",
      "501859526    21790\n",
      "779338436    21176\n",
      "663965376    18408\n",
      "665379448    16276\n",
      "             ...  \n",
      "64315412         1\n",
      "79728957         1\n",
      "78449425         1\n",
      "64285332         1\n",
      "103346894        1\n",
      "Name: TRNNUM, Length: 3840317, dtype: int64\n",
      "--------------------------------------------------\n",
      "Distribution of unique values in column: LOADDAT\n",
      "2023-01-12 12:52:47.819000    1851477\n",
      "2023-04-13 10:19:47.226000    1667419\n",
      "2023-01-12 12:11:36.484000    1652696\n",
      "2023-01-12 12:33:07.569000    1632136\n",
      "2023-01-12 13:08:22.533000     721395\n",
      "                               ...   \n",
      "2023-07-16 00:54:15.827000          1\n",
      "2023-06-25 00:54:16.427000          1\n",
      "2023-06-19 00:53:51.095000          1\n",
      "2023-05-30 00:53:58.366000          1\n",
      "2024-03-04 01:53:51.474836          1\n",
      "Name: LOADDAT, Length: 510, dtype: int64\n",
      "--------------------------------------------------\n"
     ]
    }
   ],
   "execution_count": 34
  },
  {
   "metadata": {},
   "cell_type": "code",
   "outputs": [],
   "execution_count": null,
   "source": "",
   "id": "790e2fbf317f4706"
  },
  {
   "metadata": {
    "ExecuteTime": {
     "end_time": "2024-11-27T10:04:58.674742Z",
     "start_time": "2024-11-27T10:04:53.065458Z"
    }
   },
   "cell_type": "code",
   "source": [
    "# Define a function to determine the type of each entry\n",
    "def get_dtype(value):\n",
    "    return type(value).__name__\n",
    "\n",
    "# Apply the function to the SRC_LOT column and count occurrences of each type\n",
    "type_counts = df_wa_positionen['CONQTY'].apply(get_dtype).value_counts()\n",
    "\n",
    "# Print the results\n",
    "print(\"Data types in CONQTY column:\")\n",
    "print(type_counts)"
   ],
   "id": "aaae026c320ba328",
   "outputs": [
    {
     "name": "stdout",
     "output_type": "stream",
     "text": [
      "Data types in CONQTY column:\n",
      "float    19375224\n",
      "Name: CONQTY, dtype: int64\n"
     ]
    }
   ],
   "execution_count": 45
  },
  {
   "metadata": {
    "ExecuteTime": {
     "end_time": "2024-11-27T09:31:30.293999Z",
     "start_time": "2024-11-27T09:31:30.104829Z"
    }
   },
   "cell_type": "code",
   "source": [
    "# Specify the column to extract unique values from\n",
    "column_name = 'CONQTY'\n",
    "\n",
    "# Get unique values\n",
    "unique_values = df_wa_positionen[column_name].unique()\n",
    "\n",
    "# Convert to a DataFrame for saving\n",
    "unique_values_df = pd.DataFrame(unique_values, columns=[column_name])\n",
    "\n",
    "# Save to CSV\n",
    "output_file = 'unique_values_wapositionen.csv'\n",
    "unique_values_df.to_csv(output_file, index=False)\n",
    "\n",
    "print(f\"Unique values saved to {output_file}\")"
   ],
   "id": "b6b938f00f257392",
   "outputs": [
    {
     "name": "stdout",
     "output_type": "stream",
     "text": [
      "Unique values saved to unique_values_wapositionen.csv\n"
     ]
    }
   ],
   "execution_count": 36
  },
  {
   "metadata": {
    "ExecuteTime": {
     "end_time": "2024-11-27T09:51:59.497008Z",
     "start_time": "2024-11-27T09:51:59.467983Z"
    }
   },
   "cell_type": "code",
   "source": [
    "#checking for NaN values in float column to change it to int after\n",
    "# Check for NaN values\n",
    "if df_wa_positionen['CONQTY'].isna().any():\n",
    "    print(f\"Column '{column_name}' contains NaN values.\")\n",
    "else:\n",
    "    print(f\"Column '{column_name}' does not contain any NaN values.\")"
   ],
   "id": "95e59ade430f5534",
   "outputs": [
    {
     "name": "stdout",
     "output_type": "stream",
     "text": [
      "Column 'CONQTY' does not contain any NaN values.\n"
     ]
    }
   ],
   "execution_count": 40
  },
  {
   "metadata": {
    "ExecuteTime": {
     "end_time": "2024-11-27T09:53:25.638570Z",
     "start_time": "2024-11-27T09:53:25.543484Z"
    }
   },
   "cell_type": "code",
   "source": "df_wa_positionen['CONQTY'] = df_wa_positionen['CONQTY'].astype(int)\n",
   "id": "e47af23b42026116",
   "outputs": [],
   "execution_count": 41
  },
  {
   "metadata": {
    "ExecuteTime": {
     "end_time": "2024-11-27T10:05:06.140950Z",
     "start_time": "2024-11-27T10:05:06.116929Z"
    }
   },
   "cell_type": "code",
   "source": "df_wa_positionen.info()",
   "id": "80f1b114ba16ae36",
   "outputs": [
    {
     "name": "stdout",
     "output_type": "stream",
     "text": [
      "<class 'pandas.core.frame.DataFrame'>\n",
      "RangeIndex: 19375224 entries, 0 to 19375223\n",
      "Data columns (total 17 columns):\n",
      " #   Column   Dtype         \n",
      "---  ------   -----         \n",
      " 0   OUTNUM   int32         \n",
      " 1   OUTLIN   int32         \n",
      " 2   ORDNUM   object        \n",
      " 3   STATUS   category      \n",
      " 4   ITEM     category      \n",
      " 5   LOT      category      \n",
      " 6   QACODE   category      \n",
      " 7   ORDQTY   int32         \n",
      " 8   RELQTY   int32         \n",
      " 9   FNDQTY   int32         \n",
      " 10  CONQTY   float32       \n",
      " 11  SHPQTY   int32         \n",
      " 12  CRTDAT   datetime64[ns]\n",
      " 13  TRNDAT   datetime64[ns]\n",
      " 14  USERID   category      \n",
      " 15  TRNNUM   int64         \n",
      " 16  LOADDAT  object        \n",
      "dtypes: category(5), datetime64[ns](2), float32(1), int32(6), int64(1), object(2)\n",
      "memory usage: 1.4+ GB\n"
     ]
    }
   ],
   "execution_count": 46
  },
  {
   "metadata": {},
   "cell_type": "code",
   "outputs": [],
   "execution_count": null,
   "source": "",
   "id": "a17a5c0129c2d22c"
  }
 ],
 "metadata": {
  "kernelspec": {
   "display_name": "Python 3",
   "language": "python",
   "name": "python3"
  },
  "language_info": {
   "codemirror_mode": {
    "name": "ipython",
    "version": 2
   },
   "file_extension": ".py",
   "mimetype": "text/x-python",
   "name": "python",
   "nbconvert_exporter": "python",
   "pygments_lexer": "ipython2",
   "version": "2.7.6"
  }
 },
 "nbformat": 4,
 "nbformat_minor": 5
}
