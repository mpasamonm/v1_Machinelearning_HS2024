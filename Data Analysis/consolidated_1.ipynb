{
 "cells": [
  {
   "metadata": {},
   "cell_type": "markdown",
   "source": "### All copied from final_dataprep_v1.ipynb to testrun fully and merge the df on FK and PKs for first usecase",
   "id": "79950e80aaecd0be"
  },
  {
   "metadata": {},
   "cell_type": "markdown",
   "source": "# Bewegungen.csv prep",
   "id": "52a6ed4c6ae38002"
  },
  {
   "metadata": {},
   "cell_type": "markdown",
   "source": "",
   "id": "c635ace25537efef"
  },
  {
   "cell_type": "code",
   "id": "initial_id",
   "metadata": {
    "collapsed": true,
    "ExecuteTime": {
     "end_time": "2024-11-27T10:32:35.119582Z",
     "start_time": "2024-11-27T10:30:24.588356Z"
    }
   },
   "source": [
    "# consolidated :::\n",
    "import pandas as pd\n",
    "from idna.idnadata import joining_types\n",
    "\n",
    "# List of columns to keep (ran into memory issues...)\n",
    "columns_to_keep = [\n",
    "    \"WORNUM\", \"STATUS\", \"SRC_ITEM\", \"SRC_LOT\", \"SRC_QACODE\", \"DST_LOT\",\n",
    "    \"DST_QACODE\", \"SRC_WA\", \"SRC_X\", \"SRC_Y\", \"SRC_Z\", \"DST_WA\", \"OUTNUM\",\n",
    "    \"LISNUM\", \"SUMLIS\", \"TRNNUM\", \"CRTDAT\", \"TRNDAT\", \"USERID\", \"LOADDAT\"\n",
    "]\n",
    "\n",
    "dtypes = {\n",
    "    \"WORNUM\": \"int32\",\n",
    "    \"STATUS\": \"int32\",\n",
    "    \"MOVTYP\": \"category\",\n",
    "    \"MOVKEY\": \"category\",\n",
    "    \"SRC_ITEM\": \"category\",\n",
    "    \"SRC_LOT\": \"string\",\n",
    "    \"SRC_QACODE\": \"category\",\n",
    "    \"DST_LOT\": \"string\",\n",
    "    \"DST_QACODE\": \"category\",\n",
    "    \"SRC_WA\": \"category\",\n",
    "    \"SRC_X\": \"category\",\n",
    "    \"SRC_Y\": \"category\",\n",
    "    \"SRC_Z\": \"category\",\n",
    "    \"DST_WA\": \"category\",\n",
    "    \"CONQTY\": \"int32\",\n",
    "    \"OUTNUM\": \"int32\",\n",
    "    \"RELNUM\": \"int32\",\n",
    "    \"LISNUM\": \"int32\",\n",
    "    \"SUMLIS\": \"int32\",\n",
    "    \"TRNNUM\": \"int32\",\n",
    "    \"USERID\": \"category\",\n",
    "}\n",
    "\n",
    "# Load the CSV with optimized settings, and only load necessary cols\n",
    "df_bewegungen = pd.read_csv(\n",
    "    '../Data/bewegungen.csv',\n",
    "    usecols=columns_to_keep,  # Only load the specified columns\n",
    "    dtype=dtypes,\n",
    "    #usecols=columns_to_use,  # Only load required columns\n",
    "    #dtype=dtypes,            # Use optimized data types\n",
    "    parse_dates=[\"CRTDAT\", \"TRNDAT\", \"LOADDAT\"],\n",
    "    low_memory=False\n",
    ")\n",
    "\n",
    "# Clean SRC_LOT column (Column \"Artikelcharge\", this LOT usually is a 3 digit int. An Article can have multiple LOTs. I simplify by removing leading zeros and clean up the column from wrong manual usererrors.\n",
    "df_bewegungen['SRC_LOT'] = df_bewegungen['SRC_LOT'].fillna('').astype(str)  # Handle NaNs and convert to string\n",
    "df_bewegungen['SRC_LOT'] = df_bewegungen['SRC_LOT'].apply(lambda x: '0' if x == '000' else x.lstrip('0'))  # Remove leading zeros\n",
    "df_bewegungen['SRC_LOT'] = df_bewegungen['SRC_LOT'].apply(lambda x: x if x.isdigit() and len(x) <= 3 else None)  # Validate format\n",
    "\n",
    "# Clean DST_LOT column\n",
    "df_bewegungen['DST_LOT'] = df_bewegungen['DST_LOT'].fillna('').astype(str)  # Handle NaNs and convert to string\n",
    "df_bewegungen['DST_LOT'] = df_bewegungen['DST_LOT'].apply(lambda x: '0' if x == '000' else x.lstrip('0'))  # Remove leading zeros\n",
    "df_bewegungen['DST_LOT'] = df_bewegungen['DST_LOT'].apply(lambda x: x if x.isdigit() and len(x) <= 3 else None)  # Validate format\n",
    "\n",
    "# Clean STATUS column (10= Offen, 50= Bestätigt, 95= Storniert -- for my purposes I'm only interested in \"Bestätigt\" rows.\n",
    "# Filter the DataFrame to keep only rows with status == 50 (abgeschlossen)\n",
    "df = df_bewegungen[df_bewegungen['STATUS'] == 50]\n",
    "\n",
    "# Remove rows where USER == 'LXONE'\n",
    "df = df[df['USERID'] != 'LXONE']\n",
    "\n",
    "df_bewegungen = df_bewegungen.astype({\n",
    "    \"SRC_LOT\": \"category\",\n",
    "    \"DST_LOT\": \"category\",\n",
    "})\n",
    "# :::"
   ],
   "outputs": [],
   "execution_count": 7
  },
  {
   "metadata": {
    "ExecuteTime": {
     "end_time": "2024-11-27T10:29:10.694625Z",
     "start_time": "2024-11-27T10:29:10.664600Z"
    }
   },
   "cell_type": "code",
   "source": "df_bewegungen.head()",
   "id": "411ad1880fd30d99",
   "outputs": [
    {
     "data": {
      "text/plain": [
       "      WORNUM  STATUS  SRC_ITEM SRC_LOT SRC_QACODE DST_LOT DST_QACODE SRC_WA  \\\n",
       "0  289678987      50  36529803       1          H       1          H     EG   \n",
       "1  289870561      50  44118619       1          H       1          H     EG   \n",
       "2  289833599      50  13091411       1          H       1          H     EG   \n",
       "3  289815259      50   9636829       0          H       0          H     EG   \n",
       "4  289839097      50  16359571       1          H       1          H     EG   \n",
       "\n",
       "  SRC_X SRC_Y SRC_Z DST_WA     LISNUM     SUMLIS     TRNNUM  \\\n",
       "0  1601    02   D15     WA  289679194  289679311  599324284   \n",
       "1  1780    02   E03     WA  289874022  289874463  599670338   \n",
       "2  2215    04   F13     WA  289835037  289835121  599596179   \n",
       "3  2401    02   C03     WA  289815703  289815805  599541258   \n",
       "4  2004    07   G05     WA  289840157  289725531  599576127   \n",
       "\n",
       "               CRTDAT              TRNDAT    USERID                    LOADDAT  \n",
       "0 2024-04-25 01:04:53 2024-04-25 08:16:39     24769 2024-04-26 00:52:47.247838  \n",
       "1 2024-04-25 17:34:53 2024-04-25 19:29:47    178141 2024-04-26 00:52:47.247838  \n",
       "2 2024-04-25 15:24:37 2024-04-25 16:42:37   LAESSIG 2024-04-26 00:52:47.247838  \n",
       "3 2024-04-25 14:34:37 2024-04-25 14:56:15  GUERBUEZ 2024-04-26 00:52:47.247838  \n",
       "4 2024-04-25 15:39:56 2024-04-25 16:03:15    104044 2024-04-26 00:52:47.247838  "
      ],
      "text/html": [
       "<div>\n",
       "<style scoped>\n",
       "    .dataframe tbody tr th:only-of-type {\n",
       "        vertical-align: middle;\n",
       "    }\n",
       "\n",
       "    .dataframe tbody tr th {\n",
       "        vertical-align: top;\n",
       "    }\n",
       "\n",
       "    .dataframe thead th {\n",
       "        text-align: right;\n",
       "    }\n",
       "</style>\n",
       "<table border=\"1\" class=\"dataframe\">\n",
       "  <thead>\n",
       "    <tr style=\"text-align: right;\">\n",
       "      <th></th>\n",
       "      <th>WORNUM</th>\n",
       "      <th>STATUS</th>\n",
       "      <th>SRC_ITEM</th>\n",
       "      <th>SRC_LOT</th>\n",
       "      <th>SRC_QACODE</th>\n",
       "      <th>DST_LOT</th>\n",
       "      <th>DST_QACODE</th>\n",
       "      <th>SRC_WA</th>\n",
       "      <th>SRC_X</th>\n",
       "      <th>SRC_Y</th>\n",
       "      <th>SRC_Z</th>\n",
       "      <th>DST_WA</th>\n",
       "      <th>LISNUM</th>\n",
       "      <th>SUMLIS</th>\n",
       "      <th>TRNNUM</th>\n",
       "      <th>CRTDAT</th>\n",
       "      <th>TRNDAT</th>\n",
       "      <th>USERID</th>\n",
       "      <th>LOADDAT</th>\n",
       "    </tr>\n",
       "  </thead>\n",
       "  <tbody>\n",
       "    <tr>\n",
       "      <th>0</th>\n",
       "      <td>289678987</td>\n",
       "      <td>50</td>\n",
       "      <td>36529803</td>\n",
       "      <td>1</td>\n",
       "      <td>H</td>\n",
       "      <td>1</td>\n",
       "      <td>H</td>\n",
       "      <td>EG</td>\n",
       "      <td>1601</td>\n",
       "      <td>02</td>\n",
       "      <td>D15</td>\n",
       "      <td>WA</td>\n",
       "      <td>289679194</td>\n",
       "      <td>289679311</td>\n",
       "      <td>599324284</td>\n",
       "      <td>2024-04-25 01:04:53</td>\n",
       "      <td>2024-04-25 08:16:39</td>\n",
       "      <td>24769</td>\n",
       "      <td>2024-04-26 00:52:47.247838</td>\n",
       "    </tr>\n",
       "    <tr>\n",
       "      <th>1</th>\n",
       "      <td>289870561</td>\n",
       "      <td>50</td>\n",
       "      <td>44118619</td>\n",
       "      <td>1</td>\n",
       "      <td>H</td>\n",
       "      <td>1</td>\n",
       "      <td>H</td>\n",
       "      <td>EG</td>\n",
       "      <td>1780</td>\n",
       "      <td>02</td>\n",
       "      <td>E03</td>\n",
       "      <td>WA</td>\n",
       "      <td>289874022</td>\n",
       "      <td>289874463</td>\n",
       "      <td>599670338</td>\n",
       "      <td>2024-04-25 17:34:53</td>\n",
       "      <td>2024-04-25 19:29:47</td>\n",
       "      <td>178141</td>\n",
       "      <td>2024-04-26 00:52:47.247838</td>\n",
       "    </tr>\n",
       "    <tr>\n",
       "      <th>2</th>\n",
       "      <td>289833599</td>\n",
       "      <td>50</td>\n",
       "      <td>13091411</td>\n",
       "      <td>1</td>\n",
       "      <td>H</td>\n",
       "      <td>1</td>\n",
       "      <td>H</td>\n",
       "      <td>EG</td>\n",
       "      <td>2215</td>\n",
       "      <td>04</td>\n",
       "      <td>F13</td>\n",
       "      <td>WA</td>\n",
       "      <td>289835037</td>\n",
       "      <td>289835121</td>\n",
       "      <td>599596179</td>\n",
       "      <td>2024-04-25 15:24:37</td>\n",
       "      <td>2024-04-25 16:42:37</td>\n",
       "      <td>LAESSIG</td>\n",
       "      <td>2024-04-26 00:52:47.247838</td>\n",
       "    </tr>\n",
       "    <tr>\n",
       "      <th>3</th>\n",
       "      <td>289815259</td>\n",
       "      <td>50</td>\n",
       "      <td>9636829</td>\n",
       "      <td>0</td>\n",
       "      <td>H</td>\n",
       "      <td>0</td>\n",
       "      <td>H</td>\n",
       "      <td>EG</td>\n",
       "      <td>2401</td>\n",
       "      <td>02</td>\n",
       "      <td>C03</td>\n",
       "      <td>WA</td>\n",
       "      <td>289815703</td>\n",
       "      <td>289815805</td>\n",
       "      <td>599541258</td>\n",
       "      <td>2024-04-25 14:34:37</td>\n",
       "      <td>2024-04-25 14:56:15</td>\n",
       "      <td>GUERBUEZ</td>\n",
       "      <td>2024-04-26 00:52:47.247838</td>\n",
       "    </tr>\n",
       "    <tr>\n",
       "      <th>4</th>\n",
       "      <td>289839097</td>\n",
       "      <td>50</td>\n",
       "      <td>16359571</td>\n",
       "      <td>1</td>\n",
       "      <td>H</td>\n",
       "      <td>1</td>\n",
       "      <td>H</td>\n",
       "      <td>EG</td>\n",
       "      <td>2004</td>\n",
       "      <td>07</td>\n",
       "      <td>G05</td>\n",
       "      <td>WA</td>\n",
       "      <td>289840157</td>\n",
       "      <td>289725531</td>\n",
       "      <td>599576127</td>\n",
       "      <td>2024-04-25 15:39:56</td>\n",
       "      <td>2024-04-25 16:03:15</td>\n",
       "      <td>104044</td>\n",
       "      <td>2024-04-26 00:52:47.247838</td>\n",
       "    </tr>\n",
       "  </tbody>\n",
       "</table>\n",
       "</div>"
      ]
     },
     "execution_count": 6,
     "metadata": {},
     "output_type": "execute_result"
    }
   ],
   "execution_count": 6
  },
  {
   "metadata": {},
   "cell_type": "markdown",
   "source": "# WA kopf.csv prep",
   "id": "d3c1bdce32eb89b6"
  },
  {
   "metadata": {
    "ExecuteTime": {
     "end_time": "2024-11-27T10:25:46.362577Z",
     "start_time": "2024-11-27T10:22:57.104212Z"
    }
   },
   "cell_type": "code",
   "source": [
    "#Consolidated:::\n",
    "df_wa_kopf = pd.read_csv(\n",
    "    '../Data/wa_kopf.csv',\n",
    "    dtype={\n",
    "        \"OUTNUM\": \"int32\",\n",
    "        \"DOCNUM\": \"category\",\n",
    "        \"ORDNUM\": \"category\",\n",
    "        \"STATUS\": \"int32\",\n",
    "        \"CUSNUM\": \"category\",\n",
    "        \"SHPTYP\": \"category\",\n",
    "        \"TOUR\": \"category\",\n",
    "    },\n",
    "    low_memory=False,\n",
    "    parse_dates=[\"ORDDAT\", \"DLVDAT\", \"CRTDAT\", \"TRNDAT\"]\n",
    ")\n",
    "# Filter the DataFrame to keep only rows with status == 90 (abgeschlossene)\n",
    "df_wa_kopf = df_wa_kopf[df_wa_kopf['STATUS'] == 90]\n",
    "\n",
    "# Step 1: Merge main DataFrame with customers\n",
    "# df_orders = pd.merge(df_bewegungen, df_wa_kopf, on='OUTNUM', how='inner')\n",
    "\n",
    "#:::"
   ],
   "id": "aeff0654c5b44462",
   "outputs": [],
   "execution_count": 2
  },
  {
   "metadata": {},
   "cell_type": "markdown",
   "source": "# WA Positionen prep",
   "id": "de563cba443df1db"
  },
  {
   "metadata": {
    "ExecuteTime": {
     "end_time": "2024-11-27T10:27:24.136840Z",
     "start_time": "2024-11-27T10:26:15.117466Z"
    }
   },
   "cell_type": "code",
   "source": [
    "### Consolidated\n",
    "df_wa_positionen = pd.read_csv(\n",
    "    '../Data/wa_positionen.csv',\n",
    "    dtype={\n",
    "        \"OUTNUM\": \"int32\",\n",
    "        \"OUTLIN\": \"int32\",\n",
    "        \"STATUS\": \"category\",\n",
    "        \"ITEM\": \"category\",\n",
    "        \"LOT\": \"category\",\n",
    "        \"QACODE\": \"category\",\n",
    "        \"ORDQTY\": \"int32\",\n",
    "        \"RELQTY\": \"int32\",\n",
    "        \"FNDQTY\": \"int32\",\n",
    "        \"CONQTY\": \"float32\", # somehow it thinks these values are float data\n",
    "        \"SHPQTY\": \"int32\",\n",
    "        \"USERID\": \"category\",\n",
    "        \"TRNNUM\": \"int32\",\n",
    "    },\n",
    "    low_memory=False,\n",
    "    parse_dates=[\"CRTDAT\", \"TRNDAT\"]\n",
    ")\n",
    "\n",
    "df_wa_positionen['CONQTY'] = df_wa_positionen['CONQTY'].astype(int)\n",
    "## WRITE TO CSV todo\n",
    "\n",
    "# :::"
   ],
   "id": "51ccd801a9f8c734",
   "outputs": [],
   "execution_count": 3
  },
  {
   "metadata": {},
   "cell_type": "markdown",
   "source": "# Joins",
   "id": "6260fb5bf5fd1d2"
  },
  {
   "metadata": {},
   "cell_type": "code",
   "outputs": [],
   "execution_count": null,
   "source": [
    "\n",
    "# = pd.merge(df_bewegungen, df_wa_kopf, on='OUTNUM', how='inner')\n"
   ],
   "id": "810e35cc4cb03fbd"
  },
  {
   "metadata": {
    "ExecuteTime": {
     "end_time": "2024-11-27T10:33:20.130796Z",
     "start_time": "2024-11-27T10:32:44.960491Z"
    }
   },
   "cell_type": "code",
   "source": [
    "df_full = (\n",
    "    pd.merge(df_bewegungen, df_wa_kopf, on='OUTNUM', how='inner')\n",
    "    .merge(df_wa_positionen, on='OUTNUM', how='inner')\n",
    ")\n",
    "\n",
    "print(df_full.head())\n"
   ],
   "id": "d81963a2ec8a920d",
   "outputs": [
    {
     "name": "stdout",
     "output_type": "stream",
     "text": [
      "      WORNUM  STATUS_x  SRC_ITEM SRC_LOT SRC_QACODE DST_LOT DST_QACODE SRC_WA  \\\n",
      "0  289678987        50  36529803       1          H       1          H     EG   \n",
      "1  289870561        50  44118619       1          H       1          H     EG   \n",
      "2  289833599        50  13091411       1          H       1          H     EG   \n",
      "3  289815259        50   9636829       0          H       0          H     EG   \n",
      "4  289839097        50  16359571       1          H       1          H     EG   \n",
      "\n",
      "  SRC_X SRC_Y  ... ORDQTY RELQTY  FNDQTY  CONQTY  SHPQTY              CRTDAT  \\\n",
      "0  1601    02  ...      9      9       9       9       9 2024-04-24 08:39:31   \n",
      "1  1780    02  ...      2      2       2       2       2 2024-04-24 12:43:27   \n",
      "2  2215    04  ...      1      1       1       1       1 2024-04-24 15:07:52   \n",
      "3  2401    02  ...      1      1       1       1       1 2024-04-25 06:57:41   \n",
      "4  2004    07  ...      1      1       1       1       1 2024-04-25 15:38:32   \n",
      "\n",
      "               TRNDAT USERID     TRNNUM                     LOADDAT  \n",
      "0 2024-04-25 19:31:31  LXONE  599670642  2024-04-26 00:54:40.045140  \n",
      "1 2024-04-25 20:10:13  LXONE  599678660  2024-04-26 00:54:40.045140  \n",
      "2 2024-04-25 18:40:10  LXONE  599659813  2024-04-26 00:54:40.045140  \n",
      "3 2024-04-25 19:25:39  LXONE  599669523  2024-04-26 00:54:40.045140  \n",
      "4 2024-04-25 18:39:20  LXONE  599659634  2024-04-26 00:54:40.045140  \n",
      "\n",
      "[5 rows x 50 columns]\n"
     ]
    }
   ],
   "execution_count": 8
  },
  {
   "metadata": {
    "ExecuteTime": {
     "end_time": "2024-11-27T10:53:13.973415Z",
     "start_time": "2024-11-27T10:53:03.244302Z"
    }
   },
   "cell_type": "code",
   "source": [
    "df_full.head()\n",
    "df_full.info()"
   ],
   "id": "18957fb0431e8f8f",
   "outputs": [
    {
     "name": "stdout",
     "output_type": "stream",
     "text": [
      "<class 'pandas.core.frame.DataFrame'>\n",
      "Int64Index: 19628991 entries, 0 to 19628990\n",
      "Data columns (total 50 columns):\n",
      " #   Column      Dtype         \n",
      "---  ------      -----         \n",
      " 0   WORNUM      int32         \n",
      " 1   STATUS_x    int32         \n",
      " 2   SRC_ITEM    category      \n",
      " 3   SRC_LOT     category      \n",
      " 4   SRC_QACODE  category      \n",
      " 5   DST_LOT     category      \n",
      " 6   DST_QACODE  category      \n",
      " 7   SRC_WA      category      \n",
      " 8   SRC_X       category      \n",
      " 9   SRC_Y       category      \n",
      " 10  SRC_Z       category      \n",
      " 11  DST_WA      category      \n",
      " 12  OUTNUM      int32         \n",
      " 13  LISNUM      int32         \n",
      " 14  SUMLIS      int32         \n",
      " 15  TRNNUM_x    int32         \n",
      " 16  CRTDAT_x    datetime64[ns]\n",
      " 17  TRNDAT_x    datetime64[ns]\n",
      " 18  USERID_x    category      \n",
      " 19  LOADDAT_x   datetime64[ns]\n",
      " 20  DOCNUM      category      \n",
      " 21  ORDNUM_x    category      \n",
      " 22  STATUS_y    int32         \n",
      " 23  PICCOD      object        \n",
      " 24  CUSNUM      category      \n",
      " 25  ORDDAT      datetime64[ns]\n",
      " 26  DLVDAT      datetime64[ns]\n",
      " 27  SHPTYP      category      \n",
      " 28  TOUR        category      \n",
      " 29  CRTDAT_y    datetime64[ns]\n",
      " 30  TRNDAT_y    datetime64[ns]\n",
      " 31  USERID_y    object        \n",
      " 32  TRNNUM_y    int64         \n",
      " 33  LOADDAT_y   object        \n",
      " 34  OUTLIN      int32         \n",
      " 35  ORDNUM_y    object        \n",
      " 36  STATUS      category      \n",
      " 37  ITEM        category      \n",
      " 38  LOT         category      \n",
      " 39  QACODE      category      \n",
      " 40  ORDQTY      int32         \n",
      " 41  RELQTY      int32         \n",
      " 42  FNDQTY      int32         \n",
      " 43  CONQTY      int32         \n",
      " 44  SHPQTY      int32         \n",
      " 45  CRTDAT      datetime64[ns]\n",
      " 46  TRNDAT      datetime64[ns]\n",
      " 47  USERID      category      \n",
      " 48  TRNNUM      int32         \n",
      " 49  LOADDAT     object        \n",
      "dtypes: category(21), datetime64[ns](9), int32(14), int64(1), object(5)\n",
      "memory usage: 5.0+ GB\n"
     ]
    }
   ],
   "execution_count": 15
  },
  {
   "metadata": {
    "ExecuteTime": {
     "end_time": "2024-11-27T10:44:56.832820Z",
     "start_time": "2024-11-27T10:44:56.817807Z"
    }
   },
   "cell_type": "code",
   "source": [
    "num_rows = len(df_full)\n",
    "print(f\"Number of rows: {num_rows}\")"
   ],
   "id": "fd6c62a2759ea196",
   "outputs": [
    {
     "name": "stdout",
     "output_type": "stream",
     "text": [
      "Number of rows: 19628991\n"
     ]
    }
   ],
   "execution_count": 14
  },
  {
   "metadata": {
    "ExecuteTime": {
     "end_time": "2024-11-27T10:41:13.521777Z",
     "start_time": "2024-11-27T10:40:26.150824Z"
    }
   },
   "cell_type": "code",
   "source": [
    "import pyarrow\n",
    "\n",
    "# Save the fully joined DataFrame to a Parquet file for better performance\n",
    "output_file = 'joined_data_v1.parquet'\n",
    "df_full.to_parquet(output_file, index=False)\n",
    "\n",
    "print(f\"Fully joined DataFrame saved to {output_file}\")"
   ],
   "id": "3f0a3f4ed86413ea",
   "outputs": [
    {
     "name": "stdout",
     "output_type": "stream",
     "text": [
      "Fully joined DataFrame saved to joined_data_v1.parquet\n"
     ]
    }
   ],
   "execution_count": 12
  },
  {
   "metadata": {},
   "cell_type": "code",
   "outputs": [],
   "execution_count": null,
   "source": [
    "# reading parquet file later\n",
    "\n",
    "df_loaded = pd.read_parquet('joined_data.parquet')\n",
    "print(df_loaded.head())\n"
   ],
   "id": "d51518b2e64392a1"
  },
  {
   "metadata": {},
   "cell_type": "markdown",
   "source": "##TEMP\n",
   "id": "f55023219bdda426"
  },
  {
   "metadata": {},
   "cell_type": "code",
   "outputs": [],
   "execution_count": null,
   "source": "",
   "id": "d980f5634eeda664"
  }
 ],
 "metadata": {
  "kernelspec": {
   "display_name": "Python 3",
   "language": "python",
   "name": "python3"
  },
  "language_info": {
   "codemirror_mode": {
    "name": "ipython",
    "version": 2
   },
   "file_extension": ".py",
   "mimetype": "text/x-python",
   "name": "python",
   "nbconvert_exporter": "python",
   "pygments_lexer": "ipython2",
   "version": "2.7.6"
  }
 },
 "nbformat": 4,
 "nbformat_minor": 5
}
