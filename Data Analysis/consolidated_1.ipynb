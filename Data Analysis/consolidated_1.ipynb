{
 "cells": [
  {
   "metadata": {},
   "cell_type": "markdown",
   "source": "### All copied from final_dataprep_v1.ipynb to testrun fully and merge the df on FK and PKs for first usecase",
   "id": "79950e80aaecd0be"
  },
  {
   "metadata": {},
   "cell_type": "markdown",
   "source": "# Bewegungen.csv prep",
   "id": "52a6ed4c6ae38002"
  },
  {
   "metadata": {},
   "cell_type": "markdown",
   "source": "",
   "id": "c635ace25537efef"
  },
  {
   "cell_type": "code",
   "id": "initial_id",
   "metadata": {
    "collapsed": true,
    "ExecuteTime": {
     "end_time": "2024-12-26T14:28:51.644154Z",
     "start_time": "2024-12-26T14:26:33.536092Z"
    }
   },
   "source": [
    "# consolidated :::\n",
    "import pandas as pd\n",
    "from idna.idnadata import joining_types\n",
    "\n",
    "# List of columns to keep (ran into memory issues...)\n",
    "columns_to_keep = [\n",
    "    \"WORNUM\", \"STATUS\", \"SRC_ITEM\", \"SRC_LOT\", \"SRC_QACODE\", \"DST_LOT\",\n",
    "    \"DST_QACODE\", \"SRC_WA\", \"SRC_X\", \"SRC_Y\", \"SRC_Z\", \"DST_WA\", \"OUTNUM\",\n",
    "    \"LISNUM\", \"SUMLIS\", \"TRNNUM\", \"CRTDAT\", \"TRNDAT\", \"USERID\", #\"LOADDAT\" not needed (just the date when its imported into DWH)\n",
    "]\n",
    "\n",
    "dtypes = {\n",
    "    \"WORNUM\": \"int32\",\n",
    "    \"STATUS\": \"int32\",\n",
    "    \"MOVTYP\": \"category\",\n",
    "    \"MOVKEY\": \"category\",\n",
    "    \"SRC_ITEM\": \"category\",\n",
    "    \"SRC_LOT\": \"string\",\n",
    "    \"SRC_QACODE\": \"category\",\n",
    "    \"DST_LOT\": \"string\",\n",
    "    \"DST_QACODE\": \"category\",\n",
    "    \"SRC_WA\": \"category\",\n",
    "    \"SRC_X\": \"category\",\n",
    "    \"SRC_Y\": \"category\",\n",
    "    \"SRC_Z\": \"category\",\n",
    "    \"DST_WA\": \"category\",\n",
    "    \"CONQTY\": \"int32\",\n",
    "    \"OUTNUM\": \"int32\",\n",
    "    \"RELNUM\": \"int32\",\n",
    "    \"LISNUM\": \"int32\",\n",
    "    \"SUMLIS\": \"int32\",\n",
    "    \"TRNNUM\": \"int32\",\n",
    "    \"USERID\": \"category\",\n",
    "}\n",
    "\n",
    "# Load the CSV with optimized settings, and only load necessary cols\n",
    "df_bewegungen = pd.read_csv(\n",
    "    '../Data/bewegungen.csv',\n",
    "    usecols=columns_to_keep,  # Only load the specified columns\n",
    "    dtype=dtypes, # use optimized, manually set data types\n",
    "    #usecols=columns_to_use,  # Only load required columns\n",
    "    parse_dates=[\"CRTDAT\", \"TRNDAT\"],\n",
    "    low_memory=False\n",
    ")\n",
    "\n",
    "# Clean SRC_LOT column (Column \"Artikelcharge\", this LOT usually is a 3 digit int. An Article can have multiple LOTs. I simplify by removing leading zeros and clean up the column from wrong manual usererrors.\n",
    "df_bewegungen['SRC_LOT'] = df_bewegungen['SRC_LOT'].fillna('').astype(str)  # Handle NaNs and convert to string\n",
    "df_bewegungen['SRC_LOT'] = df_bewegungen['SRC_LOT'].apply(lambda x: '0' if x == '000' else x.lstrip('0'))  # Remove leading zeros\n",
    "df_bewegungen['SRC_LOT'] = df_bewegungen['SRC_LOT'].apply(lambda x: x if x.isdigit() and len(x) <= 3 else None)  # Validate format\n",
    "# keep value if: consists of digits, and its length is less than or equal to 3 -- otherwise replace with none\n",
    "\n",
    "# Clean DST_LOT column\n",
    "df_bewegungen['DST_LOT'] = df_bewegungen['DST_LOT'].fillna('').astype(str)  # Handle NaNs and convert to string\n",
    "df_bewegungen['DST_LOT'] = df_bewegungen['DST_LOT'].apply(lambda x: '0' if x == '000' else x.lstrip('0'))  # Remove leading zeros\n",
    "df_bewegungen['DST_LOT'] = df_bewegungen['DST_LOT'].apply(lambda x: x if x.isdigit() and len(x) <= 3 else None)  # Validate format\n",
    "# keep value if: consists of digits, and its length is less than or equal to 3 -- otherwise replace with none\n",
    "\n",
    "# Clean STATUS column (10= Offen, 50= Bestätigt, 95= Storniert -- for my purposes I'm only interested in \"Bestätigt\" rows.\n",
    "# Filter the DataFrame to keep only rows with status == 50 (abgeschlossen)\n",
    "df = df_bewegungen[df_bewegungen['STATUS'] == 50]\n",
    "\n",
    "# Remove rows where USER == 'LXONE'\n",
    "df = df[df['USERID'] != 'LXONE']\n",
    "\n",
    "df_bewegungen = df_bewegungen.astype({\n",
    "    \"SRC_LOT\": \"category\",\n",
    "    \"DST_LOT\": \"category\",\n",
    "})\n",
    "\n",
    "# Drop rows with missing values from the DataFrame - dropna (by default, without parameters) removes entire rows which have a NaN or null value\n",
    "df_bewegungen.dropna(inplace=True)\n",
    "\n",
    "# Verify the changes\n",
    "print(f\"Updated DataFrame shape: {df_bewegungen.shape}\")\n",
    "# :::"
   ],
   "outputs": [
    {
     "name": "stdout",
     "output_type": "stream",
     "text": [
      "Updated DataFrame shape: (20094135, 19)\n"
     ]
    }
   ],
   "execution_count": 24
  },
  {
   "metadata": {
    "ExecuteTime": {
     "end_time": "2024-12-26T14:31:09.132021Z",
     "start_time": "2024-12-26T14:31:09.104997Z"
    }
   },
   "cell_type": "code",
   "source": "df_bewegungen.head()",
   "id": "411ad1880fd30d99",
   "outputs": [
    {
     "data": {
      "text/plain": [
       "      WORNUM  STATUS  SRC_ITEM SRC_LOT SRC_QACODE DST_LOT DST_QACODE SRC_WA  \\\n",
       "0  289678987      50  36529803       1          H       1          H     EG   \n",
       "1  289870561      50  44118619       1          H       1          H     EG   \n",
       "2  289833599      50  13091411       1          H       1          H     EG   \n",
       "3  289815259      50   9636829       0          H       0          H     EG   \n",
       "4  289839097      50  16359571       1          H       1          H     EG   \n",
       "\n",
       "  SRC_X SRC_Y SRC_Z DST_WA    OUTNUM     LISNUM     SUMLIS     TRNNUM  \\\n",
       "0  1601    02   D15     WA  31313376  289679194  289679311  599324284   \n",
       "1  1780    02   E03     WA  31320349  289874022  289874463  599670338   \n",
       "2  2215    04   F13     WA  31324968  289835037  289835121  599596179   \n",
       "3  2401    02   C03     WA  31333117  289815703  289815805  599541258   \n",
       "4  2004    07   G05     WA  31346782  289840157  289725531  599576127   \n",
       "\n",
       "               CRTDAT              TRNDAT    USERID  \n",
       "0 2024-04-25 01:04:53 2024-04-25 08:16:39     24769  \n",
       "1 2024-04-25 17:34:53 2024-04-25 19:29:47    178141  \n",
       "2 2024-04-25 15:24:37 2024-04-25 16:42:37   LAESSIG  \n",
       "3 2024-04-25 14:34:37 2024-04-25 14:56:15  GUERBUEZ  \n",
       "4 2024-04-25 15:39:56 2024-04-25 16:03:15    104044  "
      ],
      "text/html": [
       "<div>\n",
       "<style scoped>\n",
       "    .dataframe tbody tr th:only-of-type {\n",
       "        vertical-align: middle;\n",
       "    }\n",
       "\n",
       "    .dataframe tbody tr th {\n",
       "        vertical-align: top;\n",
       "    }\n",
       "\n",
       "    .dataframe thead th {\n",
       "        text-align: right;\n",
       "    }\n",
       "</style>\n",
       "<table border=\"1\" class=\"dataframe\">\n",
       "  <thead>\n",
       "    <tr style=\"text-align: right;\">\n",
       "      <th></th>\n",
       "      <th>WORNUM</th>\n",
       "      <th>STATUS</th>\n",
       "      <th>SRC_ITEM</th>\n",
       "      <th>SRC_LOT</th>\n",
       "      <th>SRC_QACODE</th>\n",
       "      <th>DST_LOT</th>\n",
       "      <th>DST_QACODE</th>\n",
       "      <th>SRC_WA</th>\n",
       "      <th>SRC_X</th>\n",
       "      <th>SRC_Y</th>\n",
       "      <th>SRC_Z</th>\n",
       "      <th>DST_WA</th>\n",
       "      <th>OUTNUM</th>\n",
       "      <th>LISNUM</th>\n",
       "      <th>SUMLIS</th>\n",
       "      <th>TRNNUM</th>\n",
       "      <th>CRTDAT</th>\n",
       "      <th>TRNDAT</th>\n",
       "      <th>USERID</th>\n",
       "    </tr>\n",
       "  </thead>\n",
       "  <tbody>\n",
       "    <tr>\n",
       "      <th>0</th>\n",
       "      <td>289678987</td>\n",
       "      <td>50</td>\n",
       "      <td>36529803</td>\n",
       "      <td>1</td>\n",
       "      <td>H</td>\n",
       "      <td>1</td>\n",
       "      <td>H</td>\n",
       "      <td>EG</td>\n",
       "      <td>1601</td>\n",
       "      <td>02</td>\n",
       "      <td>D15</td>\n",
       "      <td>WA</td>\n",
       "      <td>31313376</td>\n",
       "      <td>289679194</td>\n",
       "      <td>289679311</td>\n",
       "      <td>599324284</td>\n",
       "      <td>2024-04-25 01:04:53</td>\n",
       "      <td>2024-04-25 08:16:39</td>\n",
       "      <td>24769</td>\n",
       "    </tr>\n",
       "    <tr>\n",
       "      <th>1</th>\n",
       "      <td>289870561</td>\n",
       "      <td>50</td>\n",
       "      <td>44118619</td>\n",
       "      <td>1</td>\n",
       "      <td>H</td>\n",
       "      <td>1</td>\n",
       "      <td>H</td>\n",
       "      <td>EG</td>\n",
       "      <td>1780</td>\n",
       "      <td>02</td>\n",
       "      <td>E03</td>\n",
       "      <td>WA</td>\n",
       "      <td>31320349</td>\n",
       "      <td>289874022</td>\n",
       "      <td>289874463</td>\n",
       "      <td>599670338</td>\n",
       "      <td>2024-04-25 17:34:53</td>\n",
       "      <td>2024-04-25 19:29:47</td>\n",
       "      <td>178141</td>\n",
       "    </tr>\n",
       "    <tr>\n",
       "      <th>2</th>\n",
       "      <td>289833599</td>\n",
       "      <td>50</td>\n",
       "      <td>13091411</td>\n",
       "      <td>1</td>\n",
       "      <td>H</td>\n",
       "      <td>1</td>\n",
       "      <td>H</td>\n",
       "      <td>EG</td>\n",
       "      <td>2215</td>\n",
       "      <td>04</td>\n",
       "      <td>F13</td>\n",
       "      <td>WA</td>\n",
       "      <td>31324968</td>\n",
       "      <td>289835037</td>\n",
       "      <td>289835121</td>\n",
       "      <td>599596179</td>\n",
       "      <td>2024-04-25 15:24:37</td>\n",
       "      <td>2024-04-25 16:42:37</td>\n",
       "      <td>LAESSIG</td>\n",
       "    </tr>\n",
       "    <tr>\n",
       "      <th>3</th>\n",
       "      <td>289815259</td>\n",
       "      <td>50</td>\n",
       "      <td>9636829</td>\n",
       "      <td>0</td>\n",
       "      <td>H</td>\n",
       "      <td>0</td>\n",
       "      <td>H</td>\n",
       "      <td>EG</td>\n",
       "      <td>2401</td>\n",
       "      <td>02</td>\n",
       "      <td>C03</td>\n",
       "      <td>WA</td>\n",
       "      <td>31333117</td>\n",
       "      <td>289815703</td>\n",
       "      <td>289815805</td>\n",
       "      <td>599541258</td>\n",
       "      <td>2024-04-25 14:34:37</td>\n",
       "      <td>2024-04-25 14:56:15</td>\n",
       "      <td>GUERBUEZ</td>\n",
       "    </tr>\n",
       "    <tr>\n",
       "      <th>4</th>\n",
       "      <td>289839097</td>\n",
       "      <td>50</td>\n",
       "      <td>16359571</td>\n",
       "      <td>1</td>\n",
       "      <td>H</td>\n",
       "      <td>1</td>\n",
       "      <td>H</td>\n",
       "      <td>EG</td>\n",
       "      <td>2004</td>\n",
       "      <td>07</td>\n",
       "      <td>G05</td>\n",
       "      <td>WA</td>\n",
       "      <td>31346782</td>\n",
       "      <td>289840157</td>\n",
       "      <td>289725531</td>\n",
       "      <td>599576127</td>\n",
       "      <td>2024-04-25 15:39:56</td>\n",
       "      <td>2024-04-25 16:03:15</td>\n",
       "      <td>104044</td>\n",
       "    </tr>\n",
       "  </tbody>\n",
       "</table>\n",
       "</div>"
      ]
     },
     "execution_count": 25,
     "metadata": {},
     "output_type": "execute_result"
    }
   ],
   "execution_count": 25
  },
  {
   "metadata": {},
   "cell_type": "markdown",
   "source": "# ? maybe remove _ check for NaN / missing values in DF",
   "id": "7e6bf76d9b261fe1"
  },
  {
   "metadata": {
    "ExecuteTime": {
     "end_time": "2024-12-25T11:22:11.281952Z",
     "start_time": "2024-12-25T11:22:10.041887Z"
    }
   },
   "cell_type": "code",
   "source": [
    "# check for null values\n",
    "# Total count of missing values in the DataFrame\n",
    "total_missing = df_bewegungen.isnull().sum().sum()\n",
    "print(f\"Total missing values in the DataFrame: {total_missing}\")\n",
    "\n",
    "# Filter DataFrame to show only rows with at least one missing value\n",
    "rows_with_missing_values = df_bewegungen[df_bewegungen.isnull().any(axis=1)]\n",
    "\n",
    "# Display the rows with missing values\n",
    "print(rows_with_missing_values)"
   ],
   "id": "a2ee7af9e21f8e96",
   "outputs": [
    {
     "name": "stdout",
     "output_type": "stream",
     "text": [
      "Total missing values in the DataFrame: 0\n",
      "Empty DataFrame\n",
      "Columns: [WORNUM, STATUS, SRC_ITEM, SRC_LOT, SRC_QACODE, DST_LOT, DST_QACODE, SRC_WA, SRC_X, SRC_Y, SRC_Z, DST_WA, OUTNUM, LISNUM, SUMLIS, TRNNUM, CRTDAT, TRNDAT, USERID, LOADDAT]\n",
      "Index: []\n"
     ]
    }
   ],
   "execution_count": 5
  },
  {
   "metadata": {},
   "cell_type": "markdown",
   "source": "# WA kopf.csv prep",
   "id": "d3c1bdce32eb89b6"
  },
  {
   "metadata": {
    "ExecuteTime": {
     "end_time": "2024-12-26T14:16:23.970858Z",
     "start_time": "2024-12-26T14:14:49.441443Z"
    }
   },
   "cell_type": "code",
   "source": [
    "#Consolidated:::\n",
    "# List of columns to keep (ran into memory issues...)\n",
    "columns_to_keep = [\n",
    "    \"OUTNUM\", \"DOCNUM\", \"STATUS\", \"PICCOD\", \"CUSNUM\",\n",
    "    \"SHPTYP\", \"TOUR\", \"ORDDAT\", \"DLVDAT\", \"CRTDAT\", \"TRNDAT\"\n",
    "]\n",
    "\n",
    "dtypes = {\n",
    "    \"OUTNUM\": \"int32\",\n",
    "    \"DOCNUM\": \"category\",\n",
    "    \"ORDNUM\": \"category\", # dont think i need this, seems it achieves the same as DOCNUM\n",
    "    \"STATUS\": \"int32\",\n",
    "    \"PICCOD\": \"category\",\n",
    "    \"CUSNUM\": \"category\", # kunde\n",
    "    \"SHPTYP\": \"category\", # versandart\n",
    "    \"TOUR\": \"category\",\n",
    "}\n",
    "\n",
    "df_wa_kopf = pd.read_csv(\n",
    "    '../Data/wa_kopf.csv',\n",
    "    usecols=columns_to_keep,  # Only load the specified columns\n",
    "    dtype=dtypes,\n",
    "    #usecols=columns_to_use,  # Only load required columns\n",
    "    #dtype=dtypes,            # Use optimized data types\n",
    "    parse_dates=[\"ORDDAT\", \"DLVDAT\", \"CRTDAT\", \"TRNDAT\"],\n",
    "    low_memory=False\n",
    ")\n",
    "# Filter the DataFrame to keep only rows with status == 90 (abgeschlossene)\n",
    "df_wa_kopf = df_wa_kopf[df_wa_kopf['STATUS'] == 90]\n",
    "\n",
    "# Drop rows with missing values from the DataFrame - some early data and regression tests lead to PICCOD, SHPTYP and TOUR being empty (~86 rows)\n",
    "df_wa_kopf.dropna(inplace=True) # inplace=True modifies DataFrame directly without having to create a new one\n",
    "\n",
    "# Step 1: Merge main DataFrame with customers\n",
    "# df_orders = pd.merge(df_bewegungen, df_wa_kopf, on='OUTNUM', how='inner')\n",
    "\n",
    "#:::"
   ],
   "id": "aeff0654c5b44462",
   "outputs": [],
   "execution_count": 19
  },
  {
   "metadata": {
    "ExecuteTime": {
     "end_time": "2024-12-26T14:16:41.602967Z",
     "start_time": "2024-12-26T14:16:40.898712Z"
    }
   },
   "cell_type": "code",
   "source": [
    "# check for null values\n",
    "# Total count of missing values in the DataFrame\n",
    "total_missing = df_wa_kopf.isnull().sum().sum()\n",
    "print(f\"Total missing values in the DataFrame: {total_missing}\")\n",
    "\n",
    "# Filter DataFrame to show only rows with at least one missing value\n",
    "rows_with_missing_values = df_wa_kopf[df_wa_kopf.isnull().any(axis=1)]\n",
    "\n",
    "# Display the rows with missing values\n",
    "print(rows_with_missing_values)"
   ],
   "id": "243ea4cb85c57e28",
   "outputs": [
    {
     "name": "stdout",
     "output_type": "stream",
     "text": [
      "Total missing values in the DataFrame: 0\n",
      "Empty DataFrame\n",
      "Columns: [OUTNUM, DOCNUM, STATUS, PICCOD, CUSNUM, ORDDAT, DLVDAT, SHPTYP, TOUR, CRTDAT, TRNDAT]\n",
      "Index: []\n"
     ]
    }
   ],
   "execution_count": 20
  },
  {
   "metadata": {
    "ExecuteTime": {
     "end_time": "2024-12-26T12:59:05.073996Z",
     "start_time": "2024-12-26T12:59:05.054979Z"
    }
   },
   "cell_type": "code",
   "source": "df_wa_kopf.head()",
   "id": "49e9e5c3991b509b",
   "outputs": [
    {
     "data": {
      "text/plain": [
       "     OUTNUM    DOCNUM        ORDNUM  STATUS  PICCOD  CUSNUM  \\\n",
       "0  30723507  33054472  llo229691223      90    BS17  100986   \n",
       "1  30711706  33052260  llo229681872      90    BS17   94536   \n",
       "2  30730649  33056533  llo229700285      90    BS17   90715   \n",
       "3  30712103  33052611  llo229682417      90  BS15-S  165269   \n",
       "4  30733401  33057203  llo229704047      90    BS17    2542   \n",
       "\n",
       "               ORDDAT     DLVDAT SHPTYP TOUR              CRTDAT  \\\n",
       "0 2024-03-20 11:38:02 2024-03-20     02   85 2024-03-20 11:39:08   \n",
       "1 2024-03-20 05:53:37 2024-03-20     02   85 2024-03-20 05:54:13   \n",
       "2 2024-03-20 15:22:37 2024-03-20     02   83 2024-03-20 15:22:47   \n",
       "3 2024-03-20 05:55:07 2024-03-20    124   00 2024-03-20 05:56:00   \n",
       "4 2024-03-20 16:52:31 2024-03-20     02   94 2024-03-20 16:52:38   \n",
       "\n",
       "               TRNDAT  USERID     TRNNUM                     LOADDAT  \n",
       "0 2024-03-20 18:13:18   LXONE  546327413  2024-03-21 01:54:14.176700  \n",
       "1 2024-03-20 19:58:26   LXONE  546357022  2024-03-21 01:54:14.176700  \n",
       "2 2024-03-20 17:32:19   LXONE  546301836  2024-03-21 01:54:14.176700  \n",
       "3 2024-03-20 11:13:51  176551  546066479  2024-03-21 01:54:14.176700  \n",
       "4 2024-03-20 21:05:25   LXONE  546369019  2024-03-21 01:54:14.176700  "
      ],
      "text/html": [
       "<div>\n",
       "<style scoped>\n",
       "    .dataframe tbody tr th:only-of-type {\n",
       "        vertical-align: middle;\n",
       "    }\n",
       "\n",
       "    .dataframe tbody tr th {\n",
       "        vertical-align: top;\n",
       "    }\n",
       "\n",
       "    .dataframe thead th {\n",
       "        text-align: right;\n",
       "    }\n",
       "</style>\n",
       "<table border=\"1\" class=\"dataframe\">\n",
       "  <thead>\n",
       "    <tr style=\"text-align: right;\">\n",
       "      <th></th>\n",
       "      <th>OUTNUM</th>\n",
       "      <th>DOCNUM</th>\n",
       "      <th>ORDNUM</th>\n",
       "      <th>STATUS</th>\n",
       "      <th>PICCOD</th>\n",
       "      <th>CUSNUM</th>\n",
       "      <th>ORDDAT</th>\n",
       "      <th>DLVDAT</th>\n",
       "      <th>SHPTYP</th>\n",
       "      <th>TOUR</th>\n",
       "      <th>CRTDAT</th>\n",
       "      <th>TRNDAT</th>\n",
       "      <th>USERID</th>\n",
       "      <th>TRNNUM</th>\n",
       "      <th>LOADDAT</th>\n",
       "    </tr>\n",
       "  </thead>\n",
       "  <tbody>\n",
       "    <tr>\n",
       "      <th>0</th>\n",
       "      <td>30723507</td>\n",
       "      <td>33054472</td>\n",
       "      <td>llo229691223</td>\n",
       "      <td>90</td>\n",
       "      <td>BS17</td>\n",
       "      <td>100986</td>\n",
       "      <td>2024-03-20 11:38:02</td>\n",
       "      <td>2024-03-20</td>\n",
       "      <td>02</td>\n",
       "      <td>85</td>\n",
       "      <td>2024-03-20 11:39:08</td>\n",
       "      <td>2024-03-20 18:13:18</td>\n",
       "      <td>LXONE</td>\n",
       "      <td>546327413</td>\n",
       "      <td>2024-03-21 01:54:14.176700</td>\n",
       "    </tr>\n",
       "    <tr>\n",
       "      <th>1</th>\n",
       "      <td>30711706</td>\n",
       "      <td>33052260</td>\n",
       "      <td>llo229681872</td>\n",
       "      <td>90</td>\n",
       "      <td>BS17</td>\n",
       "      <td>94536</td>\n",
       "      <td>2024-03-20 05:53:37</td>\n",
       "      <td>2024-03-20</td>\n",
       "      <td>02</td>\n",
       "      <td>85</td>\n",
       "      <td>2024-03-20 05:54:13</td>\n",
       "      <td>2024-03-20 19:58:26</td>\n",
       "      <td>LXONE</td>\n",
       "      <td>546357022</td>\n",
       "      <td>2024-03-21 01:54:14.176700</td>\n",
       "    </tr>\n",
       "    <tr>\n",
       "      <th>2</th>\n",
       "      <td>30730649</td>\n",
       "      <td>33056533</td>\n",
       "      <td>llo229700285</td>\n",
       "      <td>90</td>\n",
       "      <td>BS17</td>\n",
       "      <td>90715</td>\n",
       "      <td>2024-03-20 15:22:37</td>\n",
       "      <td>2024-03-20</td>\n",
       "      <td>02</td>\n",
       "      <td>83</td>\n",
       "      <td>2024-03-20 15:22:47</td>\n",
       "      <td>2024-03-20 17:32:19</td>\n",
       "      <td>LXONE</td>\n",
       "      <td>546301836</td>\n",
       "      <td>2024-03-21 01:54:14.176700</td>\n",
       "    </tr>\n",
       "    <tr>\n",
       "      <th>3</th>\n",
       "      <td>30712103</td>\n",
       "      <td>33052611</td>\n",
       "      <td>llo229682417</td>\n",
       "      <td>90</td>\n",
       "      <td>BS15-S</td>\n",
       "      <td>165269</td>\n",
       "      <td>2024-03-20 05:55:07</td>\n",
       "      <td>2024-03-20</td>\n",
       "      <td>124</td>\n",
       "      <td>00</td>\n",
       "      <td>2024-03-20 05:56:00</td>\n",
       "      <td>2024-03-20 11:13:51</td>\n",
       "      <td>176551</td>\n",
       "      <td>546066479</td>\n",
       "      <td>2024-03-21 01:54:14.176700</td>\n",
       "    </tr>\n",
       "    <tr>\n",
       "      <th>4</th>\n",
       "      <td>30733401</td>\n",
       "      <td>33057203</td>\n",
       "      <td>llo229704047</td>\n",
       "      <td>90</td>\n",
       "      <td>BS17</td>\n",
       "      <td>2542</td>\n",
       "      <td>2024-03-20 16:52:31</td>\n",
       "      <td>2024-03-20</td>\n",
       "      <td>02</td>\n",
       "      <td>94</td>\n",
       "      <td>2024-03-20 16:52:38</td>\n",
       "      <td>2024-03-20 21:05:25</td>\n",
       "      <td>LXONE</td>\n",
       "      <td>546369019</td>\n",
       "      <td>2024-03-21 01:54:14.176700</td>\n",
       "    </tr>\n",
       "  </tbody>\n",
       "</table>\n",
       "</div>"
      ]
     },
     "execution_count": 4,
     "metadata": {},
     "output_type": "execute_result"
    }
   ],
   "execution_count": 4
  },
  {
   "metadata": {},
   "cell_type": "markdown",
   "source": "# WA Positionen prep",
   "id": "de563cba443df1db"
  },
  {
   "metadata": {
    "ExecuteTime": {
     "end_time": "2024-12-26T13:59:10.797342Z",
     "start_time": "2024-12-26T13:58:13.429242Z"
    }
   },
   "cell_type": "code",
   "source": [
    "### Consolidated\n",
    "\n",
    "# List of columns to keep (ran into memory issues...)\n",
    "columns_to_keep = [\n",
    "    \"OUTNUM\", \"STATUS\", \"ITEM\", \"LOT\",\n",
    "    \"ORDQTY\", \"CONQTY\", \"CRTDAT\", \"TRNDAT\", \"USERID\", \"TRNNUM\"\n",
    "]\n",
    "\n",
    "dtypes = {\n",
    "    #\"OUTLIN\": \"int32\", -- not used\n",
    "    \"OUTNUM\": \"int32\",\n",
    "    \"STATUS\": \"int32\",\n",
    "    \"ITEM\": \"category\",\n",
    "    \"LOT\": \"string\", # 3 character string, e.G: 001, 002, 006, 012 etc.\n",
    "    \"ORDQTY\": \"int32\",\n",
    "    \"CONQTY\": \"float32\", # somehow it thinks these values are float data\n",
    "    \"USERID\": \"category\",\n",
    "    \"TRNNUM\": \"int32\"\n",
    "}\n",
    "\n",
    "# Load the CSV with optimized settings, and only load necessary cols\n",
    "df_wa_positionen = pd.read_csv(\n",
    "    '../Data/wa_positionen.csv',\n",
    "    usecols=columns_to_keep,  # Only load the specified columns\n",
    "    dtype=dtypes,\n",
    "    #usecols=columns_to_use,  # Only load required columns\n",
    "    #dtype=dtypes,            # Use optimized data types\n",
    "    parse_dates=[\"CRTDAT\", \"TRNDAT\"],\n",
    "    low_memory=False\n",
    ")\n",
    "\n",
    "# Drop rows with missing values from the DataFrame\n",
    "df_wa_positionen.dropna(inplace=True)\n",
    "\n",
    "# Drop rows where CONQTY has a fractional part (i.e., a value with anything after the decimal point)\n",
    "df_wa_positionen = df_wa_positionen[df_wa_positionen[\"CONQTY\"] % 1 == 0]\n",
    "\n",
    "# Convert CONQTY column to integer type to reflect that it no longer has fractions\n",
    "df_wa_positionen[\"CONQTY\"] = df_wa_positionen[\"CONQTY\"].astype(int)\n",
    "\n",
    "## WRITE TO CSV todo\n",
    "\n",
    "# :::"
   ],
   "id": "51ccd801a9f8c734",
   "outputs": [],
   "execution_count": 15
  },
  {
   "metadata": {
    "ExecuteTime": {
     "end_time": "2024-12-26T14:19:15.220509Z",
     "start_time": "2024-12-26T14:19:15.209324Z"
    }
   },
   "cell_type": "code",
   "source": "df_wa_positionen.head()",
   "id": "3cbb1d6e9f605452",
   "outputs": [
    {
     "data": {
      "text/plain": [
       "     OUTNUM  STATUS      ITEM  LOT  ORDQTY  CONQTY              CRTDAT  \\\n",
       "0   9684339      90   4299149  003      11       7 2021-03-30 18:00:39   \n",
       "1  10756704      90  28872808  002      83      83 2021-05-28 14:15:29   \n",
       "2  10756724      90  19020166  006      40      40 2021-05-28 14:15:35   \n",
       "3  11244298      90  35282807  001       3       3 2021-06-25 16:44:21   \n",
       "4  11244340      90  35448829  001       4       4 2021-06-25 16:44:27   \n",
       "\n",
       "               TRNDAT      USERID     TRNNUM  \n",
       "0 2022-03-08 23:15:11  PASAMONTES  536001122  \n",
       "1 2022-10-18 17:33:08      168388  807604606  \n",
       "2 2022-10-18 17:32:58      168388  807604231  \n",
       "3 2022-02-21 15:06:45      MUAMET  518249888  \n",
       "4 2022-02-21 15:06:45      MUAMET  518249888  "
      ],
      "text/html": [
       "<div>\n",
       "<style scoped>\n",
       "    .dataframe tbody tr th:only-of-type {\n",
       "        vertical-align: middle;\n",
       "    }\n",
       "\n",
       "    .dataframe tbody tr th {\n",
       "        vertical-align: top;\n",
       "    }\n",
       "\n",
       "    .dataframe thead th {\n",
       "        text-align: right;\n",
       "    }\n",
       "</style>\n",
       "<table border=\"1\" class=\"dataframe\">\n",
       "  <thead>\n",
       "    <tr style=\"text-align: right;\">\n",
       "      <th></th>\n",
       "      <th>OUTNUM</th>\n",
       "      <th>STATUS</th>\n",
       "      <th>ITEM</th>\n",
       "      <th>LOT</th>\n",
       "      <th>ORDQTY</th>\n",
       "      <th>CONQTY</th>\n",
       "      <th>CRTDAT</th>\n",
       "      <th>TRNDAT</th>\n",
       "      <th>USERID</th>\n",
       "      <th>TRNNUM</th>\n",
       "    </tr>\n",
       "  </thead>\n",
       "  <tbody>\n",
       "    <tr>\n",
       "      <th>0</th>\n",
       "      <td>9684339</td>\n",
       "      <td>90</td>\n",
       "      <td>4299149</td>\n",
       "      <td>003</td>\n",
       "      <td>11</td>\n",
       "      <td>7</td>\n",
       "      <td>2021-03-30 18:00:39</td>\n",
       "      <td>2022-03-08 23:15:11</td>\n",
       "      <td>PASAMONTES</td>\n",
       "      <td>536001122</td>\n",
       "    </tr>\n",
       "    <tr>\n",
       "      <th>1</th>\n",
       "      <td>10756704</td>\n",
       "      <td>90</td>\n",
       "      <td>28872808</td>\n",
       "      <td>002</td>\n",
       "      <td>83</td>\n",
       "      <td>83</td>\n",
       "      <td>2021-05-28 14:15:29</td>\n",
       "      <td>2022-10-18 17:33:08</td>\n",
       "      <td>168388</td>\n",
       "      <td>807604606</td>\n",
       "    </tr>\n",
       "    <tr>\n",
       "      <th>2</th>\n",
       "      <td>10756724</td>\n",
       "      <td>90</td>\n",
       "      <td>19020166</td>\n",
       "      <td>006</td>\n",
       "      <td>40</td>\n",
       "      <td>40</td>\n",
       "      <td>2021-05-28 14:15:35</td>\n",
       "      <td>2022-10-18 17:32:58</td>\n",
       "      <td>168388</td>\n",
       "      <td>807604231</td>\n",
       "    </tr>\n",
       "    <tr>\n",
       "      <th>3</th>\n",
       "      <td>11244298</td>\n",
       "      <td>90</td>\n",
       "      <td>35282807</td>\n",
       "      <td>001</td>\n",
       "      <td>3</td>\n",
       "      <td>3</td>\n",
       "      <td>2021-06-25 16:44:21</td>\n",
       "      <td>2022-02-21 15:06:45</td>\n",
       "      <td>MUAMET</td>\n",
       "      <td>518249888</td>\n",
       "    </tr>\n",
       "    <tr>\n",
       "      <th>4</th>\n",
       "      <td>11244340</td>\n",
       "      <td>90</td>\n",
       "      <td>35448829</td>\n",
       "      <td>001</td>\n",
       "      <td>4</td>\n",
       "      <td>4</td>\n",
       "      <td>2021-06-25 16:44:27</td>\n",
       "      <td>2022-02-21 15:06:45</td>\n",
       "      <td>MUAMET</td>\n",
       "      <td>518249888</td>\n",
       "    </tr>\n",
       "  </tbody>\n",
       "</table>\n",
       "</div>"
      ]
     },
     "execution_count": 21,
     "metadata": {},
     "output_type": "execute_result"
    }
   ],
   "execution_count": 21
  },
  {
   "metadata": {
    "ExecuteTime": {
     "end_time": "2024-12-26T13:53:04.782213Z",
     "start_time": "2024-12-26T13:53:03.166079Z"
    }
   },
   "cell_type": "code",
   "source": [
    "# check for null values\n",
    "# Total count of missing values in the DataFrame\n",
    "total_missing = df_wa_positionen.isnull().sum().sum()\n",
    "print(f\"Total missing values in the DataFrame: {total_missing}\")\n",
    "\n",
    "# Filter DataFrame to show only rows with at least one missing value\n",
    "rows_with_missing_values = df_wa_positionen[df_wa_positionen.isnull().any(axis=1)]\n",
    "\n",
    "# Display the rows with missing values\n",
    "print(rows_with_missing_values)"
   ],
   "id": "61001d33cc0378f",
   "outputs": [
    {
     "name": "stdout",
     "output_type": "stream",
     "text": [
      "Total missing values in the DataFrame: 2\n",
      "           OUTNUM  STATUS      ITEM   LOT  ORDQTY  CONQTY              CRTDAT  \\\n",
      "5628146  21434921      90  32858196  <NA>     200   200.0 2022-11-28 14:24:50   \n",
      "6574655  22390030      90  33565450  <NA>       1     1.0 2023-01-09 14:29:44   \n",
      "\n",
      "                     TRNDAT USERID     TRNNUM  \n",
      "5628146 2022-11-28 14:28:38  LXONE  862445145  \n",
      "6574655 2023-01-09 14:33:39  LXONE  920984668  \n"
     ]
    }
   ],
   "execution_count": 12
  },
  {
   "metadata": {
    "ExecuteTime": {
     "end_time": "2024-12-26T13:55:44.749235Z",
     "start_time": "2024-12-26T13:55:44.374896Z"
    }
   },
   "cell_type": "code",
   "source": [
    "# Filter rows where CONQTY contains an actual float value\n",
    "float_rows = df_wa_positionen[df_wa_positionen[\"CONQTY\"] % 1 != 0]\n",
    "\n",
    "# Display the rows with float values in CONQTY\n",
    "print(\"Rows with actual float values in the CONQTY column:\")\n",
    "print(float_rows)"
   ],
   "id": "a3dba9ccea042401",
   "outputs": [
    {
     "name": "stdout",
     "output_type": "stream",
     "text": [
      "Rows with actual float values in the CONQTY column:\n",
      "           OUTNUM  STATUS      ITEM  LOT  ORDQTY  CONQTY              CRTDAT  \\\n",
      "1986356  17732331      90  30231025  001       1     0.5 2022-05-17 09:44:33   \n",
      "\n",
      "                     TRNDAT   USERID     TRNNUM  \n",
      "1986356 2022-06-08 18:04:05  GREPPER  641785865  \n"
     ]
    }
   ],
   "execution_count": 13
  },
  {
   "metadata": {
    "ExecuteTime": {
     "end_time": "2024-12-26T13:56:33.391405Z",
     "start_time": "2024-12-26T13:56:33.377392Z"
    }
   },
   "cell_type": "code",
   "source": [
    "count_float_values = len(float_rows)\n",
    "print(f\"Number of rows with float values in CONQTY: {count_float_values}\")"
   ],
   "id": "d20991fd66a8ddb3",
   "outputs": [
    {
     "name": "stdout",
     "output_type": "stream",
     "text": [
      "Number of rows with float values in CONQTY: 1\n"
     ]
    }
   ],
   "execution_count": 14
  },
  {
   "metadata": {},
   "cell_type": "markdown",
   "source": "# Joins",
   "id": "6260fb5bf5fd1d2"
  },
  {
   "metadata": {},
   "cell_type": "code",
   "outputs": [],
   "execution_count": null,
   "source": [
    "\n",
    "# = pd.merge(df_bewegungen, df_wa_kopf, on='OUTNUM', how='inner')\n"
   ],
   "id": "810e35cc4cb03fbd"
  },
  {
   "metadata": {
    "ExecuteTime": {
     "end_time": "2024-12-26T14:32:13.437852Z",
     "start_time": "2024-12-26T14:31:48.732156Z"
    }
   },
   "cell_type": "code",
   "source": [
    "df_full = (\n",
    "    pd.merge(df_bewegungen, df_wa_kopf, on='OUTNUM', how='inner')\n",
    "    .merge(df_wa_positionen, on='OUTNUM', how='inner')\n",
    ")\n",
    "\n",
    "print(df_full.head())\n"
   ],
   "id": "d81963a2ec8a920d",
   "outputs": [
    {
     "name": "stdout",
     "output_type": "stream",
     "text": [
      "      WORNUM  STATUS_x  SRC_ITEM SRC_LOT SRC_QACODE DST_LOT DST_QACODE SRC_WA  \\\n",
      "0  289678987        50  36529803       1          H       1          H     EG   \n",
      "1  289870561        50  44118619       1          H       1          H     EG   \n",
      "2  289833599        50  13091411       1          H       1          H     EG   \n",
      "3  289815259        50   9636829       0          H       0          H     EG   \n",
      "4  289839097        50  16359571       1          H       1          H     EG   \n",
      "\n",
      "  SRC_X SRC_Y  ...            TRNDAT_y STATUS      ITEM  LOT  ORDQTY  CONQTY  \\\n",
      "0  1601    02  ... 2024-04-25 19:31:31     90  36529803  001       9       9   \n",
      "1  1780    02  ... 2024-04-25 20:10:13     90  44118619  001       2       2   \n",
      "2  2215    04  ... 2024-04-25 18:40:10     90  13091411  001       1       1   \n",
      "3  2401    02  ... 2024-04-25 19:25:39     90   9636829  000       1       1   \n",
      "4  2004    07  ... 2024-04-25 18:39:20     90  16359571  001       1       1   \n",
      "\n",
      "               CRTDAT              TRNDAT USERID_y   TRNNUM_y  \n",
      "0 2024-04-24 08:39:31 2024-04-25 19:31:31    LXONE  599670642  \n",
      "1 2024-04-24 12:43:27 2024-04-25 20:10:13    LXONE  599678660  \n",
      "2 2024-04-24 15:07:52 2024-04-25 18:40:10    LXONE  599659813  \n",
      "3 2024-04-25 06:57:41 2024-04-25 19:25:39    LXONE  599669523  \n",
      "4 2024-04-25 15:38:32 2024-04-25 18:39:20    LXONE  599659634  \n",
      "\n",
      "[5 rows x 38 columns]\n"
     ]
    }
   ],
   "execution_count": 26
  },
  {
   "metadata": {
    "ExecuteTime": {
     "end_time": "2024-12-26T14:32:57.342394Z",
     "start_time": "2024-12-26T14:32:53.653119Z"
    }
   },
   "cell_type": "code",
   "source": [
    "df_full.head()\n",
    "df_full.info()"
   ],
   "id": "18957fb0431e8f8f",
   "outputs": [
    {
     "name": "stdout",
     "output_type": "stream",
     "text": [
      "<class 'pandas.core.frame.DataFrame'>\n",
      "Int64Index: 19628893 entries, 0 to 19628892\n",
      "Data columns (total 38 columns):\n",
      " #   Column      Dtype         \n",
      "---  ------      -----         \n",
      " 0   WORNUM      int32         \n",
      " 1   STATUS_x    int32         \n",
      " 2   SRC_ITEM    category      \n",
      " 3   SRC_LOT     category      \n",
      " 4   SRC_QACODE  category      \n",
      " 5   DST_LOT     category      \n",
      " 6   DST_QACODE  category      \n",
      " 7   SRC_WA      category      \n",
      " 8   SRC_X       category      \n",
      " 9   SRC_Y       category      \n",
      " 10  SRC_Z       category      \n",
      " 11  DST_WA      category      \n",
      " 12  OUTNUM      int32         \n",
      " 13  LISNUM      int32         \n",
      " 14  SUMLIS      int32         \n",
      " 15  TRNNUM_x    int32         \n",
      " 16  CRTDAT_x    datetime64[ns]\n",
      " 17  TRNDAT_x    datetime64[ns]\n",
      " 18  USERID_x    category      \n",
      " 19  DOCNUM      category      \n",
      " 20  STATUS_y    int32         \n",
      " 21  PICCOD      category      \n",
      " 22  CUSNUM      category      \n",
      " 23  ORDDAT      datetime64[ns]\n",
      " 24  DLVDAT      datetime64[ns]\n",
      " 25  SHPTYP      category      \n",
      " 26  TOUR        category      \n",
      " 27  CRTDAT_y    datetime64[ns]\n",
      " 28  TRNDAT_y    datetime64[ns]\n",
      " 29  STATUS      int32         \n",
      " 30  ITEM        category      \n",
      " 31  LOT         string        \n",
      " 32  ORDQTY      int32         \n",
      " 33  CONQTY      int32         \n",
      " 34  CRTDAT      datetime64[ns]\n",
      " 35  TRNDAT      datetime64[ns]\n",
      " 36  USERID_y    category      \n",
      " 37  TRNNUM_y    int32         \n",
      "dtypes: category(18), datetime64[ns](8), int32(11), string(1)\n",
      "memory usage: 3.1 GB\n"
     ]
    }
   ],
   "execution_count": 27
  },
  {
   "metadata": {
    "ExecuteTime": {
     "end_time": "2024-11-27T10:44:56.832820Z",
     "start_time": "2024-11-27T10:44:56.817807Z"
    }
   },
   "cell_type": "code",
   "source": [
    "num_rows = len(df_full)\n",
    "print(f\"Number of rows: {num_rows}\")"
   ],
   "id": "fd6c62a2759ea196",
   "outputs": [
    {
     "name": "stdout",
     "output_type": "stream",
     "text": [
      "Number of rows: 19628991\n"
     ]
    }
   ],
   "execution_count": 14
  },
  {
   "metadata": {
    "ExecuteTime": {
     "end_time": "2024-12-26T14:34:03.077301Z",
     "start_time": "2024-12-26T14:33:58.610689Z"
    }
   },
   "cell_type": "code",
   "source": [
    "# check for null values\n",
    "# Total count of missing values in the DataFrame\n",
    "total_missing = df_full.isnull().sum().sum()\n",
    "print(f\"Total missing values in the DataFrame: {total_missing}\")\n",
    "\n",
    "# Filter DataFrame to show only rows with at least one missing value\n",
    "rows_with_missing_values = df_full[df_full.isnull().any(axis=1)]\n",
    "\n",
    "# Display the rows with missing values\n",
    "print(rows_with_missing_values)"
   ],
   "id": "28637ed8ef7e0298",
   "outputs": [
    {
     "name": "stdout",
     "output_type": "stream",
     "text": [
      "Total missing values in the DataFrame: 0\n",
      "Empty DataFrame\n",
      "Columns: [WORNUM, STATUS_x, SRC_ITEM, SRC_LOT, SRC_QACODE, DST_LOT, DST_QACODE, SRC_WA, SRC_X, SRC_Y, SRC_Z, DST_WA, OUTNUM, LISNUM, SUMLIS, TRNNUM_x, CRTDAT_x, TRNDAT_x, USERID_x, DOCNUM, STATUS_y, PICCOD, CUSNUM, ORDDAT, DLVDAT, SHPTYP, TOUR, CRTDAT_y, TRNDAT_y, STATUS, ITEM, LOT, ORDQTY, CONQTY, CRTDAT, TRNDAT, USERID_y, TRNNUM_y]\n",
      "Index: []\n",
      "\n",
      "[0 rows x 38 columns]\n"
     ]
    }
   ],
   "execution_count": 29
  },
  {
   "metadata": {},
   "cell_type": "markdown",
   "source": "Export Dataframe to Parquet file",
   "id": "13c626012ee82467"
  },
  {
   "metadata": {
    "ExecuteTime": {
     "end_time": "2024-12-26T14:33:35.442002Z",
     "start_time": "2024-12-26T14:33:10.048477Z"
    }
   },
   "cell_type": "code",
   "source": [
    "import pyarrow\n",
    "\n",
    "# Save the fully joined DataFrame to a Parquet file for better performance\n",
    "output_file = 'joined_data_v2.parquet'\n",
    "df_full.to_parquet(output_file, index=False)\n",
    "\n",
    "print(f\"Fully joined DataFrame saved to {output_file}\")"
   ],
   "id": "3f0a3f4ed86413ea",
   "outputs": [
    {
     "name": "stdout",
     "output_type": "stream",
     "text": [
      "Fully joined DataFrame saved to joined_data_v2.parquet\n"
     ]
    }
   ],
   "execution_count": 28
  },
  {
   "metadata": {},
   "cell_type": "code",
   "outputs": [],
   "execution_count": null,
   "source": [
    "# reading parquet file later\n",
    "\n",
    "df_loaded = pd.read_parquet('joined_data.parquet')\n",
    "print(df_loaded.head())\n"
   ],
   "id": "d51518b2e64392a1"
  },
  {
   "metadata": {},
   "cell_type": "markdown",
   "source": "##TEMP\n",
   "id": "f55023219bdda426"
  },
  {
   "metadata": {},
   "cell_type": "code",
   "outputs": [],
   "execution_count": null,
   "source": "",
   "id": "d980f5634eeda664"
  }
 ],
 "metadata": {
  "kernelspec": {
   "display_name": "Python 3",
   "language": "python",
   "name": "python3"
  },
  "language_info": {
   "codemirror_mode": {
    "name": "ipython",
    "version": 2
   },
   "file_extension": ".py",
   "mimetype": "text/x-python",
   "name": "python",
   "nbconvert_exporter": "python",
   "pygments_lexer": "ipython2",
   "version": "2.7.6"
  }
 },
 "nbformat": 4,
 "nbformat_minor": 5
}
