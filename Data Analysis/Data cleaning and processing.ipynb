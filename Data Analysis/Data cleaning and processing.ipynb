{
 "cells": [
  {
   "metadata": {},
   "cell_type": "markdown",
   "source": [],
   "id": "90a992c9fa8fc343"
  },
  {
   "cell_type": "code",
   "outputs": [
    {
     "name": "stderr",
     "output_type": "stream",
     "text": [
      "/var/folders/c2/mxrc2sw14x12np58cyqcffpm0000gn/T/ipykernel_36225/2710737764.py:3: DtypeWarning: Columns (6,8,11,12) have mixed types. Specify dtype option on import or set low_memory=False.\n",
      "  df = pd.read_csv('../Data/bewegungen.csv')\n"
     ]
    },
    {
     "data": {
      "text/plain": "      MOVNUM     WORNUM  STATUS MOVTYP MOVKEY  SRC_ITEM SRC_LOT SRC_QACODE  \\\n0  289678988  289678987      50    REL    PIC  36529803       1          H   \n1  289870562  289870561      50    REL    PIC  44118619       1          H   \n2  289833600  289833599      50    REL    PIC  13091411       1          H   \n3  289815260  289815259      50    REL    PIC   9636829       0          H   \n4  289839098  289839097      50    REL    PIC  16359571       1          H   \n\n  DST_LOT DST_QACODE  ...    RELNUM     LISNUM     SUMLIS     TRNNUM  \\\n0       1          H  ...  41484834  289679194  289679311  599324284   \n1       1          H  ...  41494178  289874022  289874463  599670338   \n2       1          H  ...  41492163  289835037  289835121  599596179   \n3       0          H  ...  41491410  289815703  289815805  599541258   \n4       1          H  ...  41492589  289840157  289725531  599576127   \n\n                CRTDAT               TRNDAT    USERID   VOLREQ     VOLPIC  \\\n0  2024-04-25 01:04:53  2024-04-25 08:16:39     24769  1795500  1795500.0   \n1  2024-04-25 17:34:53  2024-04-25 19:29:47    178141  1065600  1065600.0   \n2  2024-04-25 15:24:37  2024-04-25 16:42:37   LAESSIG   696672   696672.0   \n3  2024-04-25 14:34:37  2024-04-25 14:56:15  GUERBUEZ   299376   299376.0   \n4  2024-04-25 15:39:56  2024-04-25 16:03:15    104044  1706600  1706600.0   \n\n                      LOADDAT  \n0  2024-04-26 00:52:47.247838  \n1  2024-04-26 00:52:47.247838  \n2  2024-04-26 00:52:47.247838  \n3  2024-04-26 00:52:47.247838  \n4  2024-04-26 00:52:47.247838  \n\n[5 rows x 33 columns]",
      "text/html": "<div>\n<style scoped>\n    .dataframe tbody tr th:only-of-type {\n        vertical-align: middle;\n    }\n\n    .dataframe tbody tr th {\n        vertical-align: top;\n    }\n\n    .dataframe thead th {\n        text-align: right;\n    }\n</style>\n<table border=\"1\" class=\"dataframe\">\n  <thead>\n    <tr style=\"text-align: right;\">\n      <th></th>\n      <th>MOVNUM</th>\n      <th>WORNUM</th>\n      <th>STATUS</th>\n      <th>MOVTYP</th>\n      <th>MOVKEY</th>\n      <th>SRC_ITEM</th>\n      <th>SRC_LOT</th>\n      <th>SRC_QACODE</th>\n      <th>DST_LOT</th>\n      <th>DST_QACODE</th>\n      <th>...</th>\n      <th>RELNUM</th>\n      <th>LISNUM</th>\n      <th>SUMLIS</th>\n      <th>TRNNUM</th>\n      <th>CRTDAT</th>\n      <th>TRNDAT</th>\n      <th>USERID</th>\n      <th>VOLREQ</th>\n      <th>VOLPIC</th>\n      <th>LOADDAT</th>\n    </tr>\n  </thead>\n  <tbody>\n    <tr>\n      <th>0</th>\n      <td>289678988</td>\n      <td>289678987</td>\n      <td>50</td>\n      <td>REL</td>\n      <td>PIC</td>\n      <td>36529803</td>\n      <td>1</td>\n      <td>H</td>\n      <td>1</td>\n      <td>H</td>\n      <td>...</td>\n      <td>41484834</td>\n      <td>289679194</td>\n      <td>289679311</td>\n      <td>599324284</td>\n      <td>2024-04-25 01:04:53</td>\n      <td>2024-04-25 08:16:39</td>\n      <td>24769</td>\n      <td>1795500</td>\n      <td>1795500.0</td>\n      <td>2024-04-26 00:52:47.247838</td>\n    </tr>\n    <tr>\n      <th>1</th>\n      <td>289870562</td>\n      <td>289870561</td>\n      <td>50</td>\n      <td>REL</td>\n      <td>PIC</td>\n      <td>44118619</td>\n      <td>1</td>\n      <td>H</td>\n      <td>1</td>\n      <td>H</td>\n      <td>...</td>\n      <td>41494178</td>\n      <td>289874022</td>\n      <td>289874463</td>\n      <td>599670338</td>\n      <td>2024-04-25 17:34:53</td>\n      <td>2024-04-25 19:29:47</td>\n      <td>178141</td>\n      <td>1065600</td>\n      <td>1065600.0</td>\n      <td>2024-04-26 00:52:47.247838</td>\n    </tr>\n    <tr>\n      <th>2</th>\n      <td>289833600</td>\n      <td>289833599</td>\n      <td>50</td>\n      <td>REL</td>\n      <td>PIC</td>\n      <td>13091411</td>\n      <td>1</td>\n      <td>H</td>\n      <td>1</td>\n      <td>H</td>\n      <td>...</td>\n      <td>41492163</td>\n      <td>289835037</td>\n      <td>289835121</td>\n      <td>599596179</td>\n      <td>2024-04-25 15:24:37</td>\n      <td>2024-04-25 16:42:37</td>\n      <td>LAESSIG</td>\n      <td>696672</td>\n      <td>696672.0</td>\n      <td>2024-04-26 00:52:47.247838</td>\n    </tr>\n    <tr>\n      <th>3</th>\n      <td>289815260</td>\n      <td>289815259</td>\n      <td>50</td>\n      <td>REL</td>\n      <td>PIC</td>\n      <td>9636829</td>\n      <td>0</td>\n      <td>H</td>\n      <td>0</td>\n      <td>H</td>\n      <td>...</td>\n      <td>41491410</td>\n      <td>289815703</td>\n      <td>289815805</td>\n      <td>599541258</td>\n      <td>2024-04-25 14:34:37</td>\n      <td>2024-04-25 14:56:15</td>\n      <td>GUERBUEZ</td>\n      <td>299376</td>\n      <td>299376.0</td>\n      <td>2024-04-26 00:52:47.247838</td>\n    </tr>\n    <tr>\n      <th>4</th>\n      <td>289839098</td>\n      <td>289839097</td>\n      <td>50</td>\n      <td>REL</td>\n      <td>PIC</td>\n      <td>16359571</td>\n      <td>1</td>\n      <td>H</td>\n      <td>1</td>\n      <td>H</td>\n      <td>...</td>\n      <td>41492589</td>\n      <td>289840157</td>\n      <td>289725531</td>\n      <td>599576127</td>\n      <td>2024-04-25 15:39:56</td>\n      <td>2024-04-25 16:03:15</td>\n      <td>104044</td>\n      <td>1706600</td>\n      <td>1706600.0</td>\n      <td>2024-04-26 00:52:47.247838</td>\n    </tr>\n  </tbody>\n</table>\n<p>5 rows × 33 columns</p>\n</div>"
     },
     "metadata": {},
     "output_type": "display_data"
    }
   ],
   "source": [
    "import pandas as pd\n",
    "\n",
    "df = pd.read_csv('../Data/bewegungen.csv')\n",
    "display(df.head())"
   ],
   "metadata": {
    "collapsed": false,
    "ExecuteTime": {
     "end_time": "2024-11-25T13:41:59.933111Z",
     "start_time": "2024-11-25T13:41:18.743831Z"
    }
   },
   "id": "8397aad28940f7df",
   "execution_count": 6
  },
  {
   "metadata": {},
   "cell_type": "markdown",
   "source": [
    "https://www.geeksforgeeks.org/data-cleansing-introduction/"
   ],
   "id": "88d5e51527b5ff4a"
  },
  {
   "cell_type": "code",
   "id": "initial_id",
   "metadata": {
    "collapsed": true,
    "ExecuteTime": {
     "end_time": "2024-11-24T17:46:15.292919Z",
     "start_time": "2024-11-24T17:45:50.935148Z"
    }
   },
   "source": [
    "import pandas as pd\n",
    "\n",
    "# Load the dataset, parsing the date columns\n",
    "df = pd.read_csv(\n",
    "    '../Data/listen.csv',\n",
    "    parse_dates=['CRTDAT', 'TRNDAT', 'LOADDAT'],  # Specify date columns\n",
    "    dtype={'STATUS': 'category', 'CUSNUM': 'category'},  # Set STATUS as categorical\n",
    "    low_memory=True\n",
    ")\n",
    "for col in ['CRTDAT', 'TRNDAT', 'LOADDAT']:\n",
    "    df[col] = df[col].dt.floor('s')  # Truncate to seconds, as pandas defaults to [ns] (nanoseconds)\n",
    "\n",
    "# Verify the data types\n",
    "df.info()\n",
    "df.head()"
   ],
   "outputs": [
    {
     "name": "stdout",
     "output_type": "stream",
     "text": [
      "<class 'pandas.core.frame.DataFrame'>\n",
      "RangeIndex: 6329576 entries, 0 to 6329575\n",
      "Data columns (total 18 columns):\n",
      " #   Column   Dtype         \n",
      "---  ------   -----         \n",
      " 0   LISNUM   int64         \n",
      " 1   SUMLIS   int64         \n",
      " 2   STATUS   category      \n",
      " 3   PRIO     int64         \n",
      " 4   PZ       object        \n",
      " 5   RELNUM   int64         \n",
      " 6   PICTYP   object        \n",
      " 7   CUSNUM   category      \n",
      " 8   DSPADR   object        \n",
      " 9   BNDCRI   object        \n",
      " 10  PICCOD   object        \n",
      " 11  LMTYPE   object        \n",
      " 12  ACTLMT   object        \n",
      " 13  CRTDAT   datetime64[ns]\n",
      " 14  TRNDAT   datetime64[ns]\n",
      " 15  USERID   object        \n",
      " 16  TRNNUM   int64         \n",
      " 17  LOADDAT  datetime64[ns]\n",
      "dtypes: category(2), datetime64[ns](3), int64(5), object(8)\n",
      "memory usage: 791.4+ MB\n"
     ]
    },
    {
     "data": {
      "text/plain": [
       "      LISNUM     SUMLIS STATUS  PRIO        PZ    RELNUM PICTYP  CUSNUM  \\\n",
       "0  283588961  283537118     90    40  RAYON_15  41131539    STD   48000   \n",
       "1  283599784  283589276     90    22  RAYON_01  41133528    STD  127652   \n",
       "2  283411542  283411557     90    25  RAYON_26  41121265    STD   42307   \n",
       "3  283419510  283404790     90    40  RAYON_03  41121830    STD   46572   \n",
       "4  283531675  283531676     90    40  RAYON_24  41129608    STD  176099   \n",
       "\n",
       "                             DSPADR                            BNDCRI  \\\n",
       "0  7e8e1a04425501ad7a285bb1811fc932  c12c5ab449d7a7bb84c7452ed84aa407   \n",
       "1  6ed07c49b0db493c6c51d1c45b73d930  67d3b1f777ad038d9ae94ea0005d4167   \n",
       "2  0221db771ad882515b8bcbb9d00f2049  660fc5d208ac5bbceea87e54b92592a7   \n",
       "3  5909aa790ab6ad7083bcb1d44fa513b8  67d3b1f777ad038d9ae94ea0005d4167   \n",
       "4  ca7f2e9124cf10603a5ae82a26f20d69  67d3b1f777ad038d9ae94ea0005d4167   \n",
       "\n",
       "    PICCOD LMTYPE ACTLMT              CRTDAT              TRNDAT  \\\n",
       "0     BS17     BK    NaN 2024-03-20 17:02:38 2024-03-20 18:12:49   \n",
       "1     BS17     BK    NaN 2024-03-20 17:35:25 2024-03-20 18:54:15   \n",
       "2  VREM_LB     BG     BG 2024-03-20 07:26:26 2024-03-20 08:26:52   \n",
       "3     BS17     BG     BG 2024-03-20 08:20:24 2024-03-20 09:13:47   \n",
       "4     BS08     BK     BK 2024-03-20 14:20:24 2024-03-20 14:42:35   \n",
       "\n",
       "            USERID     TRNNUM             LOADDAT  \n",
       "0           116497  546327163 2024-03-21 01:55:12  \n",
       "1            87594  546340919 2024-03-21 01:55:12  \n",
       "2           171411  545957097 2024-03-21 01:55:12  \n",
       "3           165350  545984825 2024-03-21 01:55:12  \n",
       "4  COMMANDLISTENER  546213070 2024-03-21 01:55:12  "
      ],
      "text/html": [
       "<div>\n",
       "<style scoped>\n",
       "    .dataframe tbody tr th:only-of-type {\n",
       "        vertical-align: middle;\n",
       "    }\n",
       "\n",
       "    .dataframe tbody tr th {\n",
       "        vertical-align: top;\n",
       "    }\n",
       "\n",
       "    .dataframe thead th {\n",
       "        text-align: right;\n",
       "    }\n",
       "</style>\n",
       "<table border=\"1\" class=\"dataframe\">\n",
       "  <thead>\n",
       "    <tr style=\"text-align: right;\">\n",
       "      <th></th>\n",
       "      <th>LISNUM</th>\n",
       "      <th>SUMLIS</th>\n",
       "      <th>STATUS</th>\n",
       "      <th>PRIO</th>\n",
       "      <th>PZ</th>\n",
       "      <th>RELNUM</th>\n",
       "      <th>PICTYP</th>\n",
       "      <th>CUSNUM</th>\n",
       "      <th>DSPADR</th>\n",
       "      <th>BNDCRI</th>\n",
       "      <th>PICCOD</th>\n",
       "      <th>LMTYPE</th>\n",
       "      <th>ACTLMT</th>\n",
       "      <th>CRTDAT</th>\n",
       "      <th>TRNDAT</th>\n",
       "      <th>USERID</th>\n",
       "      <th>TRNNUM</th>\n",
       "      <th>LOADDAT</th>\n",
       "    </tr>\n",
       "  </thead>\n",
       "  <tbody>\n",
       "    <tr>\n",
       "      <th>0</th>\n",
       "      <td>283588961</td>\n",
       "      <td>283537118</td>\n",
       "      <td>90</td>\n",
       "      <td>40</td>\n",
       "      <td>RAYON_15</td>\n",
       "      <td>41131539</td>\n",
       "      <td>STD</td>\n",
       "      <td>48000</td>\n",
       "      <td>7e8e1a04425501ad7a285bb1811fc932</td>\n",
       "      <td>c12c5ab449d7a7bb84c7452ed84aa407</td>\n",
       "      <td>BS17</td>\n",
       "      <td>BK</td>\n",
       "      <td>NaN</td>\n",
       "      <td>2024-03-20 17:02:38</td>\n",
       "      <td>2024-03-20 18:12:49</td>\n",
       "      <td>116497</td>\n",
       "      <td>546327163</td>\n",
       "      <td>2024-03-21 01:55:12</td>\n",
       "    </tr>\n",
       "    <tr>\n",
       "      <th>1</th>\n",
       "      <td>283599784</td>\n",
       "      <td>283589276</td>\n",
       "      <td>90</td>\n",
       "      <td>22</td>\n",
       "      <td>RAYON_01</td>\n",
       "      <td>41133528</td>\n",
       "      <td>STD</td>\n",
       "      <td>127652</td>\n",
       "      <td>6ed07c49b0db493c6c51d1c45b73d930</td>\n",
       "      <td>67d3b1f777ad038d9ae94ea0005d4167</td>\n",
       "      <td>BS17</td>\n",
       "      <td>BK</td>\n",
       "      <td>NaN</td>\n",
       "      <td>2024-03-20 17:35:25</td>\n",
       "      <td>2024-03-20 18:54:15</td>\n",
       "      <td>87594</td>\n",
       "      <td>546340919</td>\n",
       "      <td>2024-03-21 01:55:12</td>\n",
       "    </tr>\n",
       "    <tr>\n",
       "      <th>2</th>\n",
       "      <td>283411542</td>\n",
       "      <td>283411557</td>\n",
       "      <td>90</td>\n",
       "      <td>25</td>\n",
       "      <td>RAYON_26</td>\n",
       "      <td>41121265</td>\n",
       "      <td>STD</td>\n",
       "      <td>42307</td>\n",
       "      <td>0221db771ad882515b8bcbb9d00f2049</td>\n",
       "      <td>660fc5d208ac5bbceea87e54b92592a7</td>\n",
       "      <td>VREM_LB</td>\n",
       "      <td>BG</td>\n",
       "      <td>BG</td>\n",
       "      <td>2024-03-20 07:26:26</td>\n",
       "      <td>2024-03-20 08:26:52</td>\n",
       "      <td>171411</td>\n",
       "      <td>545957097</td>\n",
       "      <td>2024-03-21 01:55:12</td>\n",
       "    </tr>\n",
       "    <tr>\n",
       "      <th>3</th>\n",
       "      <td>283419510</td>\n",
       "      <td>283404790</td>\n",
       "      <td>90</td>\n",
       "      <td>40</td>\n",
       "      <td>RAYON_03</td>\n",
       "      <td>41121830</td>\n",
       "      <td>STD</td>\n",
       "      <td>46572</td>\n",
       "      <td>5909aa790ab6ad7083bcb1d44fa513b8</td>\n",
       "      <td>67d3b1f777ad038d9ae94ea0005d4167</td>\n",
       "      <td>BS17</td>\n",
       "      <td>BG</td>\n",
       "      <td>BG</td>\n",
       "      <td>2024-03-20 08:20:24</td>\n",
       "      <td>2024-03-20 09:13:47</td>\n",
       "      <td>165350</td>\n",
       "      <td>545984825</td>\n",
       "      <td>2024-03-21 01:55:12</td>\n",
       "    </tr>\n",
       "    <tr>\n",
       "      <th>4</th>\n",
       "      <td>283531675</td>\n",
       "      <td>283531676</td>\n",
       "      <td>90</td>\n",
       "      <td>40</td>\n",
       "      <td>RAYON_24</td>\n",
       "      <td>41129608</td>\n",
       "      <td>STD</td>\n",
       "      <td>176099</td>\n",
       "      <td>ca7f2e9124cf10603a5ae82a26f20d69</td>\n",
       "      <td>67d3b1f777ad038d9ae94ea0005d4167</td>\n",
       "      <td>BS08</td>\n",
       "      <td>BK</td>\n",
       "      <td>BK</td>\n",
       "      <td>2024-03-20 14:20:24</td>\n",
       "      <td>2024-03-20 14:42:35</td>\n",
       "      <td>COMMANDLISTENER</td>\n",
       "      <td>546213070</td>\n",
       "      <td>2024-03-21 01:55:12</td>\n",
       "    </tr>\n",
       "  </tbody>\n",
       "</table>\n",
       "</div>"
      ]
     },
     "execution_count": 26,
     "metadata": {},
     "output_type": "execute_result"
    }
   ],
   "execution_count": 26
  },
  {
   "metadata": {
    "ExecuteTime": {
     "end_time": "2024-11-24T18:28:12.362034Z",
     "start_time": "2024-11-24T18:28:12.301981Z"
    }
   },
   "cell_type": "code",
   "source": [
    "unique_values_count = df['PRIO'].nunique()\n",
    "print(f\"Number of unique values in CUSNUM: {unique_values_count}\")"
   ],
   "id": "ed08263423770d4f",
   "outputs": [
    {
     "name": "stdout",
     "output_type": "stream",
     "text": [
      "Number of unique values in CUSNUM: 57\n"
     ]
    }
   ],
   "execution_count": 29
  },
  {
   "metadata": {
    "ExecuteTime": {
     "end_time": "2024-11-24T18:31:35.179536Z",
     "start_time": "2024-11-24T18:31:30.497288Z"
    }
   },
   "cell_type": "code",
   "source": [
    "# Counts unique of all columns\n",
    "unique_counts = df.nunique()\n",
    "print(unique_counts)"
   ],
   "id": "1216666786f8014e",
   "outputs": [
    {
     "name": "stdout",
     "output_type": "stream",
     "text": [
      "LISNUM     6329576\n",
      "SUMLIS     1703057\n",
      "STATUS           5\n",
      "PRIO            57\n",
      "PZ              33\n",
      "RELNUM       79240\n",
      "PICTYP           4\n",
      "CUSNUM       16241\n",
      "DSPADR      346094\n",
      "BNDCRI      422506\n",
      "PICCOD          64\n",
      "LMTYPE           4\n",
      "ACTLMT           5\n",
      "CRTDAT      364998\n",
      "TRNDAT     4715711\n",
      "USERID         352\n",
      "TRNNUM     5604544\n",
      "LOADDAT        409\n",
      "dtype: int64\n"
     ]
    }
   ],
   "execution_count": 30
  },
  {
   "metadata": {},
   "cell_type": "markdown",
   "source": [],
   "id": "3018cb760b77f6db"
  },
  {
   "metadata": {
    "ExecuteTime": {
     "end_time": "2024-11-24T17:20:56.479095Z",
     "start_time": "2024-11-24T17:20:56.464079Z"
    }
   },
   "cell_type": "code",
   "source": [
    "for col in df.columns:\n",
    "    print(f\"{col}: {df[col].dtype}\")\n"
   ],
   "id": "83bdba629972105",
   "outputs": [
    {
     "name": "stdout",
     "output_type": "stream",
     "text": [
      "LISNUM: int64\n",
      "SUMLIS: int64\n",
      "STATUS: int64\n",
      "PRIO: int64\n",
      "PZ: object\n",
      "RELNUM: int64\n",
      "PICTYP: object\n",
      "CUSNUM: int64\n",
      "DSPADR: object\n",
      "BNDCRI: object\n",
      "PICCOD: object\n",
      "LMTYPE: object\n",
      "ACTLMT: object\n",
      "CRTDAT: datetime64[ns]\n",
      "TRNDAT: datetime64[ns]\n",
      "USERID: object\n",
      "TRNNUM: int64\n",
      "LOADDAT: datetime64[ns]\n"
     ]
    }
   ],
   "execution_count": 20
  },
  {
   "metadata": {},
   "cell_type": "markdown",
   "source": [
    "#### Data Inspection and Exploration\n",
    "-checking for duplicated entries\n",
    "-check data information using df.info()\n"
   ],
   "id": "200b1622a5be2d60"
  },
  {
   "metadata": {
    "ExecuteTime": {
     "end_time": "2024-11-24T17:05:45.540147Z",
     "start_time": "2024-11-24T17:05:29.376051Z"
    }
   },
   "cell_type": "code",
   "source": [
    "df.duplicated()"
   ],
   "id": "ba8dcb17c8aa4bb9",
   "outputs": [
    {
     "data": {
      "text/plain": [
       "0          False\n",
       "1          False\n",
       "2          False\n",
       "3          False\n",
       "4          False\n",
       "           ...  \n",
       "6329571    False\n",
       "6329572    False\n",
       "6329573    False\n",
       "6329574    False\n",
       "6329575    False\n",
       "Length: 6329576, dtype: bool"
      ]
     },
     "execution_count": 14,
     "metadata": {},
     "output_type": "execute_result"
    }
   ],
   "execution_count": 14
  },
  {
   "metadata": {},
   "cell_type": "code",
   "outputs": [],
   "execution_count": null,
   "source": [],
   "id": "12e013ef71d6114c"
  }
 ],
 "metadata": {
  "kernelspec": {
   "display_name": "Python 3",
   "language": "python",
   "name": "python3"
  },
  "language_info": {
   "codemirror_mode": {
    "name": "ipython",
    "version": 2
   },
   "file_extension": ".py",
   "mimetype": "text/x-python",
   "name": "python",
   "nbconvert_exporter": "python",
   "pygments_lexer": "ipython2",
   "version": "2.7.6"
  }
 },
 "nbformat": 4,
 "nbformat_minor": 5
}
