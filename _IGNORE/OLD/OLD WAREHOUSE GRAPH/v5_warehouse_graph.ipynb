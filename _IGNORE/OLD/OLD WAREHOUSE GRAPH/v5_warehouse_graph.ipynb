{
 "cells": [
  {
   "cell_type": "code",
   "execution_count": null,
   "id": "initial_id",
   "metadata": {
    "collapsed": true,
    "ExecuteTime": {
     "end_time": "2024-11-18T19:12:54.765617Z",
     "start_time": "2024-11-18T19:12:54.762953Z"
    }
   },
   "outputs": [],
   "source": []
  },
  {
   "cell_type": "code",
   "outputs": [],
   "source": [
    "import numpy as np\n",
    "from shapely.geometry import Polygon, LineString\n",
    "\n",
    "def generate_racks(rows, cols, rack_width=1000, rack_height=4000, walkway_width=2000):\n",
    "    \"\"\"\n",
    "    Generates rack polygons in a traditional warehouse layout.\n",
    "    :param rows: Number of rows of racks\n",
    "    :param cols: Number of columns of racks\n",
    "    :param rack_width: Width of each rack in mm\n",
    "    :param rack_height: Height of each rack in mm\n",
    "    :param walkway_width: Width of walkways between racks in mm\n",
    "    :return: (list of polygons representing racks, list of all vertices)\n",
    "    \"\"\"\n",
    "    rack_polygons = []\n",
    "    vertices = []\n",
    "\n",
    "    for row in range(rows):\n",
    "        for col in range(cols):\n",
    "            # Bottom-left corner of the rack\n",
    "            x_start = col * (rack_width + walkway_width)\n",
    "            y_start = row * (rack_height + walkway_width)\n",
    "\n",
    "            # Create a polygon for the rack\n",
    "            rack_polygon = Polygon([\n",
    "                (x_start, y_start),  # Bottom-left\n",
    "                (x_start, y_start + rack_height),  # Top-left\n",
    "                (x_start + rack_width, y_start + rack_height),  # Top-right\n",
    "                (x_start + rack_width, y_start)  # Bottom-right\n",
    "            ])\n",
    "            rack_polygons.append(rack_polygon)\n",
    "\n",
    "            # Add the rack's vertices to the vertex list\n",
    "            vertices.extend([\n",
    "                (x_start, y_start),\n",
    "                (x_start, y_start + rack_height),\n",
    "                (x_start + rack_width, y_start + rack_height),\n",
    "                (x_start + rack_width, y_start)\n",
    "            ])\n",
    "\n",
    "    return rack_polygons, vertices\n",
    "\n",
    "\n",
    "def generate_dummy_obstacles(vertices, path_width=1200):\n",
    "    \"\"\"\n",
    "    Generates dummy obstacles to block paths narrower than a specified width.\n",
    "    :param vertices: List of vertices (points) representing waypoints\n",
    "    :param path_width: Minimum allowed width for valid paths in mm\n",
    "    :return: List of dummy obstacle polygons\n",
    "    \"\"\"\n",
    "    dummy_obstacles = []\n",
    "    for i in range(0, len(vertices), 2):  # Assume sequential pairs of vertices\n",
    "        x1, y1 = vertices[i]\n",
    "        x2, y2 = vertices[i + 1] if i + 1 < len(vertices) else (x1, y1)\n",
    "\n",
    "        # If the distance between vertices is less than the minimum path width\n",
    "        if abs(x2 - x1) < path_width and abs(y2 - y1) < path_width:\n",
    "            dummy_obstacle = Polygon([\n",
    "                (x1 - path_width / 2, y1 - path_width / 2),\n",
    "                (x1 + path_width / 2, y1 - path_width / 2),\n",
    "                (x1 + path_width / 2, y1 + path_width / 2),\n",
    "                (x1 - path_width / 2, y1 + path_width / 2)\n",
    "            ])\n",
    "            dummy_obstacles.append(dummy_obstacle)\n",
    "\n",
    "    return dummy_obstacles\n",
    "\n",
    "\n",
    "def generate_adjacency_matrix(vertices, polygons):\n",
    "    \"\"\"\n",
    "    Generates the adjacency matrix for vertices with polygons as obstacles.\n",
    "    :param vertices: List of (x, y) coordinates representing vertices\n",
    "    :param polygons: List of polygon obstacles\n",
    "    :return: N-by-N binary adjacency matrix\n",
    "    \"\"\"\n",
    "    N = len(vertices)\n",
    "    adjMat = np.ones((N, N), dtype=int)  # Start with all connections allowed\n",
    "\n",
    "    for i in range(N):\n",
    "        for j in range(i + 1, N):  # Check pairs of vertices\n",
    "            if i != j:\n",
    "                line = LineString([vertices[i], vertices[j]])  # Line segment\n",
    "\n",
    "                # Check if the line intersects any polygon\n",
    "                for poly in polygons:\n",
    "                    if line.intersects(poly):\n",
    "                        adjMat[i, j] = 0  # Block the connection\n",
    "                        adjMat[j, i] = 0  # Symmetry\n",
    "                        break\n",
    "\n",
    "    return adjMat\n"
   ],
   "metadata": {
    "collapsed": false,
    "ExecuteTime": {
     "end_time": "2024-11-18T19:12:54.820773Z",
     "start_time": "2024-11-18T19:12:54.769507Z"
    }
   },
   "id": "a5827a2159c1cbbb",
   "execution_count": 1
  },
  {
   "cell_type": "code",
   "outputs": [],
   "source": [],
   "metadata": {
    "collapsed": false,
    "ExecuteTime": {
     "end_time": "2024-11-18T19:12:54.824344Z",
     "start_time": "2024-11-18T19:12:54.820908Z"
    }
   },
   "id": "b20b0299c626684c",
   "execution_count": 1
  },
  {
   "cell_type": "code",
   "outputs": [
    {
     "name": "stdout",
     "output_type": "stream",
     "text": [
      "Adjacency Matrix:\n",
      "[[1 0 0 ... 0 0 0]\n",
      " [0 1 0 ... 0 0 0]\n",
      " [0 0 1 ... 0 0 0]\n",
      " ...\n",
      " [0 0 0 ... 1 0 0]\n",
      " [0 0 0 ... 0 1 0]\n",
      " [0 0 0 ... 0 0 1]]\n"
     ]
    }
   ],
   "source": [
    "# Define layout parameters\n",
    "rows = 4\n",
    "cols = 5\n",
    "rack_width = 1000\n",
    "rack_height = 4000\n",
    "walkway_width = 2000\n",
    "min_path_width = 1200\n",
    "\n",
    "# Generate racks and vertices\n",
    "rack_polygons, vertices = generate_racks(rows, cols, rack_width, rack_height, walkway_width)\n",
    "\n",
    "# Generate dummy obstacles for narrow paths\n",
    "dummy_obstacles = generate_dummy_obstacles(vertices, path_width=min_path_width)\n",
    "\n",
    "# Combine racks and dummy obstacles into the polygon list\n",
    "polygons = rack_polygons + dummy_obstacles\n",
    "\n",
    "# Generate adjacency matrix\n",
    "adjMat = generate_adjacency_matrix(vertices, polygons)\n",
    "\n",
    "# Print adjacency matrix\n",
    "print(\"Adjacency Matrix:\")\n",
    "print(adjMat)\n"
   ],
   "metadata": {
    "collapsed": false,
    "ExecuteTime": {
     "end_time": "2024-11-18T19:12:54.923834Z",
     "start_time": "2024-11-18T19:12:54.822459Z"
    }
   },
   "id": "9a0b1236075145ca",
   "execution_count": 2
  },
  {
   "cell_type": "code",
   "outputs": [
    {
     "data": {
      "text/plain": "<Figure size 1000x800 with 1 Axes>",
      "image/png": "[encoded data removed]"
     },
     "metadata": {},
     "output_type": "display_data"
    }
   ],
   "source": [
    "import matplotlib.pyplot as plt\n",
    "\n",
    "def visualize_layout(vertices, polygons, adjMat):\n",
    "    \"\"\"\n",
    "    Visualizes the rack layout, dummy obstacles, and valid edges.\n",
    "    :param vertices: List of vertices\n",
    "    :param polygons: List of polygons (racks and obstacles)\n",
    "    :param adjMat: Adjacency matrix\n",
    "    \"\"\"\n",
    "    fig, ax = plt.subplots(figsize=(10, 8))\n",
    "\n",
    "    # Plot polygons (racks and obstacles)\n",
    "    for poly in polygons:\n",
    "        x, y = poly.exterior.xy\n",
    "        ax.fill(x, y, alpha=0.5, fc='red', ec='black')  # Obstacle\n",
    "\n",
    "    # Plot vertices\n",
    "    for x, y in vertices:\n",
    "        ax.plot(x, y, 'bo')  # Vertex point\n",
    "\n",
    "    # Plot edges based on adjacency matrix\n",
    "    N = len(vertices)\n",
    "    for i in range(N):\n",
    "        for j in range(i + 1, N):\n",
    "            if adjMat[i, j] == 1:\n",
    "                x_coords = [vertices[i][0], vertices[j][0]]\n",
    "                y_coords = [vertices[i][1], vertices[j][1]]\n",
    "                ax.plot(x_coords, y_coords, 'g-')  # Valid edge\n",
    "\n",
    "    plt.title(\"Rack Layout with Valid Paths\")\n",
    "    plt.xlabel(\"X (mm)\")\n",
    "    plt.ylabel(\"Y (mm)\")\n",
    "    plt.gca().set_aspect('equal', adjustable='box')\n",
    "    plt.show()\n",
    "\n",
    "# Visualize the layout\n",
    "visualize_layout(vertices, polygons, adjMat)\n"
   ],
   "metadata": {
    "collapsed": false,
    "ExecuteTime": {
     "end_time": "2024-11-18T19:12:55.207218Z",
     "start_time": "2024-11-18T19:12:54.925288Z"
    }
   },
   "id": "c18fd7736ae4a9c0",
   "execution_count": 3
  }
 ],
 "metadata": {
  "kernelspec": {
   "display_name": "Python 3",
   "language": "python",
   "name": "python3"
  },
  "language_info": {
   "codemirror_mode": {
    "name": "ipython",
    "version": 2
   },
   "file_extension": ".py",
   "mimetype": "text/x-python",
   "name": "python",
   "nbconvert_exporter": "python",
   "pygments_lexer": "ipython2",
   "version": "2.7.6"
  }
 },
 "nbformat": 4,
 "nbformat_minor": 5
}
